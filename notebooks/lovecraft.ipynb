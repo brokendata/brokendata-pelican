{
 "metadata": {
  "name": "",
  "signature": "sha256:fc722410b3adda69c36b8a50f9f8744368c5136f318ff330ac94baf7af9567b8"
 },
 "nbformat": 3,
 "nbformat_minor": 0,
 "worksheets": [
  {
   "cells": [
    {
     "cell_type": "markdown",
     "metadata": {},
     "source": [
      "## Data Craft With HP. Lovecraft ## "
     ]
    },
    {
     "cell_type": "code",
     "collapsed": false,
     "input": [
      "from bs4 import BeautifulSoup\n",
      "import re\n",
      "import urllib2\n",
      "import pandas as pd \n",
      "import nltk \n",
      "import itertools\n",
      "import pickle\n",
      "import numpy as np\n",
      "import mpld3\n",
      "from collections import defaultdict\n",
      "from matplotlib import pyplot as plt\n",
      "\n",
      "pd.set_option('display.max_columns', 20)\n",
      "pd.set_option('display.max_rows', 10)\n",
      "%pylab inline\n",
      "%matplotlib inline  "
     ],
     "language": "python",
     "metadata": {},
     "outputs": [
      {
       "output_type": "stream",
       "stream": "stdout",
       "text": [
        "Populating the interactive namespace from numpy and matplotlib\n"
       ]
      }
     ],
     "prompt_number": 2
    },
    {
     "cell_type": "markdown",
     "metadata": {},
     "source": [
      "##Wrangle some Data ##"
     ]
    },
    {
     "cell_type": "code",
     "collapsed": false,
     "input": [
      "ROOT = 'http://www.psy-q.ch/lovecraft/html/'\n",
      "data = urllib2.urlopen(ROOT)"
     ],
     "language": "python",
     "metadata": {},
     "outputs": [],
     "prompt_number": 219
    },
    {
     "cell_type": "code",
     "collapsed": false,
     "input": [
      "doc = BeautifulSoup(data)"
     ],
     "language": "python",
     "metadata": {},
     "outputs": [],
     "prompt_number": 220
    },
    {
     "cell_type": "code",
     "collapsed": false,
     "input": [
      "links = [ROOT+link.get('href') for link in doc.find_all('a') if 'txt'in link.get('href') ]\n",
      "links[:5]"
     ],
     "language": "python",
     "metadata": {},
     "outputs": [
      {
       "metadata": {},
       "output_type": "pyout",
       "prompt_number": 227,
       "text": [
        "['http://www.psy-q.ch/lovecraft/html/alchemis.txt',\n",
        " 'http://www.psy-q.ch/lovecraft/html/mountains.txt',\n",
        " 'http://www.psy-q.ch/lovecraft/html/azathoth.txt',\n",
        " 'http://www.psy-q.ch/lovecraft/html/cave.txt',\n",
        " 'http://www.psy-q.ch/lovecraft/html/sleep.txt']"
       ]
      }
     ],
     "prompt_number": 227
    },
    {
     "cell_type": "markdown",
     "metadata": {},
     "source": [
      "At this point we have all the links we need to visit the pages containing all of Lovecrafts work. We need a couple helper functions to munge this data into the shape we need. We are aiming to have a DataFrame with where the columns are the Title, Text, and Publication Date "
     ]
    },
    {
     "cell_type": "code",
     "collapsed": false,
     "input": [
      "def get_titles(page): \n",
      "    dirty_titles = page.find_all('li')\n",
      "    \n",
      "    clean_titles = []\n",
      "    for title in dirty_titles: \n",
      "        title = str(title)\n",
      "        title = title.split('[')[0] \n",
      "        title = title.replace('<li>','')\n",
      "        title = title.strip()\n",
      "        clean_titles.append(title)\n",
      "    return clean_titles"
     ],
     "language": "python",
     "metadata": {},
     "outputs": [],
     "prompt_number": 222
    },
    {
     "cell_type": "code",
     "collapsed": false,
     "input": [
      "def get_text(link):  \n",
      "    doc = urllib2.urlopen(link).read()\n",
      "    return doc\n",
      "        "
     ],
     "language": "python",
     "metadata": {},
     "outputs": [],
     "prompt_number": 223
    },
    {
     "cell_type": "code",
     "collapsed": false,
     "input": [
      "def get_date(text): \n",
      "    date_text = re.findall(r'Written\\s.*',text)\n",
      "    if date_text:     \n",
      "        date = re.findall(r'\\d+',date_text[0])\n",
      "        if date:\n",
      "            year = max(map(int,date))\n",
      "            return year"
     ],
     "language": "python",
     "metadata": {},
     "outputs": [],
     "prompt_number": 224
    },
    {
     "cell_type": "markdown",
     "metadata": {},
     "source": [
      "Now that we have our links and our helper functions, we can create the data structure. \n",
      "First we create the titles from parsing the index page. Then we lazily iterate the link list and the title list at the same time using izip. The default dict will get our data in the correct structure for the the Pandas DataFrame constructor "
     ]
    },
    {
     "cell_type": "code",
     "collapsed": false,
     "input": [
      "titles = get_titles(doc)\n",
      "titles[:5]"
     ],
     "language": "python",
     "metadata": {},
     "outputs": [
      {
       "metadata": {},
       "output_type": "pyout",
       "prompt_number": 226,
       "text": [
        "['The Alchemist',\n",
        " 'At the Mountains of Madness',\n",
        " 'Azathoth',\n",
        " 'The Beast in the Cave',\n",
        " 'Beyond the Wall of Sleep']"
       ]
      }
     ],
     "prompt_number": 226
    },
    {
     "cell_type": "code",
     "collapsed": false,
     "input": [
      "lovecraft = defaultdict(list)\n",
      "\n",
      "for (title,link) in itertools.izip(titles,links): \n",
      "    text = get_text(link)\n",
      "    date = get_date(text)\n",
      "    lovecraft['date'].append(date )\n",
      "    lovecraft['title'].append(title)\n",
      "    lovecraft['text'].append(text)"
     ],
     "language": "python",
     "metadata": {},
     "outputs": [],
     "prompt_number": 228
    },
    {
     "cell_type": "markdown",
     "metadata": {},
     "source": [
      "Once we have the articles in a dictionary we can pickle the object for later"
     ]
    },
    {
     "cell_type": "code",
     "collapsed": false,
     "input": [
      "import pickle\n",
      "pickle.dump(lovecraft,open( \"lovecraft.p\", \"wb\" ))"
     ],
     "language": "python",
     "metadata": {},
     "outputs": [
      {
       "ename": "NameError",
       "evalue": "name 'lovecraft' is not defined",
       "output_type": "pyerr",
       "traceback": [
        "\u001b[1;31m---------------------------------------------------------------------------\u001b[0m\n\u001b[1;31mNameError\u001b[0m                                 Traceback (most recent call last)",
        "\u001b[1;32m<ipython-input-7-6dfeba8d28d7>\u001b[0m in \u001b[0;36m<module>\u001b[1;34m()\u001b[0m\n\u001b[0;32m      1\u001b[0m \u001b[1;32mimport\u001b[0m \u001b[0mpickle\u001b[0m\u001b[1;33m\u001b[0m\u001b[0m\n\u001b[1;32m----> 2\u001b[1;33m \u001b[0mpickle\u001b[0m\u001b[1;33m.\u001b[0m\u001b[0mdump\u001b[0m\u001b[1;33m(\u001b[0m\u001b[0mlovecraft\u001b[0m\u001b[1;33m,\u001b[0m\u001b[0mopen\u001b[0m\u001b[1;33m(\u001b[0m \u001b[1;34m\"lovecraft.p\"\u001b[0m\u001b[1;33m,\u001b[0m \u001b[1;34m\"wb\"\u001b[0m \u001b[1;33m)\u001b[0m\u001b[1;33m)\u001b[0m\u001b[1;33m\u001b[0m\u001b[0m\n\u001b[0m",
        "\u001b[1;31mNameError\u001b[0m: name 'lovecraft' is not defined"
       ]
      }
     ],
     "prompt_number": 7
    },
    {
     "cell_type": "markdown",
     "metadata": {},
     "source": [
      "And we can then read in the serialized object"
     ]
    },
    {
     "cell_type": "markdown",
     "metadata": {},
     "source": [
      "## Frequency of Other Gods, Great Old Ones etc ##"
     ]
    },
    {
     "cell_type": "code",
     "collapsed": false,
     "input": [
      "lovecraft = pickle.load(open( \"lovecraft.p\", \"rb\" ))"
     ],
     "language": "python",
     "metadata": {},
     "outputs": [],
     "prompt_number": 3
    },
    {
     "cell_type": "markdown",
     "metadata": {},
     "source": [
      "We need to get a list of all the dieties in Lovecrafts mythos -- a quick search shows an html table on wikipedia"
     ]
    },
    {
     "cell_type": "code",
     "collapsed": false,
     "input": [
      "def get_wiki_table(_url= 'http://en.wikipedia.org/wiki/Cthulhu_Mythos_deities', \n",
      "                   cnames = ['name','epithet','description','references']): \n",
      "    data = urllib2.urlopen(_url)\n",
      "    doc = BeautifulSoup(data)\n",
      "    table = doc.find(\"table\", { \"class\" : \"wikitable\"})\n",
      "    \n",
      "    dd = defaultdict(list)\n",
      "    \n",
      "    for row in table.findAll(\"tr\"): \n",
      "        cells = row.findAll(\"td\") \n",
      "        if len(cells) == len(cnames): \n",
      "            dd[cnames[0]].append(cells[0].find(text=True))\n",
      "            dd[cnames[1]].append(cells[1].find(text=True))\n",
      "            dd[cnames[2]].append(cells[2].find(text=True))\n",
      "            dd[cnames[3]].append(cells[3].find(text=True))\n",
      "    return pd.DataFrame(dd,columns = cnames)"
     ],
     "language": "python",
     "metadata": {},
     "outputs": [],
     "prompt_number": 20
    },
    {
     "cell_type": "code",
     "collapsed": false,
     "input": [
      "#old_ones = get_wiki_table()"
     ],
     "language": "python",
     "metadata": {},
     "outputs": [],
     "prompt_number": 21
    },
    {
     "cell_type": "markdown",
     "metadata": {},
     "source": [
      "At this point we have our corpra, we and we have the data in the first form we need. Now we can do some pandas wrangling"
     ]
    },
    {
     "cell_type": "code",
     "collapsed": false,
     "input": [
      "df = pd.DataFrame(lovecraft).sort('date') "
     ],
     "language": "python",
     "metadata": {},
     "outputs": [],
     "prompt_number": 4
    },
    {
     "cell_type": "markdown",
     "metadata": {},
     "source": [
      "Here we can see the basic stucture we aimed for. "
     ]
    },
    {
     "cell_type": "code",
     "collapsed": false,
     "input": [
      "df.head(10)"
     ],
     "language": "python",
     "metadata": {},
     "outputs": [
      {
       "html": [
        "<div style=\"max-height:1000px;max-width:1500px;overflow:auto;\">\n",
        "<table border=\"1\" class=\"dataframe\">\n",
        "  <thead>\n",
        "    <tr style=\"text-align: right;\">\n",
        "      <th></th>\n",
        "      <th>date</th>\n",
        "      <th>text</th>\n",
        "      <th>title</th>\n",
        "    </tr>\n",
        "  </thead>\n",
        "  <tbody>\n",
        "    <tr>\n",
        "      <th>146</th>\n",
        "      <td> 1897</td>\n",
        "      <td> The Little Glass Bottle\\n\\n  by H. P. Lovecraf...</td>\n",
        "      <td> Supernatural Horror in Literature with bibliog...</td>\n",
        "    </tr>\n",
        "    <tr>\n",
        "      <th>149</th>\n",
        "      <td> 1898</td>\n",
        "      <td> The Secret Cave\\nor John Lees adventure\\n\\n  b...</td>\n",
        "      <td>                     The Mystery of the Grave-Yard</td>\n",
        "    </tr>\n",
        "    <tr>\n",
        "      <th>148</th>\n",
        "      <td> 1898</td>\n",
        "      <td> The Mystery Of The Grave-Yard\\nor \"A Dead Man'...</td>\n",
        "      <td>                               The Mysterious Ship</td>\n",
        "    </tr>\n",
        "    <tr>\n",
        "      <th>147</th>\n",
        "      <td> 1902</td>\n",
        "      <td> The Mysteriovs Ship\\n\\n  by H. P. Lovecraft\\n\\...</td>\n",
        "      <td>                           The Little Glass Bottle</td>\n",
        "    </tr>\n",
        "    <tr>\n",
        "      <th>3  </th>\n",
        "      <td> 1905</td>\n",
        "      <td> The Beast in the Cave\\n\\n  by H. P. Lovecraft\\...</td>\n",
        "      <td>                             The Beast in the Cave</td>\n",
        "    </tr>\n",
        "    <tr>\n",
        "      <th>0  </th>\n",
        "      <td> 1908</td>\n",
        "      <td> The Alchemist\\n\\n  by H. P. Lovecraft\\n\\n     ...</td>\n",
        "      <td>                                     The Alchemist</td>\n",
        "    </tr>\n",
        "    <tr>\n",
        "      <th>58 </th>\n",
        "      <td> 1917</td>\n",
        "      <td> The Tomb\\n\\n  by H. P. Lovecraft\\n\\n          ...</td>\n",
        "      <td>                                          The Tomb</td>\n",
        "    </tr>\n",
        "    <tr>\n",
        "      <th>12 </th>\n",
        "      <td> 1917</td>\n",
        "      <td> Dagon\\n\\n  by H. P. Lovecraft\\n\\n             ...</td>\n",
        "      <td>                                             Dagon</td>\n",
        "    </tr>\n",
        "    <tr>\n",
        "      <th>46 </th>\n",
        "      <td> 1917</td>\n",
        "      <td> A Reminiscence Of Dr. Samuel Johnson\\n\\n  by H...</td>\n",
        "      <td>              A Reminiscence Of Dr. Samuel Johnson</td>\n",
        "    </tr>\n",
        "    <tr>\n",
        "      <th>77 </th>\n",
        "      <td> 1918</td>\n",
        "      <td> The Green Meadow\\n\\n  by H. P. Lovecraft and W...</td>\n",
        "      <td>         The Green Meadow with Winifred V. Jackson</td>\n",
        "    </tr>\n",
        "  </tbody>\n",
        "</table>\n",
        "</div>"
       ],
       "metadata": {},
       "output_type": "pyout",
       "prompt_number": 233,
       "text": [
        "     date                                               text  \\\n",
        "146  1897  The Little Glass Bottle\\n\\n  by H. P. Lovecraf...   \n",
        "149  1898  The Secret Cave\\nor John Lees adventure\\n\\n  b...   \n",
        "148  1898  The Mystery Of The Grave-Yard\\nor \"A Dead Man'...   \n",
        "147  1902  The Mysteriovs Ship\\n\\n  by H. P. Lovecraft\\n\\...   \n",
        "3    1905  The Beast in the Cave\\n\\n  by H. P. Lovecraft\\...   \n",
        "0    1908  The Alchemist\\n\\n  by H. P. Lovecraft\\n\\n     ...   \n",
        "58   1917  The Tomb\\n\\n  by H. P. Lovecraft\\n\\n          ...   \n",
        "12   1917  Dagon\\n\\n  by H. P. Lovecraft\\n\\n             ...   \n",
        "46   1917  A Reminiscence Of Dr. Samuel Johnson\\n\\n  by H...   \n",
        "77   1918  The Green Meadow\\n\\n  by H. P. Lovecraft and W...   \n",
        "\n",
        "                                                 title  \n",
        "146  Supernatural Horror in Literature with bibliog...  \n",
        "149                      The Mystery of the Grave-Yard  \n",
        "148                                The Mysterious Ship  \n",
        "147                            The Little Glass Bottle  \n",
        "3                                The Beast in the Cave  \n",
        "0                                        The Alchemist  \n",
        "58                                            The Tomb  \n",
        "12                                               Dagon  \n",
        "46                A Reminiscence Of Dr. Samuel Johnson  \n",
        "77           The Green Meadow with Winifred V. Jackson  "
       ]
      }
     ],
     "prompt_number": 233
    },
    {
     "cell_type": "markdown",
     "metadata": {},
     "source": [
      "This function declares declares another function inside that tokenizes sentences then tokenizes words and returns a flattend generator that can be consumed by collections.Counter. We can then access the counter dictionary based on our input word and retrieve the number of occurences, per document, of the word. "
     ]
    },
    {
     "cell_type": "code",
     "collapsed": false,
     "input": [
      "def get_wordcount(text,word): \n",
      "    \n",
      "    def l_tokenizer(text): \n",
      "        text = text.lower()\n",
      "        text.replace('\\n','')\n",
      "        sent_tokens = nltk.sent_tokenize(text)\n",
      "        word_tokens = [nltk.word_tokenize(sent) for sent in sent_tokens]\n",
      "        return itertools.chain.from_iterable(word_tokens)\n",
      "    \n",
      "    \n",
      "    word_count = collections.Counter(l_tokenizer(text))\n",
      "    return word_count[word]\n",
      "    \n",
      "    "
     ],
     "language": "python",
     "metadata": {},
     "outputs": [],
     "prompt_number": 249
    },
    {
     "cell_type": "markdown",
     "metadata": {},
     "source": [
      "We can use the above function in the following manner \n"
     ]
    },
    {
     "cell_type": "code",
     "collapsed": false,
     "input": [
      "df[\"cthulhu\"] = df.text.apply(lambda x: get_wordcount(x, 'cthulhu'))\n",
      "df[\"yog-sothoth\"] = df.text.apply(lambda x: get_wordcount(x, 'yog-sothoth'))\n",
      "df.sort(\"cthulhu\", axis=0,ascending=False).head(10)\n"
     ],
     "language": "python",
     "metadata": {},
     "outputs": [
      {
       "html": [
        "<div style=\"max-height:1000px;max-width:1500px;overflow:auto;\">\n",
        "<table border=\"1\" class=\"dataframe\">\n",
        "  <thead>\n",
        "    <tr style=\"text-align: right;\">\n",
        "      <th></th>\n",
        "      <th>date</th>\n",
        "      <th>text</th>\n",
        "      <th>title</th>\n",
        "      <th>cthulhu</th>\n",
        "      <th>yog-sothoth</th>\n",
        "    </tr>\n",
        "  </thead>\n",
        "  <tbody>\n",
        "    <tr>\n",
        "      <th>6  </th>\n",
        "      <td> 1926</td>\n",
        "      <td> The Call of Cthulhu\\n\\n  by H. P. Lovecraft\\n\\...</td>\n",
        "      <td>                               The Call of Cthulhu</td>\n",
        "      <td> 24</td>\n",
        "      <td> 0</td>\n",
        "    </tr>\n",
        "    <tr>\n",
        "      <th>1  </th>\n",
        "      <td> 1931</td>\n",
        "      <td> At the Mountains of Madness\\n\\n  by H. P. Love...</td>\n",
        "      <td>                       At the Mountains of Madness</td>\n",
        "      <td>  6</td>\n",
        "      <td> 1</td>\n",
        "    </tr>\n",
        "    <tr>\n",
        "      <th>64 </th>\n",
        "      <td> 1930</td>\n",
        "      <td> The Whisperer in Darkness\\n\\n  by H. P. Lovecr...</td>\n",
        "      <td>                         The Whisperer in Darkness</td>\n",
        "      <td>  5</td>\n",
        "      <td> 1</td>\n",
        "    </tr>\n",
        "    <tr>\n",
        "      <th>48 </th>\n",
        "      <td> 1931</td>\n",
        "      <td> The Shadow Over Innsmouth\\n\\n  by H. P. Lovecr...</td>\n",
        "      <td>                         The Shadow Over Innsmouth</td>\n",
        "      <td>  3</td>\n",
        "      <td> 0</td>\n",
        "    </tr>\n",
        "    <tr>\n",
        "      <th>75 </th>\n",
        "      <td>  NaN</td>\n",
        "      <td> The Electic Executioner\\n\\n  by H. P. Lovecraf...</td>\n",
        "      <td>   The Electric Executioner with Adolphe de Castro</td>\n",
        "      <td>  3</td>\n",
        "      <td> 0</td>\n",
        "    </tr>\n",
        "    <tr>\n",
        "      <th>80 </th>\n",
        "      <td> 1932</td>\n",
        "      <td> The Horror in the Museum\\n\\n  by H. P. Lovecra...</td>\n",
        "      <td>         The Horror in the Museum with Hazel Heald</td>\n",
        "      <td>  2</td>\n",
        "      <td> 1</td>\n",
        "    </tr>\n",
        "    <tr>\n",
        "      <th>142</th>\n",
        "      <td> 1927</td>\n",
        "      <td> History of the Necronomicon\\n\\n  by H.P. Lovec...</td>\n",
        "      <td>                             The Despised Pastoral</td>\n",
        "      <td>  2</td>\n",
        "      <td> 2</td>\n",
        "    </tr>\n",
        "    <tr>\n",
        "      <th>90 </th>\n",
        "      <td> 1933</td>\n",
        "      <td> Through the Gates of the Silver Key\\n\\n  by H....</td>\n",
        "      <td> Through the Gates of the Silver Key with E. Ho...</td>\n",
        "      <td>  1</td>\n",
        "      <td> 1</td>\n",
        "    </tr>\n",
        "    <tr>\n",
        "      <th>120</th>\n",
        "      <td>  NaN</td>\n",
        "      <td> The Messenger\\n\\n  by H.P. Lovecraft\\n\\n      ...</td>\n",
        "      <td>                                     The Messenger</td>\n",
        "      <td>  1</td>\n",
        "      <td> 0</td>\n",
        "    </tr>\n",
        "    <tr>\n",
        "      <th>85 </th>\n",
        "      <td> 1930</td>\n",
        "      <td> The Mound\\n\\n  by H. P. Lovecraft and Zealia B...</td>\n",
        "      <td>                      The Mound with Zealia Bishop</td>\n",
        "      <td>  1</td>\n",
        "      <td> 0</td>\n",
        "    </tr>\n",
        "  </tbody>\n",
        "</table>\n",
        "</div>"
       ],
       "metadata": {},
       "output_type": "pyout",
       "prompt_number": 250,
       "text": [
        "     date                                               text  \\\n",
        "6    1926  The Call of Cthulhu\\n\\n  by H. P. Lovecraft\\n\\...   \n",
        "1    1931  At the Mountains of Madness\\n\\n  by H. P. Love...   \n",
        "64   1930  The Whisperer in Darkness\\n\\n  by H. P. Lovecr...   \n",
        "48   1931  The Shadow Over Innsmouth\\n\\n  by H. P. Lovecr...   \n",
        "75    NaN  The Electic Executioner\\n\\n  by H. P. Lovecraf...   \n",
        "80   1932  The Horror in the Museum\\n\\n  by H. P. Lovecra...   \n",
        "142  1927  History of the Necronomicon\\n\\n  by H.P. Lovec...   \n",
        "90   1933  Through the Gates of the Silver Key\\n\\n  by H....   \n",
        "120   NaN  The Messenger\\n\\n  by H.P. Lovecraft\\n\\n      ...   \n",
        "85   1930  The Mound\\n\\n  by H. P. Lovecraft and Zealia B...   \n",
        "\n",
        "                                                 title  cthulhu  yog-sothoth  \n",
        "6                                  The Call of Cthulhu       24            0  \n",
        "1                          At the Mountains of Madness        6            1  \n",
        "64                           The Whisperer in Darkness        5            1  \n",
        "48                           The Shadow Over Innsmouth        3            0  \n",
        "75     The Electric Executioner with Adolphe de Castro        3            0  \n",
        "80           The Horror in the Museum with Hazel Heald        2            1  \n",
        "142                              The Despised Pastoral        2            2  \n",
        "90   Through the Gates of the Silver Key with E. Ho...        1            1  \n",
        "120                                      The Messenger        1            0  \n",
        "85                        The Mound with Zealia Bishop        1            0  "
       ]
      }
     ],
     "prompt_number": 250
    },
    {
     "cell_type": "code",
     "collapsed": false,
     "input": [
      "diety_occurences['yog-sothoth']"
     ],
     "language": "python",
     "metadata": {},
     "outputs": [
      {
       "metadata": {},
       "output_type": "pyout",
       "prompt_number": 253,
       "text": [
        "(array([[12],\n",
        "        [13],\n",
        "        [ 1],\n",
        "        [ 1],\n",
        "        [ 1],\n",
        "        [ 1]]), [1927, 1928, 1930, 1931, 1932, 1933])"
       ]
      }
     ],
     "prompt_number": 253
    },
    {
     "cell_type": "code",
     "collapsed": false,
     "input": [
      "from collections import defaultdict\n",
      "\n",
      "diety_occurences = dict()\n",
      "dieties = df.columns[~df.columns.isin(['date','text','title'])]\n",
      "\n",
      "for diety in dieties: \n",
      "    #sig_rows = df_cth = df[['date','cthulhu','title']][df[diety] > 0]\n",
      "    sig_rows = df[['date','title',diety]][df[diety] > 0]\n",
      "    agg = sig_rows.groupby('date').sum() \n",
      "    count = agg.values \n",
      "    years = map(int,agg.index)\n",
      "    tupe = tuple([count,years])\n",
      "    diety_occurences[diety] = tupe\n",
      "\n",
      "print diety_occurences"
     ],
     "language": "python",
     "metadata": {},
     "outputs": [
      {
       "output_type": "stream",
       "stream": "stdout",
       "text": [
        "{'yog-sothoth': (array([[12],\n",
        "       [13],\n",
        "       [ 1],\n",
        "       [ 1],\n",
        "       [ 1],\n",
        "       [ 1]]), [1927, 1928, 1930, 1931, 1932, 1933]), 'cthulhu': (array([[24],\n",
        "       [ 2],\n",
        "       [ 1],\n",
        "       [ 7],\n",
        "       [ 9],\n",
        "       [ 2],\n",
        "       [ 1]]), [1926, 1927, 1928, 1930, 1931, 1932, 1933])}\n"
       ]
      }
     ],
     "prompt_number": 251
    },
    {
     "cell_type": "markdown",
     "metadata": {},
     "source": [
      "We could go crazy here and use the get_wiki_table() function and loop through all possible dieties and create like, 100 bubble charts. Not going to do the but here are two - Mouse over the bubbles to get tooltips -- "
     ]
    },
    {
     "cell_type": "code",
     "collapsed": false,
     "input": [
      "import random\n",
      "#numpy.random.seed(42)\n",
      "\n",
      "\n",
      "fig, ax = plt.subplots(2,subplot_kw=dict(axisbg='#EEEEEE',), figsize =(11,11))\n",
      "for i, diety in enumerate(diety_occurences.keys()):\n",
      "    count , years = diety_occurences[diety]\n",
      "    N = len(count)\n",
      "    ax[i].autoscale(False)\n",
      "    ax[i].set_ylim([-4,12])\n",
      "    ax[i].set_xlim([-5,10])\n",
      "    r_x = [0,3.77,3.21,3,4,5.7,6.34]\n",
      "    r_y = [6,4.1,8.5,6.7,1,6.9,2.3] \n",
      "\n",
      "    scatter = ax[i].scatter(r_x,\n",
      "                    r_y,\n",
      "                    c= \"aquamarine\",\n",
      "                    alpha=0.4,\n",
      "                    cmap=cm.Blues,\n",
      "                    s =  1000 * count)\n",
      "\n",
      "\n",
      "    ax[i].grid(color='white', linestyle='solid')\n",
      "    labels = ['Word Occurences: {0} | Year: {1}'.format(c,y) for (c,y) in zip(count,years)]\n",
      "#--- Used to have mouse over coordinates, can modify position by adjusting coordinates in r_x, r_y-----         \n",
      "#labels = ['{0},{1}'.format(x,y) for (x,y) in zip(r_x,r_y)] \n",
      "\n",
      "    ax[i].set_title(\"Number of times {0} was mentioned in a given year\".format(diety))\n",
      "    tooltip = mpld3.plugins.PointLabelTooltip(scatter, labels=labels)\n",
      "    mpld3.plugins.connect(fig, tooltip)\n",
      "\n",
      "mpld3.display()\n"
     ],
     "language": "python",
     "metadata": {},
     "outputs": [
      {
       "html": [
        "\n",
        "\n",
        "<style>\n",
        "\n",
        "</style>\n",
        "\n",
        "<div id=\"fig_el96471397586116660648423240895\"></div>\n",
        "<script>\n",
        "function mpld3_load_lib(url, callback){\n",
        "  var s = document.createElement('script');\n",
        "  s.src = url;\n",
        "  s.async = true;\n",
        "  s.onreadystatechange = s.onload = callback;\n",
        "  s.onerror = function(){console.warn(\"failed to load library \" + url);};\n",
        "  document.getElementsByTagName(\"head\")[0].appendChild(s);\n",
        "}\n",
        "\n",
        "if(typeof(mpld3) !== \"undefined\" && mpld3._mpld3IsLoaded){\n",
        "   // already loaded: just create the figure\n",
        "   !function(mpld3){\n",
        "       \n",
        "       mpld3.draw_figure(\"fig_el96471397586116660648423240895\", {\"axes\": [{\"xlim\": [-5.0, 10.0], \"yscale\": \"linear\", \"axesbg\": \"#EEEEEE\", \"texts\": [{\"v_baseline\": \"auto\", \"h_anchor\": \"middle\", \"color\": \"#000000\", \"text\": \"Number of times yog-sothoth was mentioned in a given year\", \"coordinates\": \"axes\", \"zorder\": 3, \"alpha\": 1, \"fontsize\": 12.0, \"position\": [0.5, 1.0179211469534051], \"rotation\": -0.0, \"id\": \"el9647139758626331408\"}], \"zoomable\": true, \"images\": [], \"xdomain\": [-5.0, 10.0], \"ylim\": [-4.0, 12.0], \"paths\": [], \"sharey\": [], \"sharex\": [], \"axesbgalpha\": null, \"axes\": [{\"scale\": \"linear\", \"tickformat\": null, \"grid\": {\"color\": \"#FFFFFF\", \"alpha\": 1.0, \"dasharray\": \"none\", \"gridOn\": true}, \"fontsize\": 10.0, \"position\": \"bottom\", \"nticks\": 9, \"tickvalues\": null}, {\"scale\": \"linear\", \"tickformat\": null, \"grid\": {\"color\": \"#FFFFFF\", \"alpha\": 1.0, \"dasharray\": \"none\", \"gridOn\": true}, \"fontsize\": 10.0, \"position\": \"left\", \"nticks\": 9, \"tickvalues\": null}], \"lines\": [], \"markers\": [], \"id\": \"el9647139758626053712\", \"ydomain\": [-4.0, 12.0], \"collections\": [{\"paths\": [[[[0.0, -0.5], [0.13260155, -0.5], [0.25978993539242673, -0.44731684579412084], [0.3535533905932738, -0.3535533905932738], [0.44731684579412084, -0.25978993539242673], [0.5, -0.13260155], [0.5, 0.0], [0.5, 0.13260155], [0.44731684579412084, 0.25978993539242673], [0.3535533905932738, 0.3535533905932738], [0.25978993539242673, 0.44731684579412084], [0.13260155, 0.5], [0.0, 0.5], [-0.13260155, 0.5], [-0.25978993539242673, 0.44731684579412084], [-0.3535533905932738, 0.3535533905932738], [-0.44731684579412084, 0.25978993539242673], [-0.5, 0.13260155], [-0.5, 0.0], [-0.5, -0.13260155], [-0.44731684579412084, -0.25978993539242673], [-0.3535533905932738, -0.3535533905932738], [-0.25978993539242673, -0.44731684579412084], [-0.13260155, -0.5], [0.0, -0.5]], [\"M\", \"C\", \"C\", \"C\", \"C\", \"C\", \"C\", \"C\", \"C\", \"Z\"]]], \"edgecolors\": [\"#000000\"], \"edgewidths\": [1.0], \"offsets\": \"data01\", \"yindex\": 1, \"id\": \"el9647139758764867984\", \"pathtransforms\": [[121.71612389003693, 0.0, 0.0, 121.71612389003693, 0.0, 0.0], [126.68615834434867, 0.0, 0.0, 126.68615834434867, 0.0, 0.0], [35.136418446315325, 0.0, 0.0, 35.136418446315325, 0.0, 0.0], [35.136418446315325, 0.0, 0.0, 35.136418446315325, 0.0, 0.0], [35.136418446315325, 0.0, 0.0, 35.136418446315325, 0.0, 0.0], [35.136418446315325, 0.0, 0.0, 35.136418446315325, 0.0, 0.0]], \"pathcoordinates\": \"display\", \"offsetcoordinates\": \"data\", \"zorder\": 1, \"xindex\": 0, \"alphas\": [0.4], \"facecolors\": [\"#7FFFD4\"]}], \"xscale\": \"linear\", \"bbox\": [0.125, 0.54772727272727284, 0.77500000000000002, 0.35227272727272718]}, {\"xlim\": [-5.0, 10.0], \"yscale\": \"linear\", \"axesbg\": \"#EEEEEE\", \"texts\": [{\"v_baseline\": \"auto\", \"h_anchor\": \"middle\", \"color\": \"#000000\", \"text\": \"Number of times cthulhu was mentioned in a given year\", \"coordinates\": \"axes\", \"zorder\": 3, \"alpha\": 1, \"fontsize\": 12.0, \"position\": [0.5, 1.0179211469534051], \"rotation\": -0.0, \"id\": \"el9647139758624132176\"}], \"zoomable\": true, \"images\": [], \"xdomain\": [-5.0, 10.0], \"ylim\": [-4.0, 12.0], \"paths\": [], \"sharey\": [], \"sharex\": [], \"axesbgalpha\": null, \"axes\": [{\"scale\": \"linear\", \"tickformat\": null, \"grid\": {\"color\": \"#FFFFFF\", \"alpha\": 1.0, \"dasharray\": \"none\", \"gridOn\": true}, \"fontsize\": 10.0, \"position\": \"bottom\", \"nticks\": 9, \"tickvalues\": null}, {\"scale\": \"linear\", \"tickformat\": null, \"grid\": {\"color\": \"#FFFFFF\", \"alpha\": 1.0, \"dasharray\": \"none\", \"gridOn\": true}, \"fontsize\": 10.0, \"position\": \"left\", \"nticks\": 9, \"tickvalues\": null}], \"lines\": [], \"markers\": [], \"id\": \"el9647139758626220944\", \"ydomain\": [-4.0, 12.0], \"collections\": [{\"paths\": [[[[0.0, -0.5], [0.13260155, -0.5], [0.25978993539242673, -0.44731684579412084], [0.3535533905932738, -0.3535533905932738], [0.44731684579412084, -0.25978993539242673], [0.5, -0.13260155], [0.5, 0.0], [0.5, 0.13260155], [0.44731684579412084, 0.25978993539242673], [0.3535533905932738, 0.3535533905932738], [0.25978993539242673, 0.44731684579412084], [0.13260155, 0.5], [0.0, 0.5], [-0.13260155, 0.5], [-0.25978993539242673, 0.44731684579412084], [-0.3535533905932738, 0.3535533905932738], [-0.44731684579412084, 0.25978993539242673], [-0.5, 0.13260155], [-0.5, 0.0], [-0.5, -0.13260155], [-0.44731684579412084, -0.25978993539242673], [-0.3535533905932738, -0.3535533905932738], [-0.25978993539242673, -0.44731684579412084], [-0.13260155, -0.5], [0.0, -0.5]], [\"M\", \"C\", \"C\", \"C\", \"C\", \"C\", \"C\", \"C\", \"C\", \"Z\"]]], \"edgecolors\": [\"#000000\"], \"edgewidths\": [1.0], \"offsets\": \"data01\", \"yindex\": 1, \"id\": \"el9647139758775200784\", \"pathtransforms\": [[172.13259316477408, 0.0, 0.0, 172.13259316477408, 0.0, 0.0], [49.69039949999532, 0.0, 0.0, 49.69039949999532, 0.0, 0.0], [35.136418446315325, 0.0, 0.0, 35.136418446315325, 0.0, 0.0], [92.96222517045284, 0.0, 0.0, 92.96222517045284, 0.0, 0.0], [105.40925533894597, 0.0, 0.0, 105.40925533894597, 0.0, 0.0], [49.69039949999532, 0.0, 0.0, 49.69039949999532, 0.0, 0.0], [35.136418446315325, 0.0, 0.0, 35.136418446315325, 0.0, 0.0]], \"pathcoordinates\": \"display\", \"offsetcoordinates\": \"data\", \"zorder\": 1, \"xindex\": 0, \"alphas\": [0.4], \"facecolors\": [\"#7FFFD4\"]}], \"xscale\": \"linear\", \"bbox\": [0.125, 0.12500000000000011, 0.77500000000000002, 0.35227272727272724]}], \"height\": 880.0, \"width\": 880.0, \"plugins\": [{\"type\": \"reset\"}, {\"enabled\": false, \"button\": true, \"type\": \"zoom\"}, {\"enabled\": false, \"button\": true, \"type\": \"boxzoom\"}, {\"voffset\": 10, \"labels\": [\"Word Occurences: [12] | Year: 1927\", \"Word Occurences: [13] | Year: 1928\", \"Word Occurences: [1] | Year: 1930\", \"Word Occurences: [1] | Year: 1931\", \"Word Occurences: [1] | Year: 1932\", \"Word Occurences: [1] | Year: 1933\"], \"hoffset\": 0, \"location\": \"mouse\", \"type\": \"tooltip\", \"id\": \"el9647139758764867984\"}, {\"voffset\": 10, \"labels\": [\"Word Occurences: [24] | Year: 1926\", \"Word Occurences: [2] | Year: 1927\", \"Word Occurences: [1] | Year: 1928\", \"Word Occurences: [7] | Year: 1930\", \"Word Occurences: [9] | Year: 1931\", \"Word Occurences: [2] | Year: 1932\", \"Word Occurences: [1] | Year: 1933\"], \"hoffset\": 0, \"location\": \"mouse\", \"type\": \"tooltip\", \"id\": \"el9647139758775200784\"}], \"data\": {\"data01\": [[0.0, 6.0], [3.77, 4.1], [3.21, 8.5], [3.0, 6.7], [4.0, 1.0], [5.7, 6.9], [6.34, 2.3]]}, \"id\": \"el9647139758611666064\"});\n",
        "   }(mpld3);\n",
        "}else if(typeof define === \"function\" && define.amd){\n",
        "   // require.js is available: use it to load d3/mpld3\n",
        "   require.config({paths: {d3: \"https://mpld3.github.io/js/d3.v3.min\"}});\n",
        "   require([\"d3\"], function(d3){\n",
        "      window.d3 = d3;\n",
        "      mpld3_load_lib(\"https://mpld3.github.io/js/mpld3.v0.3git.js\", function(){\n",
        "         \n",
        "         mpld3.draw_figure(\"fig_el96471397586116660648423240895\", {\"axes\": [{\"xlim\": [-5.0, 10.0], \"yscale\": \"linear\", \"axesbg\": \"#EEEEEE\", \"texts\": [{\"v_baseline\": \"auto\", \"h_anchor\": \"middle\", \"color\": \"#000000\", \"text\": \"Number of times yog-sothoth was mentioned in a given year\", \"coordinates\": \"axes\", \"zorder\": 3, \"alpha\": 1, \"fontsize\": 12.0, \"position\": [0.5, 1.0179211469534051], \"rotation\": -0.0, \"id\": \"el9647139758626331408\"}], \"zoomable\": true, \"images\": [], \"xdomain\": [-5.0, 10.0], \"ylim\": [-4.0, 12.0], \"paths\": [], \"sharey\": [], \"sharex\": [], \"axesbgalpha\": null, \"axes\": [{\"scale\": \"linear\", \"tickformat\": null, \"grid\": {\"color\": \"#FFFFFF\", \"alpha\": 1.0, \"dasharray\": \"none\", \"gridOn\": true}, \"fontsize\": 10.0, \"position\": \"bottom\", \"nticks\": 9, \"tickvalues\": null}, {\"scale\": \"linear\", \"tickformat\": null, \"grid\": {\"color\": \"#FFFFFF\", \"alpha\": 1.0, \"dasharray\": \"none\", \"gridOn\": true}, \"fontsize\": 10.0, \"position\": \"left\", \"nticks\": 9, \"tickvalues\": null}], \"lines\": [], \"markers\": [], \"id\": \"el9647139758626053712\", \"ydomain\": [-4.0, 12.0], \"collections\": [{\"paths\": [[[[0.0, -0.5], [0.13260155, -0.5], [0.25978993539242673, -0.44731684579412084], [0.3535533905932738, -0.3535533905932738], [0.44731684579412084, -0.25978993539242673], [0.5, -0.13260155], [0.5, 0.0], [0.5, 0.13260155], [0.44731684579412084, 0.25978993539242673], [0.3535533905932738, 0.3535533905932738], [0.25978993539242673, 0.44731684579412084], [0.13260155, 0.5], [0.0, 0.5], [-0.13260155, 0.5], [-0.25978993539242673, 0.44731684579412084], [-0.3535533905932738, 0.3535533905932738], [-0.44731684579412084, 0.25978993539242673], [-0.5, 0.13260155], [-0.5, 0.0], [-0.5, -0.13260155], [-0.44731684579412084, -0.25978993539242673], [-0.3535533905932738, -0.3535533905932738], [-0.25978993539242673, -0.44731684579412084], [-0.13260155, -0.5], [0.0, -0.5]], [\"M\", \"C\", \"C\", \"C\", \"C\", \"C\", \"C\", \"C\", \"C\", \"Z\"]]], \"edgecolors\": [\"#000000\"], \"edgewidths\": [1.0], \"offsets\": \"data01\", \"yindex\": 1, \"id\": \"el9647139758764867984\", \"pathtransforms\": [[121.71612389003693, 0.0, 0.0, 121.71612389003693, 0.0, 0.0], [126.68615834434867, 0.0, 0.0, 126.68615834434867, 0.0, 0.0], [35.136418446315325, 0.0, 0.0, 35.136418446315325, 0.0, 0.0], [35.136418446315325, 0.0, 0.0, 35.136418446315325, 0.0, 0.0], [35.136418446315325, 0.0, 0.0, 35.136418446315325, 0.0, 0.0], [35.136418446315325, 0.0, 0.0, 35.136418446315325, 0.0, 0.0]], \"pathcoordinates\": \"display\", \"offsetcoordinates\": \"data\", \"zorder\": 1, \"xindex\": 0, \"alphas\": [0.4], \"facecolors\": [\"#7FFFD4\"]}], \"xscale\": \"linear\", \"bbox\": [0.125, 0.54772727272727284, 0.77500000000000002, 0.35227272727272718]}, {\"xlim\": [-5.0, 10.0], \"yscale\": \"linear\", \"axesbg\": \"#EEEEEE\", \"texts\": [{\"v_baseline\": \"auto\", \"h_anchor\": \"middle\", \"color\": \"#000000\", \"text\": \"Number of times cthulhu was mentioned in a given year\", \"coordinates\": \"axes\", \"zorder\": 3, \"alpha\": 1, \"fontsize\": 12.0, \"position\": [0.5, 1.0179211469534051], \"rotation\": -0.0, \"id\": \"el9647139758624132176\"}], \"zoomable\": true, \"images\": [], \"xdomain\": [-5.0, 10.0], \"ylim\": [-4.0, 12.0], \"paths\": [], \"sharey\": [], \"sharex\": [], \"axesbgalpha\": null, \"axes\": [{\"scale\": \"linear\", \"tickformat\": null, \"grid\": {\"color\": \"#FFFFFF\", \"alpha\": 1.0, \"dasharray\": \"none\", \"gridOn\": true}, \"fontsize\": 10.0, \"position\": \"bottom\", \"nticks\": 9, \"tickvalues\": null}, {\"scale\": \"linear\", \"tickformat\": null, \"grid\": {\"color\": \"#FFFFFF\", \"alpha\": 1.0, \"dasharray\": \"none\", \"gridOn\": true}, \"fontsize\": 10.0, \"position\": \"left\", \"nticks\": 9, \"tickvalues\": null}], \"lines\": [], \"markers\": [], \"id\": \"el9647139758626220944\", \"ydomain\": [-4.0, 12.0], \"collections\": [{\"paths\": [[[[0.0, -0.5], [0.13260155, -0.5], [0.25978993539242673, -0.44731684579412084], [0.3535533905932738, -0.3535533905932738], [0.44731684579412084, -0.25978993539242673], [0.5, -0.13260155], [0.5, 0.0], [0.5, 0.13260155], [0.44731684579412084, 0.25978993539242673], [0.3535533905932738, 0.3535533905932738], [0.25978993539242673, 0.44731684579412084], [0.13260155, 0.5], [0.0, 0.5], [-0.13260155, 0.5], [-0.25978993539242673, 0.44731684579412084], [-0.3535533905932738, 0.3535533905932738], [-0.44731684579412084, 0.25978993539242673], [-0.5, 0.13260155], [-0.5, 0.0], [-0.5, -0.13260155], [-0.44731684579412084, -0.25978993539242673], [-0.3535533905932738, -0.3535533905932738], [-0.25978993539242673, -0.44731684579412084], [-0.13260155, -0.5], [0.0, -0.5]], [\"M\", \"C\", \"C\", \"C\", \"C\", \"C\", \"C\", \"C\", \"C\", \"Z\"]]], \"edgecolors\": [\"#000000\"], \"edgewidths\": [1.0], \"offsets\": \"data01\", \"yindex\": 1, \"id\": \"el9647139758775200784\", \"pathtransforms\": [[172.13259316477408, 0.0, 0.0, 172.13259316477408, 0.0, 0.0], [49.69039949999532, 0.0, 0.0, 49.69039949999532, 0.0, 0.0], [35.136418446315325, 0.0, 0.0, 35.136418446315325, 0.0, 0.0], [92.96222517045284, 0.0, 0.0, 92.96222517045284, 0.0, 0.0], [105.40925533894597, 0.0, 0.0, 105.40925533894597, 0.0, 0.0], [49.69039949999532, 0.0, 0.0, 49.69039949999532, 0.0, 0.0], [35.136418446315325, 0.0, 0.0, 35.136418446315325, 0.0, 0.0]], \"pathcoordinates\": \"display\", \"offsetcoordinates\": \"data\", \"zorder\": 1, \"xindex\": 0, \"alphas\": [0.4], \"facecolors\": [\"#7FFFD4\"]}], \"xscale\": \"linear\", \"bbox\": [0.125, 0.12500000000000011, 0.77500000000000002, 0.35227272727272724]}], \"height\": 880.0, \"width\": 880.0, \"plugins\": [{\"type\": \"reset\"}, {\"enabled\": false, \"button\": true, \"type\": \"zoom\"}, {\"enabled\": false, \"button\": true, \"type\": \"boxzoom\"}, {\"voffset\": 10, \"labels\": [\"Word Occurences: [12] | Year: 1927\", \"Word Occurences: [13] | Year: 1928\", \"Word Occurences: [1] | Year: 1930\", \"Word Occurences: [1] | Year: 1931\", \"Word Occurences: [1] | Year: 1932\", \"Word Occurences: [1] | Year: 1933\"], \"hoffset\": 0, \"location\": \"mouse\", \"type\": \"tooltip\", \"id\": \"el9647139758764867984\"}, {\"voffset\": 10, \"labels\": [\"Word Occurences: [24] | Year: 1926\", \"Word Occurences: [2] | Year: 1927\", \"Word Occurences: [1] | Year: 1928\", \"Word Occurences: [7] | Year: 1930\", \"Word Occurences: [9] | Year: 1931\", \"Word Occurences: [2] | Year: 1932\", \"Word Occurences: [1] | Year: 1933\"], \"hoffset\": 0, \"location\": \"mouse\", \"type\": \"tooltip\", \"id\": \"el9647139758775200784\"}], \"data\": {\"data01\": [[0.0, 6.0], [3.77, 4.1], [3.21, 8.5], [3.0, 6.7], [4.0, 1.0], [5.7, 6.9], [6.34, 2.3]]}, \"id\": \"el9647139758611666064\"});\n",
        "      });\n",
        "    });\n",
        "}else{\n",
        "    // require.js not available: dynamically load d3 & mpld3\n",
        "    mpld3_load_lib(\"https://mpld3.github.io/js/d3.v3.min.js\", function(){\n",
        "         mpld3_load_lib(\"https://mpld3.github.io/js/mpld3.v0.3git.js\", function(){\n",
        "                 \n",
        "                 mpld3.draw_figure(\"fig_el96471397586116660648423240895\", {\"axes\": [{\"xlim\": [-5.0, 10.0], \"yscale\": \"linear\", \"axesbg\": \"#EEEEEE\", \"texts\": [{\"v_baseline\": \"auto\", \"h_anchor\": \"middle\", \"color\": \"#000000\", \"text\": \"Number of times yog-sothoth was mentioned in a given year\", \"coordinates\": \"axes\", \"zorder\": 3, \"alpha\": 1, \"fontsize\": 12.0, \"position\": [0.5, 1.0179211469534051], \"rotation\": -0.0, \"id\": \"el9647139758626331408\"}], \"zoomable\": true, \"images\": [], \"xdomain\": [-5.0, 10.0], \"ylim\": [-4.0, 12.0], \"paths\": [], \"sharey\": [], \"sharex\": [], \"axesbgalpha\": null, \"axes\": [{\"scale\": \"linear\", \"tickformat\": null, \"grid\": {\"color\": \"#FFFFFF\", \"alpha\": 1.0, \"dasharray\": \"none\", \"gridOn\": true}, \"fontsize\": 10.0, \"position\": \"bottom\", \"nticks\": 9, \"tickvalues\": null}, {\"scale\": \"linear\", \"tickformat\": null, \"grid\": {\"color\": \"#FFFFFF\", \"alpha\": 1.0, \"dasharray\": \"none\", \"gridOn\": true}, \"fontsize\": 10.0, \"position\": \"left\", \"nticks\": 9, \"tickvalues\": null}], \"lines\": [], \"markers\": [], \"id\": \"el9647139758626053712\", \"ydomain\": [-4.0, 12.0], \"collections\": [{\"paths\": [[[[0.0, -0.5], [0.13260155, -0.5], [0.25978993539242673, -0.44731684579412084], [0.3535533905932738, -0.3535533905932738], [0.44731684579412084, -0.25978993539242673], [0.5, -0.13260155], [0.5, 0.0], [0.5, 0.13260155], [0.44731684579412084, 0.25978993539242673], [0.3535533905932738, 0.3535533905932738], [0.25978993539242673, 0.44731684579412084], [0.13260155, 0.5], [0.0, 0.5], [-0.13260155, 0.5], [-0.25978993539242673, 0.44731684579412084], [-0.3535533905932738, 0.3535533905932738], [-0.44731684579412084, 0.25978993539242673], [-0.5, 0.13260155], [-0.5, 0.0], [-0.5, -0.13260155], [-0.44731684579412084, -0.25978993539242673], [-0.3535533905932738, -0.3535533905932738], [-0.25978993539242673, -0.44731684579412084], [-0.13260155, -0.5], [0.0, -0.5]], [\"M\", \"C\", \"C\", \"C\", \"C\", \"C\", \"C\", \"C\", \"C\", \"Z\"]]], \"edgecolors\": [\"#000000\"], \"edgewidths\": [1.0], \"offsets\": \"data01\", \"yindex\": 1, \"id\": \"el9647139758764867984\", \"pathtransforms\": [[121.71612389003693, 0.0, 0.0, 121.71612389003693, 0.0, 0.0], [126.68615834434867, 0.0, 0.0, 126.68615834434867, 0.0, 0.0], [35.136418446315325, 0.0, 0.0, 35.136418446315325, 0.0, 0.0], [35.136418446315325, 0.0, 0.0, 35.136418446315325, 0.0, 0.0], [35.136418446315325, 0.0, 0.0, 35.136418446315325, 0.0, 0.0], [35.136418446315325, 0.0, 0.0, 35.136418446315325, 0.0, 0.0]], \"pathcoordinates\": \"display\", \"offsetcoordinates\": \"data\", \"zorder\": 1, \"xindex\": 0, \"alphas\": [0.4], \"facecolors\": [\"#7FFFD4\"]}], \"xscale\": \"linear\", \"bbox\": [0.125, 0.54772727272727284, 0.77500000000000002, 0.35227272727272718]}, {\"xlim\": [-5.0, 10.0], \"yscale\": \"linear\", \"axesbg\": \"#EEEEEE\", \"texts\": [{\"v_baseline\": \"auto\", \"h_anchor\": \"middle\", \"color\": \"#000000\", \"text\": \"Number of times cthulhu was mentioned in a given year\", \"coordinates\": \"axes\", \"zorder\": 3, \"alpha\": 1, \"fontsize\": 12.0, \"position\": [0.5, 1.0179211469534051], \"rotation\": -0.0, \"id\": \"el9647139758624132176\"}], \"zoomable\": true, \"images\": [], \"xdomain\": [-5.0, 10.0], \"ylim\": [-4.0, 12.0], \"paths\": [], \"sharey\": [], \"sharex\": [], \"axesbgalpha\": null, \"axes\": [{\"scale\": \"linear\", \"tickformat\": null, \"grid\": {\"color\": \"#FFFFFF\", \"alpha\": 1.0, \"dasharray\": \"none\", \"gridOn\": true}, \"fontsize\": 10.0, \"position\": \"bottom\", \"nticks\": 9, \"tickvalues\": null}, {\"scale\": \"linear\", \"tickformat\": null, \"grid\": {\"color\": \"#FFFFFF\", \"alpha\": 1.0, \"dasharray\": \"none\", \"gridOn\": true}, \"fontsize\": 10.0, \"position\": \"left\", \"nticks\": 9, \"tickvalues\": null}], \"lines\": [], \"markers\": [], \"id\": \"el9647139758626220944\", \"ydomain\": [-4.0, 12.0], \"collections\": [{\"paths\": [[[[0.0, -0.5], [0.13260155, -0.5], [0.25978993539242673, -0.44731684579412084], [0.3535533905932738, -0.3535533905932738], [0.44731684579412084, -0.25978993539242673], [0.5, -0.13260155], [0.5, 0.0], [0.5, 0.13260155], [0.44731684579412084, 0.25978993539242673], [0.3535533905932738, 0.3535533905932738], [0.25978993539242673, 0.44731684579412084], [0.13260155, 0.5], [0.0, 0.5], [-0.13260155, 0.5], [-0.25978993539242673, 0.44731684579412084], [-0.3535533905932738, 0.3535533905932738], [-0.44731684579412084, 0.25978993539242673], [-0.5, 0.13260155], [-0.5, 0.0], [-0.5, -0.13260155], [-0.44731684579412084, -0.25978993539242673], [-0.3535533905932738, -0.3535533905932738], [-0.25978993539242673, -0.44731684579412084], [-0.13260155, -0.5], [0.0, -0.5]], [\"M\", \"C\", \"C\", \"C\", \"C\", \"C\", \"C\", \"C\", \"C\", \"Z\"]]], \"edgecolors\": [\"#000000\"], \"edgewidths\": [1.0], \"offsets\": \"data01\", \"yindex\": 1, \"id\": \"el9647139758775200784\", \"pathtransforms\": [[172.13259316477408, 0.0, 0.0, 172.13259316477408, 0.0, 0.0], [49.69039949999532, 0.0, 0.0, 49.69039949999532, 0.0, 0.0], [35.136418446315325, 0.0, 0.0, 35.136418446315325, 0.0, 0.0], [92.96222517045284, 0.0, 0.0, 92.96222517045284, 0.0, 0.0], [105.40925533894597, 0.0, 0.0, 105.40925533894597, 0.0, 0.0], [49.69039949999532, 0.0, 0.0, 49.69039949999532, 0.0, 0.0], [35.136418446315325, 0.0, 0.0, 35.136418446315325, 0.0, 0.0]], \"pathcoordinates\": \"display\", \"offsetcoordinates\": \"data\", \"zorder\": 1, \"xindex\": 0, \"alphas\": [0.4], \"facecolors\": [\"#7FFFD4\"]}], \"xscale\": \"linear\", \"bbox\": [0.125, 0.12500000000000011, 0.77500000000000002, 0.35227272727272724]}], \"height\": 880.0, \"width\": 880.0, \"plugins\": [{\"type\": \"reset\"}, {\"enabled\": false, \"button\": true, \"type\": \"zoom\"}, {\"enabled\": false, \"button\": true, \"type\": \"boxzoom\"}, {\"voffset\": 10, \"labels\": [\"Word Occurences: [12] | Year: 1927\", \"Word Occurences: [13] | Year: 1928\", \"Word Occurences: [1] | Year: 1930\", \"Word Occurences: [1] | Year: 1931\", \"Word Occurences: [1] | Year: 1932\", \"Word Occurences: [1] | Year: 1933\"], \"hoffset\": 0, \"location\": \"mouse\", \"type\": \"tooltip\", \"id\": \"el9647139758764867984\"}, {\"voffset\": 10, \"labels\": [\"Word Occurences: [24] | Year: 1926\", \"Word Occurences: [2] | Year: 1927\", \"Word Occurences: [1] | Year: 1928\", \"Word Occurences: [7] | Year: 1930\", \"Word Occurences: [9] | Year: 1931\", \"Word Occurences: [2] | Year: 1932\", \"Word Occurences: [1] | Year: 1933\"], \"hoffset\": 0, \"location\": \"mouse\", \"type\": \"tooltip\", \"id\": \"el9647139758775200784\"}], \"data\": {\"data01\": [[0.0, 6.0], [3.77, 4.1], [3.21, 8.5], [3.0, 6.7], [4.0, 1.0], [5.7, 6.9], [6.34, 2.3]]}, \"id\": \"el9647139758611666064\"});\n",
        "            })\n",
        "         });\n",
        "}\n",
        "</script>"
       ],
       "metadata": {},
       "output_type": "pyout",
       "prompt_number": 259,
       "text": [
        "<IPython.core.display.HTML at 0x7f1c1746d350>"
       ]
      }
     ],
     "prompt_number": 259
    },
    {
     "cell_type": "markdown",
     "metadata": {},
     "source": [
      "We can clean the plot up a little and make it bigger"
     ]
    },
    {
     "cell_type": "code",
     "collapsed": false,
     "input": [
      "import random\n",
      "numpy.random.seed(42)\n",
      "\n",
      "\n",
      "\n",
      "\n",
      "fig, ax = plt.subplots(subplot_kw=dict(axisbg='#EEEEEE'), figsize =(12,12))\n",
      "# Tick lines can be removed via: \n",
      "#fig, ax = plt.subplots(subplot_kw=dict(axisbg='#EEEEEE',xticks=[], yticks =[]), figsize =(12,12))\n",
      "N = len(agg_final)\n",
      "count = agg_final['cthulhu'].values\n",
      "years = [int(year) for year in agg_final.index]\n",
      "ax.autoscale(False)\n",
      "ax.set_ylim([-4,12])\n",
      "ax.set_xlim([-5,10])\n",
      "\n",
      "r_x = [0,3.77,3.21,5,4,5.7,6.34]\n",
      "r_y = [6,4.1,8.5,6.7,1,3.9,2.3] \n",
      "\n",
      "scatter = ax.scatter(r_x,\n",
      "                    r_y,\n",
      "                    c=np.random.random(size=N),\n",
      "                    alpha=0.4,\n",
      "                    cmap=cm.cool,\n",
      "                    s =  3500 * count)\n",
      "\n",
      "ax.grid(color='white', linestyle='solid')\n",
      "labels = ['Word Occurences: {0}| Year: {1}'.format(c,y) for (c,y) in zip(size,count)]\n",
      "#--- Used to have mouse over coordinates, can modify position by adjusting coordinates in r_x, r_y-----         \n",
      "#labels = ['{0},{1}'.format(x,y) for (x,y) in zip(r_x,r_y)] \n",
      "\n",
      "ax.set_title(\"Number of Times C'thulhu was mentioned in a year\")\n",
      "tooltip = mpld3.plugins.PointLabelTooltip(scatter, labels=labels)\n",
      "mpld3.plugins.connect(fig, tooltip)\n",
      "\n",
      "mpld3.display()\n"
     ],
     "language": "python",
     "metadata": {},
     "outputs": [
      {
       "html": [
        "\n",
        "\n",
        "<style>\n",
        "\n",
        "</style>\n",
        "\n",
        "<div id=\"fig_el96471397587649340968745640928\"></div>\n",
        "<script>\n",
        "function mpld3_load_lib(url, callback){\n",
        "  var s = document.createElement('script');\n",
        "  s.src = url;\n",
        "  s.async = true;\n",
        "  s.onreadystatechange = s.onload = callback;\n",
        "  s.onerror = function(){console.warn(\"failed to load library \" + url);};\n",
        "  document.getElementsByTagName(\"head\")[0].appendChild(s);\n",
        "}\n",
        "\n",
        "if(typeof(mpld3) !== \"undefined\" && mpld3._mpld3IsLoaded){\n",
        "   // already loaded: just create the figure\n",
        "   !function(mpld3){\n",
        "       \n",
        "       mpld3.draw_figure(\"fig_el96471397587649340968745640928\", {\"axes\": [{\"xlim\": [-5.0, 10.0], \"yscale\": \"linear\", \"axesbg\": \"#EEEEEE\", \"texts\": [{\"v_baseline\": \"auto\", \"h_anchor\": \"middle\", \"color\": \"#000000\", \"text\": \"Number of Times C'thulhu was mentioned in a year\", \"coordinates\": \"axes\", \"zorder\": 3, \"alpha\": 1, \"fontsize\": 12.0, \"position\": [0.5, 1.0074671445639187], \"rotation\": -0.0, \"id\": \"el9647139758664877200\"}], \"zoomable\": true, \"images\": [], \"xdomain\": [-5.0, 10.0], \"ylim\": [-4.0, 12.0], \"paths\": [], \"sharey\": [], \"sharex\": [], \"axesbgalpha\": null, \"axes\": [{\"scale\": \"linear\", \"tickformat\": null, \"grid\": {\"color\": \"#FFFFFF\", \"alpha\": 1.0, \"dasharray\": \"none\", \"gridOn\": true}, \"fontsize\": 10.0, \"position\": \"bottom\", \"nticks\": 9, \"tickvalues\": null}, {\"scale\": \"linear\", \"tickformat\": null, \"grid\": {\"color\": \"#FFFFFF\", \"alpha\": 1.0, \"dasharray\": \"none\", \"gridOn\": true}, \"fontsize\": 10.0, \"position\": \"left\", \"nticks\": 9, \"tickvalues\": null}], \"lines\": [], \"markers\": [], \"id\": \"el9647139758624097744\", \"ydomain\": [-4.0, 12.0], \"collections\": [{\"paths\": [[[[0.0, -0.5], [0.13260155, -0.5], [0.25978993539242673, -0.44731684579412084], [0.3535533905932738, -0.3535533905932738], [0.44731684579412084, -0.25978993539242673], [0.5, -0.13260155], [0.5, 0.0], [0.5, 0.13260155], [0.44731684579412084, 0.25978993539242673], [0.3535533905932738, 0.3535533905932738], [0.25978993539242673, 0.44731684579412084], [0.13260155, 0.5], [0.0, 0.5], [-0.13260155, 0.5], [-0.25978993539242673, 0.44731684579412084], [-0.3535533905932738, 0.3535533905932738], [-0.44731684579412084, 0.25978993539242673], [-0.5, 0.13260155], [-0.5, 0.0], [-0.5, -0.13260155], [-0.44731684579412084, -0.25978993539242673], [-0.3535533905932738, -0.3535533905932738], [-0.25978993539242673, -0.44731684579412084], [-0.13260155, -0.5], [0.0, -0.5]], [\"M\", \"C\", \"C\", \"C\", \"C\", \"C\", \"C\", \"C\", \"C\", \"Z\"]]], \"edgecolors\": [\"#000000\"], \"edgewidths\": [1.0], \"offsets\": \"data01\", \"yindex\": 1, \"id\": \"el9647139758623069392\", \"pathtransforms\": [[322.0305943597653, 0.0, 0.0, 322.0305943597653, 0.0, 0.0], [92.96222517045284, 0.0, 0.0, 92.96222517045284, 0.0, 0.0], [65.73421981221796, 0.0, 0.0, 65.73421981221796, 0.0, 0.0], [173.91639824998364, 0.0, 0.0, 173.91639824998364, 0.0, 0.0], [197.20265943665385, 0.0, 0.0, 197.20265943665385, 0.0, 0.0], [92.96222517045284, 0.0, 0.0, 92.96222517045284, 0.0, 0.0], [65.73421981221796, 0.0, 0.0, 65.73421981221796, 0.0, 0.0]], \"pathcoordinates\": \"display\", \"offsetcoordinates\": \"data\", \"zorder\": 1, \"xindex\": 0, \"alphas\": [0.4], \"facecolors\": [\"#59A5FF\", \"#FF00FF\", \"#C13EFF\", \"#9B64FF\", \"#1CE3FF\", \"#1CE3FF\", \"#00FFFF\"]}], \"xscale\": \"linear\", \"bbox\": [0.125, 0.125, 0.77500000000000002, 0.77500000000000002]}], \"height\": 960.0, \"width\": 960.0, \"plugins\": [{\"type\": \"reset\"}, {\"enabled\": false, \"button\": true, \"type\": \"zoom\"}, {\"enabled\": false, \"button\": true, \"type\": \"boxzoom\"}, {\"voffset\": 10, \"labels\": [\"Word Occurences: 24| Year: 24\", \"Word Occurences: 2| Year: 2\", \"Word Occurences: 1| Year: 1\", \"Word Occurences: 7| Year: 7\", \"Word Occurences: 9| Year: 9\", \"Word Occurences: 2| Year: 2\", \"Word Occurences: 1| Year: 1\"], \"hoffset\": 0, \"location\": \"mouse\", \"type\": \"tooltip\", \"id\": \"el9647139758623069392\"}], \"data\": {\"data01\": [[0.0, 6.0], [3.77, 4.1], [3.21, 8.5], [5.0, 6.7], [4.0, 1.0], [5.7, 3.9], [6.34, 2.3]]}, \"id\": \"el9647139758764934096\"});\n",
        "   }(mpld3);\n",
        "}else if(typeof define === \"function\" && define.amd){\n",
        "   // require.js is available: use it to load d3/mpld3\n",
        "   require.config({paths: {d3: \"https://mpld3.github.io/js/d3.v3.min\"}});\n",
        "   require([\"d3\"], function(d3){\n",
        "      window.d3 = d3;\n",
        "      mpld3_load_lib(\"https://mpld3.github.io/js/mpld3.v0.3git.js\", function(){\n",
        "         \n",
        "         mpld3.draw_figure(\"fig_el96471397587649340968745640928\", {\"axes\": [{\"xlim\": [-5.0, 10.0], \"yscale\": \"linear\", \"axesbg\": \"#EEEEEE\", \"texts\": [{\"v_baseline\": \"auto\", \"h_anchor\": \"middle\", \"color\": \"#000000\", \"text\": \"Number of Times C'thulhu was mentioned in a year\", \"coordinates\": \"axes\", \"zorder\": 3, \"alpha\": 1, \"fontsize\": 12.0, \"position\": [0.5, 1.0074671445639187], \"rotation\": -0.0, \"id\": \"el9647139758664877200\"}], \"zoomable\": true, \"images\": [], \"xdomain\": [-5.0, 10.0], \"ylim\": [-4.0, 12.0], \"paths\": [], \"sharey\": [], \"sharex\": [], \"axesbgalpha\": null, \"axes\": [{\"scale\": \"linear\", \"tickformat\": null, \"grid\": {\"color\": \"#FFFFFF\", \"alpha\": 1.0, \"dasharray\": \"none\", \"gridOn\": true}, \"fontsize\": 10.0, \"position\": \"bottom\", \"nticks\": 9, \"tickvalues\": null}, {\"scale\": \"linear\", \"tickformat\": null, \"grid\": {\"color\": \"#FFFFFF\", \"alpha\": 1.0, \"dasharray\": \"none\", \"gridOn\": true}, \"fontsize\": 10.0, \"position\": \"left\", \"nticks\": 9, \"tickvalues\": null}], \"lines\": [], \"markers\": [], \"id\": \"el9647139758624097744\", \"ydomain\": [-4.0, 12.0], \"collections\": [{\"paths\": [[[[0.0, -0.5], [0.13260155, -0.5], [0.25978993539242673, -0.44731684579412084], [0.3535533905932738, -0.3535533905932738], [0.44731684579412084, -0.25978993539242673], [0.5, -0.13260155], [0.5, 0.0], [0.5, 0.13260155], [0.44731684579412084, 0.25978993539242673], [0.3535533905932738, 0.3535533905932738], [0.25978993539242673, 0.44731684579412084], [0.13260155, 0.5], [0.0, 0.5], [-0.13260155, 0.5], [-0.25978993539242673, 0.44731684579412084], [-0.3535533905932738, 0.3535533905932738], [-0.44731684579412084, 0.25978993539242673], [-0.5, 0.13260155], [-0.5, 0.0], [-0.5, -0.13260155], [-0.44731684579412084, -0.25978993539242673], [-0.3535533905932738, -0.3535533905932738], [-0.25978993539242673, -0.44731684579412084], [-0.13260155, -0.5], [0.0, -0.5]], [\"M\", \"C\", \"C\", \"C\", \"C\", \"C\", \"C\", \"C\", \"C\", \"Z\"]]], \"edgecolors\": [\"#000000\"], \"edgewidths\": [1.0], \"offsets\": \"data01\", \"yindex\": 1, \"id\": \"el9647139758623069392\", \"pathtransforms\": [[322.0305943597653, 0.0, 0.0, 322.0305943597653, 0.0, 0.0], [92.96222517045284, 0.0, 0.0, 92.96222517045284, 0.0, 0.0], [65.73421981221796, 0.0, 0.0, 65.73421981221796, 0.0, 0.0], [173.91639824998364, 0.0, 0.0, 173.91639824998364, 0.0, 0.0], [197.20265943665385, 0.0, 0.0, 197.20265943665385, 0.0, 0.0], [92.96222517045284, 0.0, 0.0, 92.96222517045284, 0.0, 0.0], [65.73421981221796, 0.0, 0.0, 65.73421981221796, 0.0, 0.0]], \"pathcoordinates\": \"display\", \"offsetcoordinates\": \"data\", \"zorder\": 1, \"xindex\": 0, \"alphas\": [0.4], \"facecolors\": [\"#59A5FF\", \"#FF00FF\", \"#C13EFF\", \"#9B64FF\", \"#1CE3FF\", \"#1CE3FF\", \"#00FFFF\"]}], \"xscale\": \"linear\", \"bbox\": [0.125, 0.125, 0.77500000000000002, 0.77500000000000002]}], \"height\": 960.0, \"width\": 960.0, \"plugins\": [{\"type\": \"reset\"}, {\"enabled\": false, \"button\": true, \"type\": \"zoom\"}, {\"enabled\": false, \"button\": true, \"type\": \"boxzoom\"}, {\"voffset\": 10, \"labels\": [\"Word Occurences: 24| Year: 24\", \"Word Occurences: 2| Year: 2\", \"Word Occurences: 1| Year: 1\", \"Word Occurences: 7| Year: 7\", \"Word Occurences: 9| Year: 9\", \"Word Occurences: 2| Year: 2\", \"Word Occurences: 1| Year: 1\"], \"hoffset\": 0, \"location\": \"mouse\", \"type\": \"tooltip\", \"id\": \"el9647139758623069392\"}], \"data\": {\"data01\": [[0.0, 6.0], [3.77, 4.1], [3.21, 8.5], [5.0, 6.7], [4.0, 1.0], [5.7, 3.9], [6.34, 2.3]]}, \"id\": \"el9647139758764934096\"});\n",
        "      });\n",
        "    });\n",
        "}else{\n",
        "    // require.js not available: dynamically load d3 & mpld3\n",
        "    mpld3_load_lib(\"https://mpld3.github.io/js/d3.v3.min.js\", function(){\n",
        "         mpld3_load_lib(\"https://mpld3.github.io/js/mpld3.v0.3git.js\", function(){\n",
        "                 \n",
        "                 mpld3.draw_figure(\"fig_el96471397587649340968745640928\", {\"axes\": [{\"xlim\": [-5.0, 10.0], \"yscale\": \"linear\", \"axesbg\": \"#EEEEEE\", \"texts\": [{\"v_baseline\": \"auto\", \"h_anchor\": \"middle\", \"color\": \"#000000\", \"text\": \"Number of Times C'thulhu was mentioned in a year\", \"coordinates\": \"axes\", \"zorder\": 3, \"alpha\": 1, \"fontsize\": 12.0, \"position\": [0.5, 1.0074671445639187], \"rotation\": -0.0, \"id\": \"el9647139758664877200\"}], \"zoomable\": true, \"images\": [], \"xdomain\": [-5.0, 10.0], \"ylim\": [-4.0, 12.0], \"paths\": [], \"sharey\": [], \"sharex\": [], \"axesbgalpha\": null, \"axes\": [{\"scale\": \"linear\", \"tickformat\": null, \"grid\": {\"color\": \"#FFFFFF\", \"alpha\": 1.0, \"dasharray\": \"none\", \"gridOn\": true}, \"fontsize\": 10.0, \"position\": \"bottom\", \"nticks\": 9, \"tickvalues\": null}, {\"scale\": \"linear\", \"tickformat\": null, \"grid\": {\"color\": \"#FFFFFF\", \"alpha\": 1.0, \"dasharray\": \"none\", \"gridOn\": true}, \"fontsize\": 10.0, \"position\": \"left\", \"nticks\": 9, \"tickvalues\": null}], \"lines\": [], \"markers\": [], \"id\": \"el9647139758624097744\", \"ydomain\": [-4.0, 12.0], \"collections\": [{\"paths\": [[[[0.0, -0.5], [0.13260155, -0.5], [0.25978993539242673, -0.44731684579412084], [0.3535533905932738, -0.3535533905932738], [0.44731684579412084, -0.25978993539242673], [0.5, -0.13260155], [0.5, 0.0], [0.5, 0.13260155], [0.44731684579412084, 0.25978993539242673], [0.3535533905932738, 0.3535533905932738], [0.25978993539242673, 0.44731684579412084], [0.13260155, 0.5], [0.0, 0.5], [-0.13260155, 0.5], [-0.25978993539242673, 0.44731684579412084], [-0.3535533905932738, 0.3535533905932738], [-0.44731684579412084, 0.25978993539242673], [-0.5, 0.13260155], [-0.5, 0.0], [-0.5, -0.13260155], [-0.44731684579412084, -0.25978993539242673], [-0.3535533905932738, -0.3535533905932738], [-0.25978993539242673, -0.44731684579412084], [-0.13260155, -0.5], [0.0, -0.5]], [\"M\", \"C\", \"C\", \"C\", \"C\", \"C\", \"C\", \"C\", \"C\", \"Z\"]]], \"edgecolors\": [\"#000000\"], \"edgewidths\": [1.0], \"offsets\": \"data01\", \"yindex\": 1, \"id\": \"el9647139758623069392\", \"pathtransforms\": [[322.0305943597653, 0.0, 0.0, 322.0305943597653, 0.0, 0.0], [92.96222517045284, 0.0, 0.0, 92.96222517045284, 0.0, 0.0], [65.73421981221796, 0.0, 0.0, 65.73421981221796, 0.0, 0.0], [173.91639824998364, 0.0, 0.0, 173.91639824998364, 0.0, 0.0], [197.20265943665385, 0.0, 0.0, 197.20265943665385, 0.0, 0.0], [92.96222517045284, 0.0, 0.0, 92.96222517045284, 0.0, 0.0], [65.73421981221796, 0.0, 0.0, 65.73421981221796, 0.0, 0.0]], \"pathcoordinates\": \"display\", \"offsetcoordinates\": \"data\", \"zorder\": 1, \"xindex\": 0, \"alphas\": [0.4], \"facecolors\": [\"#59A5FF\", \"#FF00FF\", \"#C13EFF\", \"#9B64FF\", \"#1CE3FF\", \"#1CE3FF\", \"#00FFFF\"]}], \"xscale\": \"linear\", \"bbox\": [0.125, 0.125, 0.77500000000000002, 0.77500000000000002]}], \"height\": 960.0, \"width\": 960.0, \"plugins\": [{\"type\": \"reset\"}, {\"enabled\": false, \"button\": true, \"type\": \"zoom\"}, {\"enabled\": false, \"button\": true, \"type\": \"boxzoom\"}, {\"voffset\": 10, \"labels\": [\"Word Occurences: 24| Year: 24\", \"Word Occurences: 2| Year: 2\", \"Word Occurences: 1| Year: 1\", \"Word Occurences: 7| Year: 7\", \"Word Occurences: 9| Year: 9\", \"Word Occurences: 2| Year: 2\", \"Word Occurences: 1| Year: 1\"], \"hoffset\": 0, \"location\": \"mouse\", \"type\": \"tooltip\", \"id\": \"el9647139758623069392\"}], \"data\": {\"data01\": [[0.0, 6.0], [3.77, 4.1], [3.21, 8.5], [5.0, 6.7], [4.0, 1.0], [5.7, 3.9], [6.34, 2.3]]}, \"id\": \"el9647139758764934096\"});\n",
        "            })\n",
        "         });\n",
        "}\n",
        "</script>"
       ],
       "metadata": {},
       "output_type": "pyout",
       "prompt_number": 123,
       "text": [
        "<IPython.core.display.HTML at 0x7f1c173f5050>"
       ]
      }
     ],
     "prompt_number": 123
    },
    {
     "cell_type": "markdown",
     "metadata": {},
     "source": [
      "##TF-IDF## "
     ]
    },
    {
     "cell_type": "markdown",
     "metadata": {},
     "source": [
      "TODO:// Quick TF-IDF overview / latex graphic of function"
     ]
    },
    {
     "cell_type": "markdown",
     "metadata": {},
     "source": [
      "We need to create a tokenizing function that will tokenize a test we pass in. We can build this using some standard functions from NLTK. We then need to get the dataframe into a dictionary,where the key is the doc title, and the value is the doct text. "
     ]
    },
    {
     "cell_type": "code",
     "collapsed": false,
     "input": [
      "def l_tokenizer(text): \n",
      "        text = text.lower()\n",
      "        text.replace('\\n','')\n",
      "        sent_tokens = nltk.sent_tokenize(text)\n",
      "        word_tokens = [nltk.word_tokenize(sent) for sent in sent_tokens]\n",
      "        return list(itertools.chain.from_iterable(word_tokens))"
     ],
     "language": "python",
     "metadata": {},
     "outputs": [],
     "prompt_number": 5
    },
    {
     "cell_type": "code",
     "collapsed": false,
     "input": [
      "lovecraft_dict = dict(zip(df.title,df.text))"
     ],
     "language": "python",
     "metadata": {},
     "outputs": [],
     "prompt_number": 13
    },
    {
     "cell_type": "code",
     "collapsed": false,
     "input": [
      "from sklearn.feature_extraction.text import TfidfVectorizer\n",
      "\n",
      "tfidf = TfidfVectorizer(l_tokenizer, stop_words='english')"
     ],
     "language": "python",
     "metadata": {},
     "outputs": [],
     "prompt_number": 14
    },
    {
     "cell_type": "code",
     "collapsed": false,
     "input": [
      "sparse_fit = tfidf.fit_transform(lovecraft_dict.values())"
     ],
     "language": "python",
     "metadata": {},
     "outputs": [],
     "prompt_number": 17
    },
    {
     "cell_type": "markdown",
     "metadata": {},
     "source": [
      "####Visualization of High Demension Data####\n",
      "PCA"
     ]
    },
    {
     "cell_type": "code",
     "collapsed": false,
     "input": [
      "from sklearn.decomposition import PCA \n",
      "\n",
      "pcadata = sparse_fit.todense()\n",
      "pca = PCA(n_components=2)\n",
      "tf_pca = pca.fit(pcadata).transform(pcadata)"
     ],
     "language": "python",
     "metadata": {},
     "outputs": [],
     "prompt_number": 18
    },
    {
     "cell_type": "code",
     "collapsed": false,
     "input": [],
     "language": "python",
     "metadata": {},
     "outputs": [],
     "prompt_number": 18
    },
    {
     "cell_type": "code",
     "collapsed": false,
     "input": [
      "%matplotlib inline\n",
      "    \n",
      "fig, ax = plt.subplots(subplot_kw=dict(axisbg='#EEEEEE'), figsize =(14,14))\n",
      "lables = lovecraft_dict.keys() \n",
      "N = len(lables)\n",
      "p_x = tf_pca[:,0]\n",
      "p_y = tf_pca[:,1]\n",
      "\n",
      "scatter = ax.scatter(p_x,\n",
      "                     p_y,\n",
      "                     c=np.random.random(size=N),\n",
      "                     alpha=0.3,\n",
      "                     cmap=cm.cool,\n",
      "                     s = 400 )\n",
      "ax.grid(color='white', linestyle='solid')\n",
      "ax.set_title(\"2 Princomps of Lovecraft TF-IDF Data\", size=90)\n",
      "labels = ['{0}'.format(title) for title in lables]\n",
      "tooltip = mpld3.plugins.PointLabelTooltip(scatter, labels=labels)\n",
      "mpld3.plugins.connect(fig, tooltip)\n",
      "\n",
      "mpld3.display()\n",
      "#fig = figure(figsize=(15, 15))\n",
      "#plt.scatter(p_x,p_y,c=range(len(p_y)),cmap=cm.jet, s=300, marker=\"o\", alpha = 0.5)"
     ],
     "language": "python",
     "metadata": {},
     "outputs": [
      {
       "html": [
        "\n",
        "\n",
        "<style>\n",
        "\n",
        "</style>\n",
        "\n",
        "<div id=\"fig_el134481403181462701601339678543\"></div>\n",
        "<script>\n",
        "function mpld3_load_lib(url, callback){\n",
        "  var s = document.createElement('script');\n",
        "  s.src = url;\n",
        "  s.async = true;\n",
        "  s.onreadystatechange = s.onload = callback;\n",
        "  s.onerror = function(){console.warn(\"failed to load library \" + url);};\n",
        "  document.getElementsByTagName(\"head\")[0].appendChild(s);\n",
        "}\n",
        "\n",
        "if(typeof(mpld3) !== \"undefined\" && mpld3._mpld3IsLoaded){\n",
        "   // already loaded: just create the figure\n",
        "   !function(mpld3){\n",
        "       \n",
        "       mpld3.draw_figure(\"fig_el134481403181462701601339678543\", {\"axes\": [{\"xlim\": [-0.40000000000000002, 1.0], \"yscale\": \"linear\", \"axesbg\": \"#EEEEEE\", \"texts\": [{\"v_baseline\": \"auto\", \"h_anchor\": \"middle\", \"color\": \"#000000\", \"text\": \"2 Princomps of Lovecraft TF-IDF Data\", \"coordinates\": \"axes\", \"zorder\": 3, \"alpha\": 1, \"fontsize\": 90.0, \"position\": [0.5, 1.006400409626216], \"rotation\": -0.0, \"id\": \"el13448140318110762256\"}], \"zoomable\": true, \"images\": [], \"xdomain\": [-0.40000000000000002, 1.0], \"ylim\": [-0.40000000000000002, 0.80000000000000016], \"paths\": [], \"sharey\": [], \"sharex\": [], \"axesbgalpha\": null, \"axes\": [{\"scale\": \"linear\", \"tickformat\": null, \"grid\": {\"color\": \"#FFFFFF\", \"alpha\": 1.0, \"dasharray\": \"none\", \"gridOn\": true}, \"fontsize\": 10.0, \"position\": \"bottom\", \"nticks\": 9, \"tickvalues\": null}, {\"scale\": \"linear\", \"tickformat\": null, \"grid\": {\"color\": \"#FFFFFF\", \"alpha\": 1.0, \"dasharray\": \"none\", \"gridOn\": true}, \"fontsize\": 10.0, \"position\": \"left\", \"nticks\": 8, \"tickvalues\": null}], \"lines\": [], \"markers\": [], \"id\": \"el13448140318110870224\", \"ydomain\": [-0.40000000000000002, 0.80000000000000016], \"collections\": [{\"paths\": [[[[0.0, -0.5], [0.13260155, -0.5], [0.25978993539242673, -0.44731684579412084], [0.3535533905932738, -0.3535533905932738], [0.44731684579412084, -0.25978993539242673], [0.5, -0.13260155], [0.5, 0.0], [0.5, 0.13260155], [0.44731684579412084, 0.25978993539242673], [0.3535533905932738, 0.3535533905932738], [0.25978993539242673, 0.44731684579412084], [0.13260155, 0.5], [0.0, 0.5], [-0.13260155, 0.5], [-0.25978993539242673, 0.44731684579412084], [-0.3535533905932738, 0.3535533905932738], [-0.44731684579412084, 0.25978993539242673], [-0.5, 0.13260155], [-0.5, 0.0], [-0.5, -0.13260155], [-0.44731684579412084, -0.25978993539242673], [-0.3535533905932738, -0.3535533905932738], [-0.25978993539242673, -0.44731684579412084], [-0.13260155, -0.5], [0.0, -0.5]], [\"M\", \"C\", \"C\", \"C\", \"C\", \"C\", \"C\", \"C\", \"C\", \"Z\"]]], \"edgecolors\": [\"#000000\"], \"edgewidths\": [1.0], \"offsets\": \"data01\", \"yindex\": 1, \"id\": \"el13448140318108069264\", \"pathtransforms\": [[22.22222222222222, 0.0, 0.0, 22.22222222222222, 0.0, 0.0]], \"pathcoordinates\": \"display\", \"offsetcoordinates\": \"data\", \"zorder\": 1, \"xindex\": 0, \"alphas\": [0.3], \"facecolors\": [\"#33CCFF\", \"#758AFF\", \"#7986FF\", \"#6F90FF\", \"#01FEFF\", \"#9966FF\", \"#738CFF\", \"#BB44FF\", \"#0FF0FF\", \"#9F60FF\", \"#47B8FF\", \"#00FFFF\", \"#8877FF\", \"#609FFF\", \"#FF00FF\", \"#51AEFF\", \"#3FC0FF\", \"#708FFF\", \"#708FFF\", \"#BF40FF\", \"#D02FFF\", \"#619DFF\", \"#6996FF\", \"#2ED1FF\", \"#C23DFF\", \"#8D71FF\", \"#24DBFF\", \"#AC52FF\", \"#A758FF\", \"#9768FF\", \"#45BAFF\", \"#08F7FF\", \"#649BFF\", \"#E01FFF\", \"#827DFF\", \"#3FC0FF\", \"#49B5FF\", \"#7986FF\", \"#50AFFF\", \"#DD21FF\", \"#609FFF\", \"#C638FF\", \"#FE00FF\", \"#EF10FF\", \"#2FD0FF\", \"#8778FF\", \"#EF10FF\", \"#0CF3FF\", \"#59A6FF\", \"#D827FF\", \"#56A9FF\", \"#3EC1FF\", \"#46B9FF\", \"#E01FFF\", \"#C738FF\", \"#C539FF\", \"#4EB1FF\", \"#2AD5FF\", \"#7986FF\", \"#C936FF\", \"#0DF2FF\", \"#FF00FF\", \"#6E91FF\", \"#9A65FF\", \"#15EAFF\", \"#BE41FF\", \"#07F8FF\", \"#34CBFF\", \"#47B8FF\", \"#59A5FF\", \"#E519FF\", \"#7985FF\", \"#28D6FF\", \"#6995FF\", \"#807FFF\", \"#8877FF\", \"#8778FF\", \"#56A9FF\", \"#0CF3FF\", \"#CA35FF\", \"#27D8FF\", \"#F708FF\", \"#A857FF\", \"#B14EFF\", \"#34CAFF\", \"#C738FF\", \"#D728FF\", \"#5DA2FF\", \"#F906FF\", \"#649BFF\", \"#5BA3FF\", \"#CD31FF\", \"#24DBFF\", \"#BC42FF\", \"#D32BFF\", \"#936BFF\", \"#4DB2FF\", \"#E519FF\", \"#D926FF\", \"#0CF3FF\", \"#2FD0FF\", \"#1AE5FF\", \"#41BEFF\", \"#F807FF\", \"#33CCFF\", \"#A35CFF\", \"#5DA2FF\", \"#926DFF\", \"#AA55FF\", \"#718EFF\", \"#F30CFF\", \"#2CD3FF\", \"#24DAFF\", \"#4FB0FF\", \"#8C72FF\", \"#53ACFF\", \"#05FAFF\", \"#8D71FF\", \"#BE41FF\", \"#0AF5FF\", \"#34CBFF\", \"#8F70FF\", \"#BC42FF\", \"#0BF4FF\", \"#3BC3FF\", \"#30CEFF\", \"#FA05FF\", \"#D926FF\", \"#8E71FF\", \"#FB04FF\", \"#AD51FF\", \"#03FCFF\", \"#37C8FF\", \"#BB44FF\", \"#6798FF\", \"#32CDFF\", \"#2FD0FF\", \"#53ACFF\", \"#7689FF\", \"#9E61FF\", \"#926DFF\", \"#9966FF\", \"#609FFF\", \"#B34BFF\", \"#1FE0FF\", \"#E519FF\", \"#C837FF\", \"#708FFF\", \"#6798FF\", \"#38C6FF\"]}], \"xscale\": \"linear\", \"bbox\": [0.125, 0.125, 0.77500000000000002, 0.77500000000000002]}], \"height\": 1120.0, \"width\": 1120.0, \"plugins\": [{\"type\": \"reset\"}, {\"enabled\": false, \"button\": true, \"type\": \"zoom\"}, {\"enabled\": false, \"button\": true, \"type\": \"boxzoom\"}, {\"voffset\": 10, \"labels\": [\"The Lurking Fear\", \"The Trap with Henry S. Whitehead\", \"The Music of Erich Zann\", \"Egyptian Christmas\", \"Nemesis\", \"Poetry and the Gods with Anna Helen Crofts\", \"The Shunned House\", \"Cool Air\", \"Till A' the Seas with R. H. Barlow\", \"Tosh Bosh\", \"St. John\", \"The Disinterment with Duane W. Rimel\", \"The House\", \"The Horror in the Burying Ground with Hazel Heald\", \"The Rose of England\", \"The Case of Charles Dexter Ward\", \"The Despised Pastoral\", \"The Silver Key\", \"The Battle that Ended the Century with Robert Barlow\", \"The Night Ocean with R. H. Barlow\", \"The Conscript\", \"Dreams in the Witch-House\", \"The Crawling Chaos with Elizabeth Berkeley\", \"Ashes with C. M. Eddy\", \"The Curse of Yig with Zealia Bishop\", \"Pickman's Model\", \"Ode for July Fourth, 1917\", \"The Shadow Over Innsmouth\", \"Sweet Ermengarde by Percy Simple\", \"The Descendant\", \"Supernatural Horror in Literature with bibliography\", \"The Winged Death with Hazel Heald\", \"Festival\", \"Christmastide\", \"The Moon-Bog\", \"Beyond the Wall of Sleep\", \"The Nameless City\", \"The Poe-ets Nightmare\", \"Nyarlathotep\", \"In The Vault\", \"The Statement of Randolph Carter\", \"The Tree\", \"Cats and Dogs\", \"The Diary of Alonzo Typer with William Lumley\", \"Revelation\", \"The Book\", \"What the Moon Brings\", \"To Edward John Moreton Drax Plunkett, Eighteenth Baron Dunsany\", \"The Whisperer in Darkness\", \"He\", \"The Loved Dead with C. M. Eddy\", \"The Very Old Folk\", \"The Challenge from Beyond with C. L. Moore, A. Merritt, Robert E. Howard, and Frank Belknap Long\", \"Herbert West: Reanimator\", \"The Thing on the Doorstep\", \"The Evil Clergyman\", \"The Tree on the Hill with Duane W. Rimel\", \"The Wood\", \"Lines on General Robert E. Lee\", \"From Beyond\", \"Medusa's Coil with Zealia Bishop\", \"The Festival\", \"Collapsing Cosmoses with Robert Barlow\", \"At the Mountains of Madness\", \"The Transition of Juan Romero\", \"Sunset\", \"The Dream Quest of Unknown Kadath\", \"Good Saint Nick\", \"The Tomb\", \"The Bride of the Sea\", \"The Rats in the Walls\", \"The Terrible Old Man\", \"The Alchemist\", \"Christmas Blessings\", \"Providence\", \"The City\", \"Astrophobos\", \"Ibid\", \"On Reading Lord Dunsany's <i>Book of Wonder</i>\", \"The Doom That Came to Sarnath\", \"Waste Paper\", \"Little Tiger\", \"Ex Oblivione\", \"On Receiving a Picture of Swans\", \"A Reminiscence Of Dr. Samuel Johnson\", \"The Garden\", \"Christmas Snows\", \"The Peace Advocate\", \"The Strange High House in the Mist\", \"Two Black Bottles with Wilfred Blanch Talman\", \"The Hound\", \"The Street\", \"The Messenger\", \"The Shadow Out of Time\", \"Fungi from Yuggoth\", \"The Mysterious Ship\", \"Notes On Writing Weird Fiction\", \"History of the Necronomicon\", \"Laeta; A Lament\", \"The Haunter Of The Dark\", \"Poemata Minoria, Volume II\", \"The White Ship\", \"The Green Meadow with Winifred V. Jackson\", \"The Dunwich Horror\", \"Dagon\", \"The Man of Stone with Hazel Heald\", \"The Thing in the Moonlight with J. Chapman Miske\", \"Hypnos\", \"The Horror at Red Hook\", \"The Last Test with Adolphe de Castro\", \"Memory\", \"The Allowable Rhyme\", \"The Temple\", \"Celephais\", \"Deaf, Dumb, and Blind with C. M. Eddy\", \"Metrical Regularity\", \"Out of the Aeons with Hazel Heald\", \"The Mystery of the Grave-Yard\", \"Within The Walls Of Eryx with Kenneth Sterling\", \"The Horror at Martin's Beach with Sonia H. Greene\", \"The Quest of Iranon\", \"The Horror in the Museum with Hazel Heald\", \"The Beast in the Cave\", \"Hallowe'en in a Suburb\", \"The Call of Cthulhu\", \"Azathoth\", \"Polaris\", \"The Outsider\", \"The Colour Out of Space\", \"Where Once Poe Walked\", \"Facts Concerning the Late Arthur Jermyn and His Family\", \"Through the Gates of the Silver Key with E. Hoffmann Price\", \"Fact and Fancy\", \"The Unnamable\", \"Despair\", \"The Cats of Ulthar\", \"The Mound with Zealia Bishop\", \"Old Bugs\", \"The Ghost Eater with C. M. Eddy\", \"Imprisoned with the Pharaos\", \"The Little Glass Bottle\", \"<!-- -->At the Root  <!--\", \"Halcyon Days\", \"Nathanica\", \"An American to Mother England\", \"The Electric Executioner with Adolphe de Castro\", \"The Cats\", \"The Picture in the House\", \"The Other Gods\", \"Pacifist War Song - 1917\"], \"hoffset\": 0, \"location\": \"mouse\", \"type\": \"tooltip\", \"id\": \"el13448140318108069264\"}], \"data\": {\"data01\": [[-0.14947793319902644, 0.11221081784587901], [-0.11423444428841394, 0.07656735663742001], [-0.0597141588324335, 0.0444470313308745], [0.2002353114436338, -0.26229840159124707], [0.06977664257964916, -0.11528092766696256], [0.03291301338496542, -0.156742849619284], [-0.18992531332923893, 0.14057868374449847], [-0.0880637028743506, 0.07248376060083056], [-0.1161234352219535, 0.041575641185508626], [0.13695716652481194, -0.12777005393677912], [0.1740603811085974, -0.16532864736801145], [-0.1054704065578784, 0.06839954853390355], [0.05246475669120225, -0.09114951262804913], [-0.02284527232892568, 0.016715655290004416], [0.14250964430697693, -0.1660827598572622], [-0.1346885210804982, 0.09440225638149424], [0.05975102103626026, -0.04943382163989533], [-0.1801320679157001, 0.12130364757209869], [0.12201654716263334, -0.05135112563240397], [-0.22241423066256819, 0.09720980078244064], [0.08705733745539333, -0.08683598624643458], [-0.1612183854957825, 0.10968550751053488], [-0.10243479479908335, 0.016604018026567982], [0.7598334926721997, 0.6396790878613824], [-0.10359899756424581, 0.07292973897306101], [-0.13757020247147853, 0.08966172872865777], [0.16149156084969446, -0.18780932146686455], [-0.24470895897692663, 0.17287779272545323], [0.06527171397261176, -0.0849851098630017], [-0.05207168058728879, 0.020153842809127933], [0.08721753738863873, -0.06432012567785332], [-0.08094940878938321, 0.061879428684636056], [0.13119584578986435, -0.1279305885435842], [0.16059861583036372, -0.16493802642912075], [-0.03373705825792775, -0.012789897485544908], [-0.0931252537447673, 0.048086505572639576], [-0.2030832511478723, 0.10445583423280985], [0.014319411969421665, -0.09779114580909541], [-0.0422977500104815, -0.008776072309310056], [-0.01921844068813615, 0.006707186957597099], [-0.06552051322546429, 0.034594862249916265], [0.08035592793182077, -0.0884122809167694], [0.118230840695969, -0.12367663821941055], [-0.2235010487181927, 0.15084942019740077], [0.12455104901807534, -0.1550295969873319], [-0.14197133839330967, 0.07530500550783986], [0.0006096232618806265, -0.05416838298595669], [0.18805150901527948, -0.3031465909677571], [-0.20767349716588654, 0.1528517410561046], [-0.19355641467809237, 0.09887219495230642], [0.7598334926721997, 0.6396790878613824], [0.01849355197042482, -0.0382588851845858], [-0.09986590883979325, 0.05014065768127863], [-0.1628563545883643, 0.12618008112459883], [-0.11974805806678215, 0.08242115819325344], [-0.12945992552345434, 0.09014790146951059], [-0.11498839407611956, 0.06388968093304981], [0.08303370183111607, -0.1114845643146399], [0.15833375829222956, -0.1726355981123307], [-0.13238559426303717, 0.07662825744041037], [-0.19372090682048204, 0.1461929048487782], [-0.19262940770042475, 0.10378805762548762], [0.06430318073645314, -0.050819996758220104], [-0.27084443670852903, 0.18813593208655896], [-0.033652162330032646, 0.012406927944883886], [0.14562955087405594, -0.1637660291224497], [-0.20049147360202552, 0.0927426191171121], [0.17292091568042764, -0.20513523040181775], [-0.15418141979150754, 0.08126354052255773], [0.07948338171215381, -0.13259436139052316], [-0.10338938432499185, 0.06611487739207922], [-0.04974607973023488, 0.003282629089714955], [-0.11620975006326467, 0.05409153107230984], [0.18523272737335503, -0.19083882723989007], [0.11293005106708323, -0.191877012321985], [0.08071957443634376, -0.11159645523356175], [0.1374102192731204, -0.15970200645911786], [0.06804773971324553, -0.06557008998742157], [0.12373764452471463, -0.13290769726668747], [0.017207980499908654, -0.066007346915733], [0.0677063360947334, -0.08357069085223655], [0.16842524994174313, -0.2077377390532644], [-0.0032751790403692644, -0.05094515484227599], [0.14975298790038805, -0.15484440259744192], [0.05370724518810489, -0.047310075656012016], [0.12218721536285419, -0.14054625558723322], [0.17346768542243315, -0.17155349293076677], [0.10168078353089664, -0.11311746020245253], [-0.12272671306279127, 0.046049966913155], [-0.08480264386545665, 0.043349135509859166], [-0.07474491751156727, 0.03428394265726933], [-0.045758451230914085, -0.009388807159222988], [0.07556873281201716, -0.07357681405157013], [-0.3316004603158677, 0.23677942130539387], [-0.22894551861931708, 0.08994619679825837], [0.07744021015012681, -0.06794007456000987], [-0.16036015627930636, 0.1381990253701417], [0.1041331061041301, -0.10770483960303849], [0.16201008480834447, -0.19157467921571852], [-0.16474086263021137, 0.11562950677208915], [0.1304733132757149, -0.2221146291625086], [-0.039988849693459644, -0.0471186325758692], [-0.10191108862604518, 0.039675048298695476], [-0.155456484339709, 0.11668505800398851], [-0.11536972077722187, 0.044122799920556816], [-0.1455184765310687, 0.1244504836889772], [0.009404928752644568, -0.033152977497594126], [-0.13755314547243186, 0.05974890032691334], [-0.10686708668414213, 0.06071495006371658], [-0.06525254255689471, 0.0391822271643897], [0.04113458132087151, -0.08072400628655767], [0.09907920871892441, -0.10326085933250102], [-0.0876881563531515, 0.056045519244196214], [-0.028130294227964977, -0.03433912967521152], [0.7598334926721997, 0.6396790878613824], [0.030792332089927526, 0.026620751715013744], [-0.11576518798067088, 0.08636064710555921], [0.04365910256175119, -0.03317595060972023], [-0.18883801542560413, 0.13240705991197593], [-0.06106677477296202, 0.021642562816491153], [0.07177465953343201, -0.13157774696717714], [-0.06542554672018536, 0.037291446316308506], [-0.09880000589031361, 0.059292940389342706], [0.07929809057423919, -0.10508003022000406], [-0.18737692289509061, 0.12536851042098046], [-0.007727388451588085, -0.05585490662887323], [-0.022172551616279977, -0.050318307730319714], [-0.16278804332101193, 0.08489272167551351], [-0.10451472543306235, 0.05782138662940779], [0.09851997474734624, -0.1142301911086721], [0.02614188964525175, -0.01140657455922739], [-0.16172833158379568, 0.10458234081397025], [0.13242099367921809, -0.15398216845668458], [-0.1332853443419901, 0.09785214999846344], [0.10140431640405448, -0.1313630012796121], [0.01672246884830185, -0.043056036951270714], [-0.21360153458817277, 0.13654045196288805], [0.007917704125438473, -0.012161245199054638], [0.7598334926722327, 0.6396790878614238], [-0.16937149526272907, 0.11468496713726072], [0.13157659686683798, -0.10429782538603581], [0.022189439209611462, -0.047454070504292456], [0.17256368753889573, -0.17219190877052423], [0.11973964152180057, -0.14134880031786318], [0.16032238196622706, -0.24699764675490726], [-0.15196348400622542, 0.10106790895939592], [0.10905356609963252, -0.12087601866361257], [-0.1306910032381331, 0.07592341467418999], [0.03585326327933348, -0.08190547811865616], [0.14672765661365905, -0.16772296501622647]]}, \"id\": \"el13448140318146270160\"});\n",
        "   }(mpld3);\n",
        "}else if(typeof define === \"function\" && define.amd){\n",
        "   // require.js is available: use it to load d3/mpld3\n",
        "   require.config({paths: {d3: \"https://mpld3.github.io/js/d3.v3.min\"}});\n",
        "   require([\"d3\"], function(d3){\n",
        "      window.d3 = d3;\n",
        "      mpld3_load_lib(\"https://mpld3.github.io/js/mpld3.v0.3git.js\", function(){\n",
        "         \n",
        "         mpld3.draw_figure(\"fig_el134481403181462701601339678543\", {\"axes\": [{\"xlim\": [-0.40000000000000002, 1.0], \"yscale\": \"linear\", \"axesbg\": \"#EEEEEE\", \"texts\": [{\"v_baseline\": \"auto\", \"h_anchor\": \"middle\", \"color\": \"#000000\", \"text\": \"2 Princomps of Lovecraft TF-IDF Data\", \"coordinates\": \"axes\", \"zorder\": 3, \"alpha\": 1, \"fontsize\": 90.0, \"position\": [0.5, 1.006400409626216], \"rotation\": -0.0, \"id\": \"el13448140318110762256\"}], \"zoomable\": true, \"images\": [], \"xdomain\": [-0.40000000000000002, 1.0], \"ylim\": [-0.40000000000000002, 0.80000000000000016], \"paths\": [], \"sharey\": [], \"sharex\": [], \"axesbgalpha\": null, \"axes\": [{\"scale\": \"linear\", \"tickformat\": null, \"grid\": {\"color\": \"#FFFFFF\", \"alpha\": 1.0, \"dasharray\": \"none\", \"gridOn\": true}, \"fontsize\": 10.0, \"position\": \"bottom\", \"nticks\": 9, \"tickvalues\": null}, {\"scale\": \"linear\", \"tickformat\": null, \"grid\": {\"color\": \"#FFFFFF\", \"alpha\": 1.0, \"dasharray\": \"none\", \"gridOn\": true}, \"fontsize\": 10.0, \"position\": \"left\", \"nticks\": 8, \"tickvalues\": null}], \"lines\": [], \"markers\": [], \"id\": \"el13448140318110870224\", \"ydomain\": [-0.40000000000000002, 0.80000000000000016], \"collections\": [{\"paths\": [[[[0.0, -0.5], [0.13260155, -0.5], [0.25978993539242673, -0.44731684579412084], [0.3535533905932738, -0.3535533905932738], [0.44731684579412084, -0.25978993539242673], [0.5, -0.13260155], [0.5, 0.0], [0.5, 0.13260155], [0.44731684579412084, 0.25978993539242673], [0.3535533905932738, 0.3535533905932738], [0.25978993539242673, 0.44731684579412084], [0.13260155, 0.5], [0.0, 0.5], [-0.13260155, 0.5], [-0.25978993539242673, 0.44731684579412084], [-0.3535533905932738, 0.3535533905932738], [-0.44731684579412084, 0.25978993539242673], [-0.5, 0.13260155], [-0.5, 0.0], [-0.5, -0.13260155], [-0.44731684579412084, -0.25978993539242673], [-0.3535533905932738, -0.3535533905932738], [-0.25978993539242673, -0.44731684579412084], [-0.13260155, -0.5], [0.0, -0.5]], [\"M\", \"C\", \"C\", \"C\", \"C\", \"C\", \"C\", \"C\", \"C\", \"Z\"]]], \"edgecolors\": [\"#000000\"], \"edgewidths\": [1.0], \"offsets\": \"data01\", \"yindex\": 1, \"id\": \"el13448140318108069264\", \"pathtransforms\": [[22.22222222222222, 0.0, 0.0, 22.22222222222222, 0.0, 0.0]], \"pathcoordinates\": \"display\", \"offsetcoordinates\": \"data\", \"zorder\": 1, \"xindex\": 0, \"alphas\": [0.3], \"facecolors\": [\"#33CCFF\", \"#758AFF\", \"#7986FF\", \"#6F90FF\", \"#01FEFF\", \"#9966FF\", \"#738CFF\", \"#BB44FF\", \"#0FF0FF\", \"#9F60FF\", \"#47B8FF\", \"#00FFFF\", \"#8877FF\", \"#609FFF\", \"#FF00FF\", \"#51AEFF\", \"#3FC0FF\", \"#708FFF\", \"#708FFF\", \"#BF40FF\", \"#D02FFF\", \"#619DFF\", \"#6996FF\", \"#2ED1FF\", \"#C23DFF\", \"#8D71FF\", \"#24DBFF\", \"#AC52FF\", \"#A758FF\", \"#9768FF\", \"#45BAFF\", \"#08F7FF\", \"#649BFF\", \"#E01FFF\", \"#827DFF\", \"#3FC0FF\", \"#49B5FF\", \"#7986FF\", \"#50AFFF\", \"#DD21FF\", \"#609FFF\", \"#C638FF\", \"#FE00FF\", \"#EF10FF\", \"#2FD0FF\", \"#8778FF\", \"#EF10FF\", \"#0CF3FF\", \"#59A6FF\", \"#D827FF\", \"#56A9FF\", \"#3EC1FF\", \"#46B9FF\", \"#E01FFF\", \"#C738FF\", \"#C539FF\", \"#4EB1FF\", \"#2AD5FF\", \"#7986FF\", \"#C936FF\", \"#0DF2FF\", \"#FF00FF\", \"#6E91FF\", \"#9A65FF\", \"#15EAFF\", \"#BE41FF\", \"#07F8FF\", \"#34CBFF\", \"#47B8FF\", \"#59A5FF\", \"#E519FF\", \"#7985FF\", \"#28D6FF\", \"#6995FF\", \"#807FFF\", \"#8877FF\", \"#8778FF\", \"#56A9FF\", \"#0CF3FF\", \"#CA35FF\", \"#27D8FF\", \"#F708FF\", \"#A857FF\", \"#B14EFF\", \"#34CAFF\", \"#C738FF\", \"#D728FF\", \"#5DA2FF\", \"#F906FF\", \"#649BFF\", \"#5BA3FF\", \"#CD31FF\", \"#24DBFF\", \"#BC42FF\", \"#D32BFF\", \"#936BFF\", \"#4DB2FF\", \"#E519FF\", \"#D926FF\", \"#0CF3FF\", \"#2FD0FF\", \"#1AE5FF\", \"#41BEFF\", \"#F807FF\", \"#33CCFF\", \"#A35CFF\", \"#5DA2FF\", \"#926DFF\", \"#AA55FF\", \"#718EFF\", \"#F30CFF\", \"#2CD3FF\", \"#24DAFF\", \"#4FB0FF\", \"#8C72FF\", \"#53ACFF\", \"#05FAFF\", \"#8D71FF\", \"#BE41FF\", \"#0AF5FF\", \"#34CBFF\", \"#8F70FF\", \"#BC42FF\", \"#0BF4FF\", \"#3BC3FF\", \"#30CEFF\", \"#FA05FF\", \"#D926FF\", \"#8E71FF\", \"#FB04FF\", \"#AD51FF\", \"#03FCFF\", \"#37C8FF\", \"#BB44FF\", \"#6798FF\", \"#32CDFF\", \"#2FD0FF\", \"#53ACFF\", \"#7689FF\", \"#9E61FF\", \"#926DFF\", \"#9966FF\", \"#609FFF\", \"#B34BFF\", \"#1FE0FF\", \"#E519FF\", \"#C837FF\", \"#708FFF\", \"#6798FF\", \"#38C6FF\"]}], \"xscale\": \"linear\", \"bbox\": [0.125, 0.125, 0.77500000000000002, 0.77500000000000002]}], \"height\": 1120.0, \"width\": 1120.0, \"plugins\": [{\"type\": \"reset\"}, {\"enabled\": false, \"button\": true, \"type\": \"zoom\"}, {\"enabled\": false, \"button\": true, \"type\": \"boxzoom\"}, {\"voffset\": 10, \"labels\": [\"The Lurking Fear\", \"The Trap with Henry S. Whitehead\", \"The Music of Erich Zann\", \"Egyptian Christmas\", \"Nemesis\", \"Poetry and the Gods with Anna Helen Crofts\", \"The Shunned House\", \"Cool Air\", \"Till A' the Seas with R. H. Barlow\", \"Tosh Bosh\", \"St. John\", \"The Disinterment with Duane W. Rimel\", \"The House\", \"The Horror in the Burying Ground with Hazel Heald\", \"The Rose of England\", \"The Case of Charles Dexter Ward\", \"The Despised Pastoral\", \"The Silver Key\", \"The Battle that Ended the Century with Robert Barlow\", \"The Night Ocean with R. H. Barlow\", \"The Conscript\", \"Dreams in the Witch-House\", \"The Crawling Chaos with Elizabeth Berkeley\", \"Ashes with C. M. Eddy\", \"The Curse of Yig with Zealia Bishop\", \"Pickman's Model\", \"Ode for July Fourth, 1917\", \"The Shadow Over Innsmouth\", \"Sweet Ermengarde by Percy Simple\", \"The Descendant\", \"Supernatural Horror in Literature with bibliography\", \"The Winged Death with Hazel Heald\", \"Festival\", \"Christmastide\", \"The Moon-Bog\", \"Beyond the Wall of Sleep\", \"The Nameless City\", \"The Poe-ets Nightmare\", \"Nyarlathotep\", \"In The Vault\", \"The Statement of Randolph Carter\", \"The Tree\", \"Cats and Dogs\", \"The Diary of Alonzo Typer with William Lumley\", \"Revelation\", \"The Book\", \"What the Moon Brings\", \"To Edward John Moreton Drax Plunkett, Eighteenth Baron Dunsany\", \"The Whisperer in Darkness\", \"He\", \"The Loved Dead with C. M. Eddy\", \"The Very Old Folk\", \"The Challenge from Beyond with C. L. Moore, A. Merritt, Robert E. Howard, and Frank Belknap Long\", \"Herbert West: Reanimator\", \"The Thing on the Doorstep\", \"The Evil Clergyman\", \"The Tree on the Hill with Duane W. Rimel\", \"The Wood\", \"Lines on General Robert E. Lee\", \"From Beyond\", \"Medusa's Coil with Zealia Bishop\", \"The Festival\", \"Collapsing Cosmoses with Robert Barlow\", \"At the Mountains of Madness\", \"The Transition of Juan Romero\", \"Sunset\", \"The Dream Quest of Unknown Kadath\", \"Good Saint Nick\", \"The Tomb\", \"The Bride of the Sea\", \"The Rats in the Walls\", \"The Terrible Old Man\", \"The Alchemist\", \"Christmas Blessings\", \"Providence\", \"The City\", \"Astrophobos\", \"Ibid\", \"On Reading Lord Dunsany's <i>Book of Wonder</i>\", \"The Doom That Came to Sarnath\", \"Waste Paper\", \"Little Tiger\", \"Ex Oblivione\", \"On Receiving a Picture of Swans\", \"A Reminiscence Of Dr. Samuel Johnson\", \"The Garden\", \"Christmas Snows\", \"The Peace Advocate\", \"The Strange High House in the Mist\", \"Two Black Bottles with Wilfred Blanch Talman\", \"The Hound\", \"The Street\", \"The Messenger\", \"The Shadow Out of Time\", \"Fungi from Yuggoth\", \"The Mysterious Ship\", \"Notes On Writing Weird Fiction\", \"History of the Necronomicon\", \"Laeta; A Lament\", \"The Haunter Of The Dark\", \"Poemata Minoria, Volume II\", \"The White Ship\", \"The Green Meadow with Winifred V. Jackson\", \"The Dunwich Horror\", \"Dagon\", \"The Man of Stone with Hazel Heald\", \"The Thing in the Moonlight with J. Chapman Miske\", \"Hypnos\", \"The Horror at Red Hook\", \"The Last Test with Adolphe de Castro\", \"Memory\", \"The Allowable Rhyme\", \"The Temple\", \"Celephais\", \"Deaf, Dumb, and Blind with C. M. Eddy\", \"Metrical Regularity\", \"Out of the Aeons with Hazel Heald\", \"The Mystery of the Grave-Yard\", \"Within The Walls Of Eryx with Kenneth Sterling\", \"The Horror at Martin's Beach with Sonia H. Greene\", \"The Quest of Iranon\", \"The Horror in the Museum with Hazel Heald\", \"The Beast in the Cave\", \"Hallowe'en in a Suburb\", \"The Call of Cthulhu\", \"Azathoth\", \"Polaris\", \"The Outsider\", \"The Colour Out of Space\", \"Where Once Poe Walked\", \"Facts Concerning the Late Arthur Jermyn and His Family\", \"Through the Gates of the Silver Key with E. Hoffmann Price\", \"Fact and Fancy\", \"The Unnamable\", \"Despair\", \"The Cats of Ulthar\", \"The Mound with Zealia Bishop\", \"Old Bugs\", \"The Ghost Eater with C. M. Eddy\", \"Imprisoned with the Pharaos\", \"The Little Glass Bottle\", \"<!-- -->At the Root  <!--\", \"Halcyon Days\", \"Nathanica\", \"An American to Mother England\", \"The Electric Executioner with Adolphe de Castro\", \"The Cats\", \"The Picture in the House\", \"The Other Gods\", \"Pacifist War Song - 1917\"], \"hoffset\": 0, \"location\": \"mouse\", \"type\": \"tooltip\", \"id\": \"el13448140318108069264\"}], \"data\": {\"data01\": [[-0.14947793319902644, 0.11221081784587901], [-0.11423444428841394, 0.07656735663742001], [-0.0597141588324335, 0.0444470313308745], [0.2002353114436338, -0.26229840159124707], [0.06977664257964916, -0.11528092766696256], [0.03291301338496542, -0.156742849619284], [-0.18992531332923893, 0.14057868374449847], [-0.0880637028743506, 0.07248376060083056], [-0.1161234352219535, 0.041575641185508626], [0.13695716652481194, -0.12777005393677912], [0.1740603811085974, -0.16532864736801145], [-0.1054704065578784, 0.06839954853390355], [0.05246475669120225, -0.09114951262804913], [-0.02284527232892568, 0.016715655290004416], [0.14250964430697693, -0.1660827598572622], [-0.1346885210804982, 0.09440225638149424], [0.05975102103626026, -0.04943382163989533], [-0.1801320679157001, 0.12130364757209869], [0.12201654716263334, -0.05135112563240397], [-0.22241423066256819, 0.09720980078244064], [0.08705733745539333, -0.08683598624643458], [-0.1612183854957825, 0.10968550751053488], [-0.10243479479908335, 0.016604018026567982], [0.7598334926721997, 0.6396790878613824], [-0.10359899756424581, 0.07292973897306101], [-0.13757020247147853, 0.08966172872865777], [0.16149156084969446, -0.18780932146686455], [-0.24470895897692663, 0.17287779272545323], [0.06527171397261176, -0.0849851098630017], [-0.05207168058728879, 0.020153842809127933], [0.08721753738863873, -0.06432012567785332], [-0.08094940878938321, 0.061879428684636056], [0.13119584578986435, -0.1279305885435842], [0.16059861583036372, -0.16493802642912075], [-0.03373705825792775, -0.012789897485544908], [-0.0931252537447673, 0.048086505572639576], [-0.2030832511478723, 0.10445583423280985], [0.014319411969421665, -0.09779114580909541], [-0.0422977500104815, -0.008776072309310056], [-0.01921844068813615, 0.006707186957597099], [-0.06552051322546429, 0.034594862249916265], [0.08035592793182077, -0.0884122809167694], [0.118230840695969, -0.12367663821941055], [-0.2235010487181927, 0.15084942019740077], [0.12455104901807534, -0.1550295969873319], [-0.14197133839330967, 0.07530500550783986], [0.0006096232618806265, -0.05416838298595669], [0.18805150901527948, -0.3031465909677571], [-0.20767349716588654, 0.1528517410561046], [-0.19355641467809237, 0.09887219495230642], [0.7598334926721997, 0.6396790878613824], [0.01849355197042482, -0.0382588851845858], [-0.09986590883979325, 0.05014065768127863], [-0.1628563545883643, 0.12618008112459883], [-0.11974805806678215, 0.08242115819325344], [-0.12945992552345434, 0.09014790146951059], [-0.11498839407611956, 0.06388968093304981], [0.08303370183111607, -0.1114845643146399], [0.15833375829222956, -0.1726355981123307], [-0.13238559426303717, 0.07662825744041037], [-0.19372090682048204, 0.1461929048487782], [-0.19262940770042475, 0.10378805762548762], [0.06430318073645314, -0.050819996758220104], [-0.27084443670852903, 0.18813593208655896], [-0.033652162330032646, 0.012406927944883886], [0.14562955087405594, -0.1637660291224497], [-0.20049147360202552, 0.0927426191171121], [0.17292091568042764, -0.20513523040181775], [-0.15418141979150754, 0.08126354052255773], [0.07948338171215381, -0.13259436139052316], [-0.10338938432499185, 0.06611487739207922], [-0.04974607973023488, 0.003282629089714955], [-0.11620975006326467, 0.05409153107230984], [0.18523272737335503, -0.19083882723989007], [0.11293005106708323, -0.191877012321985], [0.08071957443634376, -0.11159645523356175], [0.1374102192731204, -0.15970200645911786], [0.06804773971324553, -0.06557008998742157], [0.12373764452471463, -0.13290769726668747], [0.017207980499908654, -0.066007346915733], [0.0677063360947334, -0.08357069085223655], [0.16842524994174313, -0.2077377390532644], [-0.0032751790403692644, -0.05094515484227599], [0.14975298790038805, -0.15484440259744192], [0.05370724518810489, -0.047310075656012016], [0.12218721536285419, -0.14054625558723322], [0.17346768542243315, -0.17155349293076677], [0.10168078353089664, -0.11311746020245253], [-0.12272671306279127, 0.046049966913155], [-0.08480264386545665, 0.043349135509859166], [-0.07474491751156727, 0.03428394265726933], [-0.045758451230914085, -0.009388807159222988], [0.07556873281201716, -0.07357681405157013], [-0.3316004603158677, 0.23677942130539387], [-0.22894551861931708, 0.08994619679825837], [0.07744021015012681, -0.06794007456000987], [-0.16036015627930636, 0.1381990253701417], [0.1041331061041301, -0.10770483960303849], [0.16201008480834447, -0.19157467921571852], [-0.16474086263021137, 0.11562950677208915], [0.1304733132757149, -0.2221146291625086], [-0.039988849693459644, -0.0471186325758692], [-0.10191108862604518, 0.039675048298695476], [-0.155456484339709, 0.11668505800398851], [-0.11536972077722187, 0.044122799920556816], [-0.1455184765310687, 0.1244504836889772], [0.009404928752644568, -0.033152977497594126], [-0.13755314547243186, 0.05974890032691334], [-0.10686708668414213, 0.06071495006371658], [-0.06525254255689471, 0.0391822271643897], [0.04113458132087151, -0.08072400628655767], [0.09907920871892441, -0.10326085933250102], [-0.0876881563531515, 0.056045519244196214], [-0.028130294227964977, -0.03433912967521152], [0.7598334926721997, 0.6396790878613824], [0.030792332089927526, 0.026620751715013744], [-0.11576518798067088, 0.08636064710555921], [0.04365910256175119, -0.03317595060972023], [-0.18883801542560413, 0.13240705991197593], [-0.06106677477296202, 0.021642562816491153], [0.07177465953343201, -0.13157774696717714], [-0.06542554672018536, 0.037291446316308506], [-0.09880000589031361, 0.059292940389342706], [0.07929809057423919, -0.10508003022000406], [-0.18737692289509061, 0.12536851042098046], [-0.007727388451588085, -0.05585490662887323], [-0.022172551616279977, -0.050318307730319714], [-0.16278804332101193, 0.08489272167551351], [-0.10451472543306235, 0.05782138662940779], [0.09851997474734624, -0.1142301911086721], [0.02614188964525175, -0.01140657455922739], [-0.16172833158379568, 0.10458234081397025], [0.13242099367921809, -0.15398216845668458], [-0.1332853443419901, 0.09785214999846344], [0.10140431640405448, -0.1313630012796121], [0.01672246884830185, -0.043056036951270714], [-0.21360153458817277, 0.13654045196288805], [0.007917704125438473, -0.012161245199054638], [0.7598334926722327, 0.6396790878614238], [-0.16937149526272907, 0.11468496713726072], [0.13157659686683798, -0.10429782538603581], [0.022189439209611462, -0.047454070504292456], [0.17256368753889573, -0.17219190877052423], [0.11973964152180057, -0.14134880031786318], [0.16032238196622706, -0.24699764675490726], [-0.15196348400622542, 0.10106790895939592], [0.10905356609963252, -0.12087601866361257], [-0.1306910032381331, 0.07592341467418999], [0.03585326327933348, -0.08190547811865616], [0.14672765661365905, -0.16772296501622647]]}, \"id\": \"el13448140318146270160\"});\n",
        "      });\n",
        "    });\n",
        "}else{\n",
        "    // require.js not available: dynamically load d3 & mpld3\n",
        "    mpld3_load_lib(\"https://mpld3.github.io/js/d3.v3.min.js\", function(){\n",
        "         mpld3_load_lib(\"https://mpld3.github.io/js/mpld3.v0.3git.js\", function(){\n",
        "                 \n",
        "                 mpld3.draw_figure(\"fig_el134481403181462701601339678543\", {\"axes\": [{\"xlim\": [-0.40000000000000002, 1.0], \"yscale\": \"linear\", \"axesbg\": \"#EEEEEE\", \"texts\": [{\"v_baseline\": \"auto\", \"h_anchor\": \"middle\", \"color\": \"#000000\", \"text\": \"2 Princomps of Lovecraft TF-IDF Data\", \"coordinates\": \"axes\", \"zorder\": 3, \"alpha\": 1, \"fontsize\": 90.0, \"position\": [0.5, 1.006400409626216], \"rotation\": -0.0, \"id\": \"el13448140318110762256\"}], \"zoomable\": true, \"images\": [], \"xdomain\": [-0.40000000000000002, 1.0], \"ylim\": [-0.40000000000000002, 0.80000000000000016], \"paths\": [], \"sharey\": [], \"sharex\": [], \"axesbgalpha\": null, \"axes\": [{\"scale\": \"linear\", \"tickformat\": null, \"grid\": {\"color\": \"#FFFFFF\", \"alpha\": 1.0, \"dasharray\": \"none\", \"gridOn\": true}, \"fontsize\": 10.0, \"position\": \"bottom\", \"nticks\": 9, \"tickvalues\": null}, {\"scale\": \"linear\", \"tickformat\": null, \"grid\": {\"color\": \"#FFFFFF\", \"alpha\": 1.0, \"dasharray\": \"none\", \"gridOn\": true}, \"fontsize\": 10.0, \"position\": \"left\", \"nticks\": 8, \"tickvalues\": null}], \"lines\": [], \"markers\": [], \"id\": \"el13448140318110870224\", \"ydomain\": [-0.40000000000000002, 0.80000000000000016], \"collections\": [{\"paths\": [[[[0.0, -0.5], [0.13260155, -0.5], [0.25978993539242673, -0.44731684579412084], [0.3535533905932738, -0.3535533905932738], [0.44731684579412084, -0.25978993539242673], [0.5, -0.13260155], [0.5, 0.0], [0.5, 0.13260155], [0.44731684579412084, 0.25978993539242673], [0.3535533905932738, 0.3535533905932738], [0.25978993539242673, 0.44731684579412084], [0.13260155, 0.5], [0.0, 0.5], [-0.13260155, 0.5], [-0.25978993539242673, 0.44731684579412084], [-0.3535533905932738, 0.3535533905932738], [-0.44731684579412084, 0.25978993539242673], [-0.5, 0.13260155], [-0.5, 0.0], [-0.5, -0.13260155], [-0.44731684579412084, -0.25978993539242673], [-0.3535533905932738, -0.3535533905932738], [-0.25978993539242673, -0.44731684579412084], [-0.13260155, -0.5], [0.0, -0.5]], [\"M\", \"C\", \"C\", \"C\", \"C\", \"C\", \"C\", \"C\", \"C\", \"Z\"]]], \"edgecolors\": [\"#000000\"], \"edgewidths\": [1.0], \"offsets\": \"data01\", \"yindex\": 1, \"id\": \"el13448140318108069264\", \"pathtransforms\": [[22.22222222222222, 0.0, 0.0, 22.22222222222222, 0.0, 0.0]], \"pathcoordinates\": \"display\", \"offsetcoordinates\": \"data\", \"zorder\": 1, \"xindex\": 0, \"alphas\": [0.3], \"facecolors\": [\"#33CCFF\", \"#758AFF\", \"#7986FF\", \"#6F90FF\", \"#01FEFF\", \"#9966FF\", \"#738CFF\", \"#BB44FF\", \"#0FF0FF\", \"#9F60FF\", \"#47B8FF\", \"#00FFFF\", \"#8877FF\", \"#609FFF\", \"#FF00FF\", \"#51AEFF\", \"#3FC0FF\", \"#708FFF\", \"#708FFF\", \"#BF40FF\", \"#D02FFF\", \"#619DFF\", \"#6996FF\", \"#2ED1FF\", \"#C23DFF\", \"#8D71FF\", \"#24DBFF\", \"#AC52FF\", \"#A758FF\", \"#9768FF\", \"#45BAFF\", \"#08F7FF\", \"#649BFF\", \"#E01FFF\", \"#827DFF\", \"#3FC0FF\", \"#49B5FF\", \"#7986FF\", \"#50AFFF\", \"#DD21FF\", \"#609FFF\", \"#C638FF\", \"#FE00FF\", \"#EF10FF\", \"#2FD0FF\", \"#8778FF\", \"#EF10FF\", \"#0CF3FF\", \"#59A6FF\", \"#D827FF\", \"#56A9FF\", \"#3EC1FF\", \"#46B9FF\", \"#E01FFF\", \"#C738FF\", \"#C539FF\", \"#4EB1FF\", \"#2AD5FF\", \"#7986FF\", \"#C936FF\", \"#0DF2FF\", \"#FF00FF\", \"#6E91FF\", \"#9A65FF\", \"#15EAFF\", \"#BE41FF\", \"#07F8FF\", \"#34CBFF\", \"#47B8FF\", \"#59A5FF\", \"#E519FF\", \"#7985FF\", \"#28D6FF\", \"#6995FF\", \"#807FFF\", \"#8877FF\", \"#8778FF\", \"#56A9FF\", \"#0CF3FF\", \"#CA35FF\", \"#27D8FF\", \"#F708FF\", \"#A857FF\", \"#B14EFF\", \"#34CAFF\", \"#C738FF\", \"#D728FF\", \"#5DA2FF\", \"#F906FF\", \"#649BFF\", \"#5BA3FF\", \"#CD31FF\", \"#24DBFF\", \"#BC42FF\", \"#D32BFF\", \"#936BFF\", \"#4DB2FF\", \"#E519FF\", \"#D926FF\", \"#0CF3FF\", \"#2FD0FF\", \"#1AE5FF\", \"#41BEFF\", \"#F807FF\", \"#33CCFF\", \"#A35CFF\", \"#5DA2FF\", \"#926DFF\", \"#AA55FF\", \"#718EFF\", \"#F30CFF\", \"#2CD3FF\", \"#24DAFF\", \"#4FB0FF\", \"#8C72FF\", \"#53ACFF\", \"#05FAFF\", \"#8D71FF\", \"#BE41FF\", \"#0AF5FF\", \"#34CBFF\", \"#8F70FF\", \"#BC42FF\", \"#0BF4FF\", \"#3BC3FF\", \"#30CEFF\", \"#FA05FF\", \"#D926FF\", \"#8E71FF\", \"#FB04FF\", \"#AD51FF\", \"#03FCFF\", \"#37C8FF\", \"#BB44FF\", \"#6798FF\", \"#32CDFF\", \"#2FD0FF\", \"#53ACFF\", \"#7689FF\", \"#9E61FF\", \"#926DFF\", \"#9966FF\", \"#609FFF\", \"#B34BFF\", \"#1FE0FF\", \"#E519FF\", \"#C837FF\", \"#708FFF\", \"#6798FF\", \"#38C6FF\"]}], \"xscale\": \"linear\", \"bbox\": [0.125, 0.125, 0.77500000000000002, 0.77500000000000002]}], \"height\": 1120.0, \"width\": 1120.0, \"plugins\": [{\"type\": \"reset\"}, {\"enabled\": false, \"button\": true, \"type\": \"zoom\"}, {\"enabled\": false, \"button\": true, \"type\": \"boxzoom\"}, {\"voffset\": 10, \"labels\": [\"The Lurking Fear\", \"The Trap with Henry S. Whitehead\", \"The Music of Erich Zann\", \"Egyptian Christmas\", \"Nemesis\", \"Poetry and the Gods with Anna Helen Crofts\", \"The Shunned House\", \"Cool Air\", \"Till A' the Seas with R. H. Barlow\", \"Tosh Bosh\", \"St. John\", \"The Disinterment with Duane W. Rimel\", \"The House\", \"The Horror in the Burying Ground with Hazel Heald\", \"The Rose of England\", \"The Case of Charles Dexter Ward\", \"The Despised Pastoral\", \"The Silver Key\", \"The Battle that Ended the Century with Robert Barlow\", \"The Night Ocean with R. H. Barlow\", \"The Conscript\", \"Dreams in the Witch-House\", \"The Crawling Chaos with Elizabeth Berkeley\", \"Ashes with C. M. Eddy\", \"The Curse of Yig with Zealia Bishop\", \"Pickman's Model\", \"Ode for July Fourth, 1917\", \"The Shadow Over Innsmouth\", \"Sweet Ermengarde by Percy Simple\", \"The Descendant\", \"Supernatural Horror in Literature with bibliography\", \"The Winged Death with Hazel Heald\", \"Festival\", \"Christmastide\", \"The Moon-Bog\", \"Beyond the Wall of Sleep\", \"The Nameless City\", \"The Poe-ets Nightmare\", \"Nyarlathotep\", \"In The Vault\", \"The Statement of Randolph Carter\", \"The Tree\", \"Cats and Dogs\", \"The Diary of Alonzo Typer with William Lumley\", \"Revelation\", \"The Book\", \"What the Moon Brings\", \"To Edward John Moreton Drax Plunkett, Eighteenth Baron Dunsany\", \"The Whisperer in Darkness\", \"He\", \"The Loved Dead with C. M. Eddy\", \"The Very Old Folk\", \"The Challenge from Beyond with C. L. Moore, A. Merritt, Robert E. Howard, and Frank Belknap Long\", \"Herbert West: Reanimator\", \"The Thing on the Doorstep\", \"The Evil Clergyman\", \"The Tree on the Hill with Duane W. Rimel\", \"The Wood\", \"Lines on General Robert E. Lee\", \"From Beyond\", \"Medusa's Coil with Zealia Bishop\", \"The Festival\", \"Collapsing Cosmoses with Robert Barlow\", \"At the Mountains of Madness\", \"The Transition of Juan Romero\", \"Sunset\", \"The Dream Quest of Unknown Kadath\", \"Good Saint Nick\", \"The Tomb\", \"The Bride of the Sea\", \"The Rats in the Walls\", \"The Terrible Old Man\", \"The Alchemist\", \"Christmas Blessings\", \"Providence\", \"The City\", \"Astrophobos\", \"Ibid\", \"On Reading Lord Dunsany's <i>Book of Wonder</i>\", \"The Doom That Came to Sarnath\", \"Waste Paper\", \"Little Tiger\", \"Ex Oblivione\", \"On Receiving a Picture of Swans\", \"A Reminiscence Of Dr. Samuel Johnson\", \"The Garden\", \"Christmas Snows\", \"The Peace Advocate\", \"The Strange High House in the Mist\", \"Two Black Bottles with Wilfred Blanch Talman\", \"The Hound\", \"The Street\", \"The Messenger\", \"The Shadow Out of Time\", \"Fungi from Yuggoth\", \"The Mysterious Ship\", \"Notes On Writing Weird Fiction\", \"History of the Necronomicon\", \"Laeta; A Lament\", \"The Haunter Of The Dark\", \"Poemata Minoria, Volume II\", \"The White Ship\", \"The Green Meadow with Winifred V. Jackson\", \"The Dunwich Horror\", \"Dagon\", \"The Man of Stone with Hazel Heald\", \"The Thing in the Moonlight with J. Chapman Miske\", \"Hypnos\", \"The Horror at Red Hook\", \"The Last Test with Adolphe de Castro\", \"Memory\", \"The Allowable Rhyme\", \"The Temple\", \"Celephais\", \"Deaf, Dumb, and Blind with C. M. Eddy\", \"Metrical Regularity\", \"Out of the Aeons with Hazel Heald\", \"The Mystery of the Grave-Yard\", \"Within The Walls Of Eryx with Kenneth Sterling\", \"The Horror at Martin's Beach with Sonia H. Greene\", \"The Quest of Iranon\", \"The Horror in the Museum with Hazel Heald\", \"The Beast in the Cave\", \"Hallowe'en in a Suburb\", \"The Call of Cthulhu\", \"Azathoth\", \"Polaris\", \"The Outsider\", \"The Colour Out of Space\", \"Where Once Poe Walked\", \"Facts Concerning the Late Arthur Jermyn and His Family\", \"Through the Gates of the Silver Key with E. Hoffmann Price\", \"Fact and Fancy\", \"The Unnamable\", \"Despair\", \"The Cats of Ulthar\", \"The Mound with Zealia Bishop\", \"Old Bugs\", \"The Ghost Eater with C. M. Eddy\", \"Imprisoned with the Pharaos\", \"The Little Glass Bottle\", \"<!-- -->At the Root  <!--\", \"Halcyon Days\", \"Nathanica\", \"An American to Mother England\", \"The Electric Executioner with Adolphe de Castro\", \"The Cats\", \"The Picture in the House\", \"The Other Gods\", \"Pacifist War Song - 1917\"], \"hoffset\": 0, \"location\": \"mouse\", \"type\": \"tooltip\", \"id\": \"el13448140318108069264\"}], \"data\": {\"data01\": [[-0.14947793319902644, 0.11221081784587901], [-0.11423444428841394, 0.07656735663742001], [-0.0597141588324335, 0.0444470313308745], [0.2002353114436338, -0.26229840159124707], [0.06977664257964916, -0.11528092766696256], [0.03291301338496542, -0.156742849619284], [-0.18992531332923893, 0.14057868374449847], [-0.0880637028743506, 0.07248376060083056], [-0.1161234352219535, 0.041575641185508626], [0.13695716652481194, -0.12777005393677912], [0.1740603811085974, -0.16532864736801145], [-0.1054704065578784, 0.06839954853390355], [0.05246475669120225, -0.09114951262804913], [-0.02284527232892568, 0.016715655290004416], [0.14250964430697693, -0.1660827598572622], [-0.1346885210804982, 0.09440225638149424], [0.05975102103626026, -0.04943382163989533], [-0.1801320679157001, 0.12130364757209869], [0.12201654716263334, -0.05135112563240397], [-0.22241423066256819, 0.09720980078244064], [0.08705733745539333, -0.08683598624643458], [-0.1612183854957825, 0.10968550751053488], [-0.10243479479908335, 0.016604018026567982], [0.7598334926721997, 0.6396790878613824], [-0.10359899756424581, 0.07292973897306101], [-0.13757020247147853, 0.08966172872865777], [0.16149156084969446, -0.18780932146686455], [-0.24470895897692663, 0.17287779272545323], [0.06527171397261176, -0.0849851098630017], [-0.05207168058728879, 0.020153842809127933], [0.08721753738863873, -0.06432012567785332], [-0.08094940878938321, 0.061879428684636056], [0.13119584578986435, -0.1279305885435842], [0.16059861583036372, -0.16493802642912075], [-0.03373705825792775, -0.012789897485544908], [-0.0931252537447673, 0.048086505572639576], [-0.2030832511478723, 0.10445583423280985], [0.014319411969421665, -0.09779114580909541], [-0.0422977500104815, -0.008776072309310056], [-0.01921844068813615, 0.006707186957597099], [-0.06552051322546429, 0.034594862249916265], [0.08035592793182077, -0.0884122809167694], [0.118230840695969, -0.12367663821941055], [-0.2235010487181927, 0.15084942019740077], [0.12455104901807534, -0.1550295969873319], [-0.14197133839330967, 0.07530500550783986], [0.0006096232618806265, -0.05416838298595669], [0.18805150901527948, -0.3031465909677571], [-0.20767349716588654, 0.1528517410561046], [-0.19355641467809237, 0.09887219495230642], [0.7598334926721997, 0.6396790878613824], [0.01849355197042482, -0.0382588851845858], [-0.09986590883979325, 0.05014065768127863], [-0.1628563545883643, 0.12618008112459883], [-0.11974805806678215, 0.08242115819325344], [-0.12945992552345434, 0.09014790146951059], [-0.11498839407611956, 0.06388968093304981], [0.08303370183111607, -0.1114845643146399], [0.15833375829222956, -0.1726355981123307], [-0.13238559426303717, 0.07662825744041037], [-0.19372090682048204, 0.1461929048487782], [-0.19262940770042475, 0.10378805762548762], [0.06430318073645314, -0.050819996758220104], [-0.27084443670852903, 0.18813593208655896], [-0.033652162330032646, 0.012406927944883886], [0.14562955087405594, -0.1637660291224497], [-0.20049147360202552, 0.0927426191171121], [0.17292091568042764, -0.20513523040181775], [-0.15418141979150754, 0.08126354052255773], [0.07948338171215381, -0.13259436139052316], [-0.10338938432499185, 0.06611487739207922], [-0.04974607973023488, 0.003282629089714955], [-0.11620975006326467, 0.05409153107230984], [0.18523272737335503, -0.19083882723989007], [0.11293005106708323, -0.191877012321985], [0.08071957443634376, -0.11159645523356175], [0.1374102192731204, -0.15970200645911786], [0.06804773971324553, -0.06557008998742157], [0.12373764452471463, -0.13290769726668747], [0.017207980499908654, -0.066007346915733], [0.0677063360947334, -0.08357069085223655], [0.16842524994174313, -0.2077377390532644], [-0.0032751790403692644, -0.05094515484227599], [0.14975298790038805, -0.15484440259744192], [0.05370724518810489, -0.047310075656012016], [0.12218721536285419, -0.14054625558723322], [0.17346768542243315, -0.17155349293076677], [0.10168078353089664, -0.11311746020245253], [-0.12272671306279127, 0.046049966913155], [-0.08480264386545665, 0.043349135509859166], [-0.07474491751156727, 0.03428394265726933], [-0.045758451230914085, -0.009388807159222988], [0.07556873281201716, -0.07357681405157013], [-0.3316004603158677, 0.23677942130539387], [-0.22894551861931708, 0.08994619679825837], [0.07744021015012681, -0.06794007456000987], [-0.16036015627930636, 0.1381990253701417], [0.1041331061041301, -0.10770483960303849], [0.16201008480834447, -0.19157467921571852], [-0.16474086263021137, 0.11562950677208915], [0.1304733132757149, -0.2221146291625086], [-0.039988849693459644, -0.0471186325758692], [-0.10191108862604518, 0.039675048298695476], [-0.155456484339709, 0.11668505800398851], [-0.11536972077722187, 0.044122799920556816], [-0.1455184765310687, 0.1244504836889772], [0.009404928752644568, -0.033152977497594126], [-0.13755314547243186, 0.05974890032691334], [-0.10686708668414213, 0.06071495006371658], [-0.06525254255689471, 0.0391822271643897], [0.04113458132087151, -0.08072400628655767], [0.09907920871892441, -0.10326085933250102], [-0.0876881563531515, 0.056045519244196214], [-0.028130294227964977, -0.03433912967521152], [0.7598334926721997, 0.6396790878613824], [0.030792332089927526, 0.026620751715013744], [-0.11576518798067088, 0.08636064710555921], [0.04365910256175119, -0.03317595060972023], [-0.18883801542560413, 0.13240705991197593], [-0.06106677477296202, 0.021642562816491153], [0.07177465953343201, -0.13157774696717714], [-0.06542554672018536, 0.037291446316308506], [-0.09880000589031361, 0.059292940389342706], [0.07929809057423919, -0.10508003022000406], [-0.18737692289509061, 0.12536851042098046], [-0.007727388451588085, -0.05585490662887323], [-0.022172551616279977, -0.050318307730319714], [-0.16278804332101193, 0.08489272167551351], [-0.10451472543306235, 0.05782138662940779], [0.09851997474734624, -0.1142301911086721], [0.02614188964525175, -0.01140657455922739], [-0.16172833158379568, 0.10458234081397025], [0.13242099367921809, -0.15398216845668458], [-0.1332853443419901, 0.09785214999846344], [0.10140431640405448, -0.1313630012796121], [0.01672246884830185, -0.043056036951270714], [-0.21360153458817277, 0.13654045196288805], [0.007917704125438473, -0.012161245199054638], [0.7598334926722327, 0.6396790878614238], [-0.16937149526272907, 0.11468496713726072], [0.13157659686683798, -0.10429782538603581], [0.022189439209611462, -0.047454070504292456], [0.17256368753889573, -0.17219190877052423], [0.11973964152180057, -0.14134880031786318], [0.16032238196622706, -0.24699764675490726], [-0.15196348400622542, 0.10106790895939592], [0.10905356609963252, -0.12087601866361257], [-0.1306910032381331, 0.07592341467418999], [0.03585326327933348, -0.08190547811865616], [0.14672765661365905, -0.16772296501622647]]}, \"id\": \"el13448140318146270160\"});\n",
        "            })\n",
        "         });\n",
        "}\n",
        "</script>"
       ],
       "metadata": {},
       "output_type": "pyout",
       "prompt_number": 19,
       "text": [
        "<IPython.core.display.HTML at 0x7f9e58115210>"
       ]
      }
     ],
     "prompt_number": 19
    },
    {
     "cell_type": "markdown",
     "metadata": {},
     "source": [
      "TSNE  for dimensional reduction, good write up here: \n",
      "http://nbviewer.ipython.org/urls/gist.githubusercontent.com/AlexanderFabisch/1a0c648de22eff4a2a3e/raw/59d5bc5ed8f8bfd9ff1f7faa749d1b095aa97d5a/t-SNE.ipynb"
     ]
    },
    {
     "cell_type": "code",
     "collapsed": false,
     "input": [
      "from sklearn.decomposition import TruncatedSVD\n",
      "from sklearn.manifold import TSNE\n",
      "\n",
      "X_reduced = TruncatedSVD(n_components=50, random_state=0).fit_transform(sparse_fit)\n",
      "X_embedded = TSNE(n_components=2, perplexity=40, verbose=2).fit_transform(X_reduced)"
     ],
     "language": "python",
     "metadata": {},
     "outputs": [
      {
       "output_type": "stream",
       "stream": "stdout",
       "text": [
        "[t-SNE] Computing pairwise distances...\n",
        "[t-SNE] Computed conditional probabilities for sample 150 / 150\n",
        "[t-SNE] Mean sigma: 0.298108\n",
        "[t-SNE] Iteration 10: error = 15.9493358, gradient norm = 0.0780002"
       ]
      },
      {
       "output_type": "stream",
       "stream": "stdout",
       "text": [
        "\n",
        "[t-SNE] Iteration 20: error = 14.3459255, gradient norm = 0.0583803\n",
        "[t-SNE] Iteration 30: error = 13.5605056, gradient norm = 0.0653010"
       ]
      },
      {
       "output_type": "stream",
       "stream": "stdout",
       "text": [
        "\n",
        "[t-SNE] Iteration 32: did not make any progress during the last 30 episodes. Finished.\n",
        "[t-SNE] Iteration 40: error = 13.6432213, gradient norm = 0.0655326\n",
        "[t-SNE] Iteration 50: error = 13.6301872, gradient norm = 0.0772267"
       ]
      },
      {
       "output_type": "stream",
       "stream": "stdout",
       "text": [
        "\n",
        "[t-SNE] Iteration 60: error = 13.8384477, gradient norm = 0.0794470\n",
        "[t-SNE] Iteration 67: did not make any progress during the last 30 episodes. Finished."
       ]
      },
      {
       "output_type": "stream",
       "stream": "stdout",
       "text": [
        "\n",
        "[t-SNE] Error after 67 iterations with early exaggeration: 14.002669\n",
        "[t-SNE] Iteration 70: error = 1.8689271, gradient norm = 0.0327170\n",
        "[t-SNE] Iteration 80: error = 2.2658527, gradient norm = 0.0955565\n",
        "[t-SNE] Iteration 90: error = 2.3019013, gradient norm = 0.0368491"
       ]
      },
      {
       "output_type": "stream",
       "stream": "stdout",
       "text": [
        "\n",
        "[t-SNE] Iteration 100: error = 2.2796604, gradient norm = 0.0685981\n",
        "[t-SNE] Iteration 101: did not make any progress during the last 30 episodes. Finished.\n",
        "[t-SNE] Error after 101 iterations: 2.236815\n"
       ]
      }
     ],
     "prompt_number": 42
    },
    {
     "cell_type": "markdown",
     "metadata": {},
     "source": [
      "TSNE Visualization Using Matplotlib and D3 via mpld3"
     ]
    },
    {
     "cell_type": "code",
     "collapsed": false,
     "input": [
      "%matplotlib inline\n",
      "from sklearn.manifold import TSNE\n",
      "from sklearn.decomposition import TruncatedSVD\n",
      "\n",
      "    \n",
      "fig, ax = plt.subplots(subplot_kw=dict(axisbg='#EEEEEE'), figsize =(13,13))\n",
      "lables = lovecraft_dict.keys() \n",
      "N = len(lables)\n",
      "t_x = X_embedded[:, 0]\n",
      "t_y = X_embedded[:, 1]\n",
      "scatter = ax.scatter(t_x,\n",
      "                     t_y,\n",
      "                     c=np.random.random(size=N),\n",
      "                     alpha=0.3,\n",
      "                     cmap=plt.cm.cool,\n",
      "                     s = 490 )\n",
      "ax.grid(color='white', linestyle='solid')\n",
      "ax.set_title(\"TSNE of Lovecraft TF-IDF Data\", size=90)\n",
      "labels = ['{0}'.format(title) for title in lables]\n",
      "tooltip = mpld3.plugins.PointLabelTooltip(scatter, labels=labels)\n",
      "mpld3.plugins.connect(fig, tooltip)\n",
      "\n",
      "mpld3.display()\n",
      "#fig = figure(figsize=(15, 15))\n",
      "#plt.scatter(p_x,p_y,c=range(len(p_y)),cmap=cm.jet, s=300, marker=\"o\", alpha = 0.5)"
     ],
     "language": "python",
     "metadata": {},
     "outputs": [
      {
       "html": [
        "\n",
        "\n",
        "<style>\n",
        "\n",
        "</style>\n",
        "\n",
        "<div id=\"fig_el96471397587745664806727855566\"></div>\n",
        "<script>\n",
        "function mpld3_load_lib(url, callback){\n",
        "  var s = document.createElement('script');\n",
        "  s.src = url;\n",
        "  s.async = true;\n",
        "  s.onreadystatechange = s.onload = callback;\n",
        "  s.onerror = function(){console.warn(\"failed to load library \" + url);};\n",
        "  document.getElementsByTagName(\"head\")[0].appendChild(s);\n",
        "}\n",
        "\n",
        "if(typeof(mpld3) !== \"undefined\" && mpld3._mpld3IsLoaded){\n",
        "   // already loaded: just create the figure\n",
        "   !function(mpld3){\n",
        "       \n",
        "       mpld3.draw_figure(\"fig_el96471397587745664806727855566\", {\"axes\": [{\"xlim\": [-500.0, 400.0], \"yscale\": \"linear\", \"axesbg\": \"#EEEEEE\", \"texts\": [{\"v_baseline\": \"auto\", \"h_anchor\": \"middle\", \"color\": \"#000000\", \"text\": \"TSNE of Lovecraft TF-IDF Data\", \"coordinates\": \"axes\", \"zorder\": 3, \"alpha\": 1, \"fontsize\": 90.0, \"position\": [0.5, 1.0068927488282327], \"rotation\": -0.0, \"id\": \"el9647139758764754192\"}], \"zoomable\": true, \"images\": [], \"xdomain\": [-500.0, 400.0], \"ylim\": [-800.0, 800.0], \"paths\": [], \"sharey\": [], \"sharex\": [], \"axesbgalpha\": null, \"axes\": [{\"scale\": \"linear\", \"tickformat\": null, \"grid\": {\"color\": \"#FFFFFF\", \"alpha\": 1.0, \"dasharray\": \"none\", \"gridOn\": true}, \"fontsize\": 10.0, \"position\": \"bottom\", \"nticks\": 10, \"tickvalues\": null}, {\"scale\": \"linear\", \"tickformat\": null, \"grid\": {\"color\": \"#FFFFFF\", \"alpha\": 1.0, \"dasharray\": \"none\", \"gridOn\": true}, \"fontsize\": 10.0, \"position\": \"left\", \"nticks\": 9, \"tickvalues\": null}], \"lines\": [], \"markers\": [], \"id\": \"el9647139758771489488\", \"ydomain\": [-800.0, 800.0], \"collections\": [{\"paths\": [[[[0.0, -0.5], [0.13260155, -0.5], [0.25978993539242673, -0.44731684579412084], [0.3535533905932738, -0.3535533905932738], [0.44731684579412084, -0.25978993539242673], [0.5, -0.13260155], [0.5, 0.0], [0.5, 0.13260155], [0.44731684579412084, 0.25978993539242673], [0.3535533905932738, 0.3535533905932738], [0.25978993539242673, 0.44731684579412084], [0.13260155, 0.5], [0.0, 0.5], [-0.13260155, 0.5], [-0.25978993539242673, 0.44731684579412084], [-0.3535533905932738, 0.3535533905932738], [-0.44731684579412084, 0.25978993539242673], [-0.5, 0.13260155], [-0.5, 0.0], [-0.5, -0.13260155], [-0.44731684579412084, -0.25978993539242673], [-0.3535533905932738, -0.3535533905932738], [-0.25978993539242673, -0.44731684579412084], [-0.13260155, -0.5], [0.0, -0.5]], [\"M\", \"C\", \"C\", \"C\", \"C\", \"C\", \"C\", \"C\", \"C\", \"Z\"]]], \"edgecolors\": [\"#000000\"], \"edgewidths\": [1.0], \"offsets\": \"data01\", \"yindex\": 1, \"id\": \"el9647139758665690256\", \"pathtransforms\": [[24.595492912420728, 0.0, 0.0, 24.595492912420728, 0.0, 0.0]], \"pathcoordinates\": \"display\", \"offsetcoordinates\": \"data\", \"zorder\": 1, \"xindex\": 0, \"alphas\": [0.3], \"facecolors\": [\"#6E91FF\", \"#E916FF\", \"#56A9FF\", \"#827DFF\", \"#C936FF\", \"#639CFF\", \"#9E61FF\", \"#DE20FF\", \"#F509FF\", \"#20DEFF\", \"#EF10FF\", \"#7C83FF\", \"#3EC1FF\", \"#738CFF\", \"#FD01FF\", \"#7C83FF\", \"#51AEFF\", \"#A15EFF\", \"#3AC5FF\", \"#0EF1FF\", \"#1CE3FF\", \"#1CE3FF\", \"#22DDFF\", \"#1FE0FF\", \"#A35CFF\", \"#2AD5FF\", \"#55AAFF\", \"#E718FF\", \"#7788FF\", \"#AA55FF\", \"#28D7FF\", \"#2CD2FF\", \"#05FAFF\", \"#27D8FF\", \"#44BBFF\", \"#28D6FF\", \"#12EDFF\", \"#1AE5FF\", \"#748BFF\", \"#30CEFF\", \"#59A5FF\", \"#7F80FF\", \"#B04FFF\", \"#05FAFF\", \"#CD31FF\", \"#A05FFF\", \"#10EFFF\", \"#E11EFF\", \"#ED11FF\", \"#0AF5FF\", \"#43BCFF\", \"#CF30FF\", \"#C03FFF\", \"#2BD3FF\", \"#30CEFF\", \"#5CA3FF\", \"#7985FF\", \"#9D61FF\", \"#5CA3FF\", \"#748BFF\", \"#BF40FF\", \"#04FBFF\", \"#3CC2FF\", \"#B649FF\", \"#E618FF\", \"#817EFF\", \"#8778FF\", \"#16E9FF\", \"#708FFF\", \"#8778FF\", \"#3AC5FF\", \"#41BEFF\", \"#5EA1FF\", \"#00FFFF\", \"#4FB0FF\", \"#32CDFF\", \"#51AEFF\", \"#1AE5FF\", \"#E519FF\", \"#9768FF\", \"#AD51FF\", \"#CB34FF\", \"#7E81FF\", \"#11EEFF\", \"#8877FF\", \"#9569FF\", \"#BF40FF\", \"#6C93FF\", \"#1CE3FF\", \"#45BAFF\", \"#59A5FF\", \"#A559FF\", \"#916EFF\", \"#58A7FF\", \"#FF00FF\", \"#9A65FF\", \"#38C6FF\", \"#15EAFF\", \"#23DCFF\", \"#3BC3FF\", \"#24DAFF\", \"#2BD3FF\", \"#45BAFF\", \"#28D7FF\", \"#E718FF\", \"#0FF0FF\", \"#8579FF\", \"#6798FF\", \"#FD01FF\", \"#18E7FF\", \"#639CFF\", \"#FA05FF\", \"#DF20FF\", \"#D22DFF\", \"#3EC1FF\", \"#27D8FF\", \"#AB54FF\", \"#F00FFF\", \"#8D71FF\", \"#916EFF\", \"#44BBFF\", \"#C539FF\", \"#2CD3FF\", \"#50AFFF\", \"#6995FF\", \"#807FFF\", \"#3AC5FF\", \"#19E6FF\", \"#9B64FF\", \"#46B9FF\", \"#936BFF\", \"#23DCFF\", \"#7986FF\", \"#8778FF\", \"#08F7FF\", \"#53ACFF\", \"#1EE1FF\", \"#0BF4FF\", \"#FF00FF\", \"#4FB0FF\", \"#D02FFF\", \"#3CC2FF\", \"#AE51FF\", \"#C33CFF\", \"#9768FF\", \"#7788FF\", \"#6798FF\", \"#56A9FF\", \"#F00FFF\", \"#D529FF\"]}], \"xscale\": \"linear\", \"bbox\": [0.125, 0.125, 0.77500000000000002, 0.77500000000000002]}], \"height\": 1040.0, \"width\": 1040.0, \"plugins\": [{\"type\": \"reset\"}, {\"enabled\": false, \"button\": true, \"type\": \"zoom\"}, {\"enabled\": false, \"button\": true, \"type\": \"boxzoom\"}, {\"voffset\": 10, \"labels\": [\"The Lurking Fear\", \"The Trap with Henry S. Whitehead\", \"The Music of Erich Zann\", \"Egyptian Christmas\", \"Nemesis\", \"Supernatural Horror in Literature with bibliography\", \"The Festival\", \"On Receiving a Picture of Swans\", \"The Shunned House\", \"Till A' the Seas with R. H. Barlow\", \"Tosh Bosh\", \"St. John\", \"The Disinterment with Duane W. Rimel\", \"The House\", \"Notes On Writing Weird Fiction\", \"The Rose of England\", \"The Case of Charles Dexter Ward\", \"Deaf, Dumb, and Blind with C. M. Eddy\", \"The Silver Key\", \"The Battle that Ended the Century with Robert Barlow\", \"The Night Ocean with R. H. Barlow\", \"The Conscript\", \"Dreams in the Witch-House\", \"The Crawling Chaos with Elizabeth Berkeley\", \"Ashes with C. M. Eddy\", \"The Curse of Yig with Zealia Bishop\", \"Providence\", \"Ode for July Fourth, 1917\", \"The Shadow Over Innsmouth\", \"Sweet Ermengarde by Percy Simple\", \"The Descendant\", \"The Terrible Old Man\", \"The Winged Death with Hazel Heald\", \"Facts Concerning the Late Arthur Jermyn and His Family\", \"Christmastide\", \"The Moon-Bog\", \"Beyond the Wall of Sleep\", \"The Nameless City\", \"The Poe-ets Nightmare\", \"Nyarlathotep\", \"Poetry and the Gods with Anna Helen Crofts\", \"In The Vault\", \"The Loved Dead with C. M. Eddy\", \"The Tree\", \"Cats and Dogs\", \"The Diary of Alonzo Typer with William Lumley\", \"Revelation\", \"The Book\", \"What the Moon Brings\", \"To Edward John Moreton Drax Plunkett, Eighteenth Baron Dunsany\", \"Waste Paper\", \"He\", \"The Very Old Folk\", \"The Challenge from Beyond with C. L. Moore, A. Merritt, Robert E. Howard, and Frank Belknap Long\", \"Herbert West: Reanimator\", \"The Thing on the Doorstep\", \"The Evil Clergyman\", \"The Tree on the Hill with Duane W. Rimel\", \"The Wood\", \"Lines on General Robert E. Lee\", \"From Beyond\", \"Medusa's Coil with Zealia Bishop\", \"Collapsing Cosmoses with Robert Barlow\", \"At the Mountains of Madness\", \"The Transition of Juan Romero\", \"Sunset\", \"The Dream Quest of Unknown Kadath\", \"Good Saint Nick\", \"The Tomb\", \"The Bride of the Sea\", \"Pickman's Model\", \"Cool Air\", \"The Alchemist\", \"Christmas Blessings\", \"Fact and Fancy\", \"The City\", \"Astrophobos\", \"Ibid\", \"On Reading Lord Dunsany's <i>Book of Wonder</i>\", \"The Doom That Came to Sarnath\", \"The Rats in the Walls\", \"Little Tiger\", \"Ex Oblivione\", \"Festival\", \"A Reminiscence Of Dr. Samuel Johnson\", \"The Garden\", \"Christmas Snows\", \"The Peace Advocate\", \"The Strange High House in the Mist\", \"Two Black Bottles with Wilfred Blanch Talman\", \"The Hound\", \"The Street\", \"The Messenger\", \"The Shadow Out of Time\", \"Fungi from Yuggoth\", \"The Mystery of the Grave-Yard\", \"The Mysterious Ship\", \"The Horror in the Burying Ground with Hazel Heald\", \"History of the Necronomicon\", \"Laeta; A Lament\", \"The Haunter Of The Dark\", \"Poemata Minoria, Volume II\", \"The White Ship\", \"The Green Meadow with Winifred V. Jackson\", \"The Dunwich Horror\", \"Dagon\", \"The Man of Stone with Hazel Heald\", \"The Thing in the Moonlight with J. Chapman Miske\", \"Hypnos\", \"The Horror at Red Hook\", \"The Last Test with Adolphe de Castro\", \"Memory\", \"The Allowable Rhyme\", \"The Temple\", \"Celephais\", \"The Despised Pastoral\", \"Metrical Regularity\", \"Out of the Aeons with Hazel Heald\", \"The Whisperer in Darkness\", \"Within The Walls Of Eryx with Kenneth Sterling\", \"The Horror at Martin's Beach with Sonia H. Greene\", \"The Quest of Iranon\", \"The Horror in the Museum with Hazel Heald\", \"The Beast in the Cave\", \"Hallowe'en in a Suburb\", \"The Call of Cthulhu\", \"Azathoth\", \"Polaris\", \"The Outsider\", \"The Colour Out of Space\", \"Where Once Poe Walked\", \"The Statement of Randolph Carter\", \"Through the Gates of the Silver Key with E. Hoffmann Price\", \"The Unnamable\", \"Despair\", \"The Cats of Ulthar\", \"The Mound with Zealia Bishop\", \"Old Bugs\", \"The Ghost Eater with C. M. Eddy\", \"Imprisoned with the Pharaos\", \"The Little Glass Bottle\", \"<!-- -->At the Root  <!--\", \"Halcyon Days\", \"Nathanica\", \"An American to Mother England\", \"The Electric Executioner with Adolphe de Castro\", \"The Cats\", \"The Picture in the House\", \"The Other Gods\", \"Pacifist War Song - 1917\"], \"hoffset\": 0, \"location\": \"mouse\", \"type\": \"tooltip\", \"id\": \"el9647139758665690256\"}], \"data\": {\"data01\": [[-9.36881084088503, -19.69889327376249], [-229.96723806151758, -183.89984024770604], [-26.388198632109507, 1.6633203137938795], [110.18906991068353, 130.3031741112892], [-95.46688233995992, -37.42350647273418], [-111.34342355690158, -119.9215094265241], [119.61108942294393, -74.78453164005845], [-161.36669041570383, 253.566600922103], [64.65710757606031, -84.42642054345772], [60.63628093715232, -69.81805737095571], [-35.89579514231559, 97.6466771589433], [-41.792971813688396, 140.82528098475825], [-9.045430592455329, 105.33861049017212], [-188.96666163041928, -20.047525425412758], [97.17012115074633, 4.681623865488057], [10.135929238636653, 95.2615023363353], [-115.79217695840055, -91.62809736188898], [-56.52712511902241, 88.45972698989613], [-4.772270273397881, -85.69002436337101], [-79.25025585313206, 3.9738767443017933], [-42.4786116600202, -95.39921827839218], [-182.16482923473293, 64.64698258295994], [-39.015316361172715, -1.8583901873245763], [-33.30705887187931, -86.76636754447702], [8.558319516376539, -105.54690045584493], [24.001181603405744, -5.0294348196458705], [111.00493170391898, 224.1550021557224], [67.30329587760977, -190.47715823819965], [-19.094140878463495, 33.79832551177377], [67.73231864321878, -55.70418252327959], [-29.41124729392541, -113.60358302685317], [-203.56938963188503, -217.64663788544595], [121.12960030240512, -66.92536309758782], [-29.04031923923889, 28.84024494416285], [-185.37908962032736, 198.11876027154165], [29.662728014031465, 16.627160835021613], [-56.94665481184483, -14.322275526898348], [-109.85078561363085, -20.38745837010403], [-58.967349896357234, -43.921689508315644], [38.03491670190276, 120.8287893898405], [63.98530523465039, -11.900074242432595], [-91.09182867365537, 17.172703547370126], [162.04492572322056, 21.577080651083918], [3.637035363527307, 50.662703998777005], [88.3135835616031, -40.359345603003575], [-15.30772884520215, -6.386356216591165], [-24.478100736459552, 55.01558490745353], [48.83604717881504, 188.73345747704138], [11.544859208439581, -64.40599631403155], [80.3096872948205, 83.78513350548131], [44.4246847404312, 79.9870526666108], [0.6118106380408199, 12.921280853228224], [-94.57726231949007, 142.90560800152272], [22.146609411287248, 77.07529822356823], [-98.9424602350671, 44.933306453879645], [-43.54862109388953, 53.574675164426345], [13.928642319281938, 34.02132606197131], [-35.54166210950773, -180.751846705102], [129.89639838742988, -660.5433944504757], [-81.61506016788157, 44.29160068666092], [-151.619660265334, -491.5462822211796], [77.20571786768393, 17.930864190694532], [110.04643962532633, 50.32801407105505], [33.923284404993446, 21.815862302025675], [-83.18193529931104, -25.038137805063595], [37.32444467784099, 165.55604679290866], [94.53126135903779, -162.01481773364338], [-10.38196087860178, 57.24845875807879], [-65.51374617512536, -104.67326162786419], [-4.718642462987184, 30.24444019917321], [60.19042199469662, 4.826260470821245], [-233.9417328480447, 94.68621587145479], [63.24304520342392, -26.947767343978366], [-59.60724452754677, 75.88550156459947], [25.143354869570135, 27.584097715340178], [14.885796051669177, 114.3089392455135], [-91.48894203461577, -2.0279073739678934], [122.24632288062324, 89.99767990793622], [71.89155705614428, -44.18393981891563], [7.777172288882955, -55.34048214215902], [125.23809285998483, 19.40305082767028], [52.42565219761789, 28.230895679979824], [187.0766634002242, 308.97931729969355], [-24.449010107213677, 75.37479782039382], [-83.76421070029909, 172.81090812697798], [56.15794464665857, -46.03506684579334], [86.5890396508953, -6.521767964487767], [39.78612417113598, 50.475811525642165], [-41.43735216837967, -50.40346012790285], [-47.120959641955984, -76.66932190661075], [-36.13709248716972, 37.573102920548536], [241.16920902758187, -188.39031654840372], [41.7653252515156, 92.88498968288428], [60.926812346555195, 71.83498149310466], [-62.96067627789295, -87.82834068229624], [-118.92885083804096, -61.234886820239474], [65.52815233747901, -31.361722698564908], [-44.90577911244177, -21.138101306990258], [-63.42815032545174, 22.937323896963427], [330.7337067032568, -115.96622409254098], [57.774109604208924, -113.20737238088252], [62.64624164379747, 20.14161568914212], [69.21866957618104, -98.22560082013528], [-138.1814611632361, 17.414207932070248], [-60.71664989872483, 40.985466698208164], [203.35489968106316, 102.35289442833928], [-26.8849237908695, -41.189121366944015], [-192.18700543995698, 660.2540692362207], [8.341054563402434, -97.84355694173183], [-46.806207376952955, 98.08745962267653], [233.61329072278437, -242.78259445177633], [-0.051368470821175294, 79.31933162471809], [77.14502597153361, 5.020854254139264], [-4.894370734900454, -59.765353534608735], [18.109583771439272, -23.15213708674018], [29.174148900216792, 41.41547899001135], [10.222298846707396, -29.012918510166827], [9.759754009409633, -5.498876914648965], [36.76424554061136, -18.04685039957941], [8.230915684162776, -21.23520764327613], [-124.21415788979239, 127.09168258936621], [91.65822197329055, 27.97689718212098], [92.49582043721037, 60.004949366907695], [12.824306690667424, -39.21685679619615], [-18.193337335471984, -76.44324392809985], [-15.667701876466053, 246.69478870663409], [-28.23764545300163, -65.16928131400282], [-38.850954650954385, -34.30371884356729], [111.87338273786486, 9.1409422385452], [50.212073524078086, -186.33338526425393], [-66.47463472406567, 6.76849217512923], [-14.629610169130757, -36.70460276192169], [-161.99944576726028, -41.043720858741885], [-3.2392040736224668, 0.002588743536470317], [-48.401789727485244, 34.230756936510744], [28.534826092125464, -72.64930049091512], [-61.4440407169137, -65.18867911704228], [-408.4404865027361, 452.69885994219385], [-161.65178136991653, -86.33532250256401], [-33.6107719106535, 170.21765449742617], [-40.63934457532946, 75.77490967467702], [43.710807590506164, -195.73179429440884], [-13.168542149061494, 87.6498146342783], [65.81880919814056, 52.84747253752836], [124.40359851738589, 65.55560860031919], [98.14000459715696, -27.932306139903602], [128.9347830865977, -30.797246754094143], [-101.90698223063079, -12.513684371258382], [77.89197479308827, -15.631721104364663], [62.138607595662855, -209.19217357825215]]}, \"id\": \"el9647139758774566480\"});\n",
        "   }(mpld3);\n",
        "}else if(typeof define === \"function\" && define.amd){\n",
        "   // require.js is available: use it to load d3/mpld3\n",
        "   require.config({paths: {d3: \"https://mpld3.github.io/js/d3.v3.min\"}});\n",
        "   require([\"d3\"], function(d3){\n",
        "      window.d3 = d3;\n",
        "      mpld3_load_lib(\"https://mpld3.github.io/js/mpld3.v0.3git.js\", function(){\n",
        "         \n",
        "         mpld3.draw_figure(\"fig_el96471397587745664806727855566\", {\"axes\": [{\"xlim\": [-500.0, 400.0], \"yscale\": \"linear\", \"axesbg\": \"#EEEEEE\", \"texts\": [{\"v_baseline\": \"auto\", \"h_anchor\": \"middle\", \"color\": \"#000000\", \"text\": \"TSNE of Lovecraft TF-IDF Data\", \"coordinates\": \"axes\", \"zorder\": 3, \"alpha\": 1, \"fontsize\": 90.0, \"position\": [0.5, 1.0068927488282327], \"rotation\": -0.0, \"id\": \"el9647139758764754192\"}], \"zoomable\": true, \"images\": [], \"xdomain\": [-500.0, 400.0], \"ylim\": [-800.0, 800.0], \"paths\": [], \"sharey\": [], \"sharex\": [], \"axesbgalpha\": null, \"axes\": [{\"scale\": \"linear\", \"tickformat\": null, \"grid\": {\"color\": \"#FFFFFF\", \"alpha\": 1.0, \"dasharray\": \"none\", \"gridOn\": true}, \"fontsize\": 10.0, \"position\": \"bottom\", \"nticks\": 10, \"tickvalues\": null}, {\"scale\": \"linear\", \"tickformat\": null, \"grid\": {\"color\": \"#FFFFFF\", \"alpha\": 1.0, \"dasharray\": \"none\", \"gridOn\": true}, \"fontsize\": 10.0, \"position\": \"left\", \"nticks\": 9, \"tickvalues\": null}], \"lines\": [], \"markers\": [], \"id\": \"el9647139758771489488\", \"ydomain\": [-800.0, 800.0], \"collections\": [{\"paths\": [[[[0.0, -0.5], [0.13260155, -0.5], [0.25978993539242673, -0.44731684579412084], [0.3535533905932738, -0.3535533905932738], [0.44731684579412084, -0.25978993539242673], [0.5, -0.13260155], [0.5, 0.0], [0.5, 0.13260155], [0.44731684579412084, 0.25978993539242673], [0.3535533905932738, 0.3535533905932738], [0.25978993539242673, 0.44731684579412084], [0.13260155, 0.5], [0.0, 0.5], [-0.13260155, 0.5], [-0.25978993539242673, 0.44731684579412084], [-0.3535533905932738, 0.3535533905932738], [-0.44731684579412084, 0.25978993539242673], [-0.5, 0.13260155], [-0.5, 0.0], [-0.5, -0.13260155], [-0.44731684579412084, -0.25978993539242673], [-0.3535533905932738, -0.3535533905932738], [-0.25978993539242673, -0.44731684579412084], [-0.13260155, -0.5], [0.0, -0.5]], [\"M\", \"C\", \"C\", \"C\", \"C\", \"C\", \"C\", \"C\", \"C\", \"Z\"]]], \"edgecolors\": [\"#000000\"], \"edgewidths\": [1.0], \"offsets\": \"data01\", \"yindex\": 1, \"id\": \"el9647139758665690256\", \"pathtransforms\": [[24.595492912420728, 0.0, 0.0, 24.595492912420728, 0.0, 0.0]], \"pathcoordinates\": \"display\", \"offsetcoordinates\": \"data\", \"zorder\": 1, \"xindex\": 0, \"alphas\": [0.3], \"facecolors\": [\"#6E91FF\", \"#E916FF\", \"#56A9FF\", \"#827DFF\", \"#C936FF\", \"#639CFF\", \"#9E61FF\", \"#DE20FF\", \"#F509FF\", \"#20DEFF\", \"#EF10FF\", \"#7C83FF\", \"#3EC1FF\", \"#738CFF\", \"#FD01FF\", \"#7C83FF\", \"#51AEFF\", \"#A15EFF\", \"#3AC5FF\", \"#0EF1FF\", \"#1CE3FF\", \"#1CE3FF\", \"#22DDFF\", \"#1FE0FF\", \"#A35CFF\", \"#2AD5FF\", \"#55AAFF\", \"#E718FF\", \"#7788FF\", \"#AA55FF\", \"#28D7FF\", \"#2CD2FF\", \"#05FAFF\", \"#27D8FF\", \"#44BBFF\", \"#28D6FF\", \"#12EDFF\", \"#1AE5FF\", \"#748BFF\", \"#30CEFF\", \"#59A5FF\", \"#7F80FF\", \"#B04FFF\", \"#05FAFF\", \"#CD31FF\", \"#A05FFF\", \"#10EFFF\", \"#E11EFF\", \"#ED11FF\", \"#0AF5FF\", \"#43BCFF\", \"#CF30FF\", \"#C03FFF\", \"#2BD3FF\", \"#30CEFF\", \"#5CA3FF\", \"#7985FF\", \"#9D61FF\", \"#5CA3FF\", \"#748BFF\", \"#BF40FF\", \"#04FBFF\", \"#3CC2FF\", \"#B649FF\", \"#E618FF\", \"#817EFF\", \"#8778FF\", \"#16E9FF\", \"#708FFF\", \"#8778FF\", \"#3AC5FF\", \"#41BEFF\", \"#5EA1FF\", \"#00FFFF\", \"#4FB0FF\", \"#32CDFF\", \"#51AEFF\", \"#1AE5FF\", \"#E519FF\", \"#9768FF\", \"#AD51FF\", \"#CB34FF\", \"#7E81FF\", \"#11EEFF\", \"#8877FF\", \"#9569FF\", \"#BF40FF\", \"#6C93FF\", \"#1CE3FF\", \"#45BAFF\", \"#59A5FF\", \"#A559FF\", \"#916EFF\", \"#58A7FF\", \"#FF00FF\", \"#9A65FF\", \"#38C6FF\", \"#15EAFF\", \"#23DCFF\", \"#3BC3FF\", \"#24DAFF\", \"#2BD3FF\", \"#45BAFF\", \"#28D7FF\", \"#E718FF\", \"#0FF0FF\", \"#8579FF\", \"#6798FF\", \"#FD01FF\", \"#18E7FF\", \"#639CFF\", \"#FA05FF\", \"#DF20FF\", \"#D22DFF\", \"#3EC1FF\", \"#27D8FF\", \"#AB54FF\", \"#F00FFF\", \"#8D71FF\", \"#916EFF\", \"#44BBFF\", \"#C539FF\", \"#2CD3FF\", \"#50AFFF\", \"#6995FF\", \"#807FFF\", \"#3AC5FF\", \"#19E6FF\", \"#9B64FF\", \"#46B9FF\", \"#936BFF\", \"#23DCFF\", \"#7986FF\", \"#8778FF\", \"#08F7FF\", \"#53ACFF\", \"#1EE1FF\", \"#0BF4FF\", \"#FF00FF\", \"#4FB0FF\", \"#D02FFF\", \"#3CC2FF\", \"#AE51FF\", \"#C33CFF\", \"#9768FF\", \"#7788FF\", \"#6798FF\", \"#56A9FF\", \"#F00FFF\", \"#D529FF\"]}], \"xscale\": \"linear\", \"bbox\": [0.125, 0.125, 0.77500000000000002, 0.77500000000000002]}], \"height\": 1040.0, \"width\": 1040.0, \"plugins\": [{\"type\": \"reset\"}, {\"enabled\": false, \"button\": true, \"type\": \"zoom\"}, {\"enabled\": false, \"button\": true, \"type\": \"boxzoom\"}, {\"voffset\": 10, \"labels\": [\"The Lurking Fear\", \"The Trap with Henry S. Whitehead\", \"The Music of Erich Zann\", \"Egyptian Christmas\", \"Nemesis\", \"Supernatural Horror in Literature with bibliography\", \"The Festival\", \"On Receiving a Picture of Swans\", \"The Shunned House\", \"Till A' the Seas with R. H. Barlow\", \"Tosh Bosh\", \"St. John\", \"The Disinterment with Duane W. Rimel\", \"The House\", \"Notes On Writing Weird Fiction\", \"The Rose of England\", \"The Case of Charles Dexter Ward\", \"Deaf, Dumb, and Blind with C. M. Eddy\", \"The Silver Key\", \"The Battle that Ended the Century with Robert Barlow\", \"The Night Ocean with R. H. Barlow\", \"The Conscript\", \"Dreams in the Witch-House\", \"The Crawling Chaos with Elizabeth Berkeley\", \"Ashes with C. M. Eddy\", \"The Curse of Yig with Zealia Bishop\", \"Providence\", \"Ode for July Fourth, 1917\", \"The Shadow Over Innsmouth\", \"Sweet Ermengarde by Percy Simple\", \"The Descendant\", \"The Terrible Old Man\", \"The Winged Death with Hazel Heald\", \"Facts Concerning the Late Arthur Jermyn and His Family\", \"Christmastide\", \"The Moon-Bog\", \"Beyond the Wall of Sleep\", \"The Nameless City\", \"The Poe-ets Nightmare\", \"Nyarlathotep\", \"Poetry and the Gods with Anna Helen Crofts\", \"In The Vault\", \"The Loved Dead with C. M. Eddy\", \"The Tree\", \"Cats and Dogs\", \"The Diary of Alonzo Typer with William Lumley\", \"Revelation\", \"The Book\", \"What the Moon Brings\", \"To Edward John Moreton Drax Plunkett, Eighteenth Baron Dunsany\", \"Waste Paper\", \"He\", \"The Very Old Folk\", \"The Challenge from Beyond with C. L. Moore, A. Merritt, Robert E. Howard, and Frank Belknap Long\", \"Herbert West: Reanimator\", \"The Thing on the Doorstep\", \"The Evil Clergyman\", \"The Tree on the Hill with Duane W. Rimel\", \"The Wood\", \"Lines on General Robert E. Lee\", \"From Beyond\", \"Medusa's Coil with Zealia Bishop\", \"Collapsing Cosmoses with Robert Barlow\", \"At the Mountains of Madness\", \"The Transition of Juan Romero\", \"Sunset\", \"The Dream Quest of Unknown Kadath\", \"Good Saint Nick\", \"The Tomb\", \"The Bride of the Sea\", \"Pickman's Model\", \"Cool Air\", \"The Alchemist\", \"Christmas Blessings\", \"Fact and Fancy\", \"The City\", \"Astrophobos\", \"Ibid\", \"On Reading Lord Dunsany's <i>Book of Wonder</i>\", \"The Doom That Came to Sarnath\", \"The Rats in the Walls\", \"Little Tiger\", \"Ex Oblivione\", \"Festival\", \"A Reminiscence Of Dr. Samuel Johnson\", \"The Garden\", \"Christmas Snows\", \"The Peace Advocate\", \"The Strange High House in the Mist\", \"Two Black Bottles with Wilfred Blanch Talman\", \"The Hound\", \"The Street\", \"The Messenger\", \"The Shadow Out of Time\", \"Fungi from Yuggoth\", \"The Mystery of the Grave-Yard\", \"The Mysterious Ship\", \"The Horror in the Burying Ground with Hazel Heald\", \"History of the Necronomicon\", \"Laeta; A Lament\", \"The Haunter Of The Dark\", \"Poemata Minoria, Volume II\", \"The White Ship\", \"The Green Meadow with Winifred V. Jackson\", \"The Dunwich Horror\", \"Dagon\", \"The Man of Stone with Hazel Heald\", \"The Thing in the Moonlight with J. Chapman Miske\", \"Hypnos\", \"The Horror at Red Hook\", \"The Last Test with Adolphe de Castro\", \"Memory\", \"The Allowable Rhyme\", \"The Temple\", \"Celephais\", \"The Despised Pastoral\", \"Metrical Regularity\", \"Out of the Aeons with Hazel Heald\", \"The Whisperer in Darkness\", \"Within The Walls Of Eryx with Kenneth Sterling\", \"The Horror at Martin's Beach with Sonia H. Greene\", \"The Quest of Iranon\", \"The Horror in the Museum with Hazel Heald\", \"The Beast in the Cave\", \"Hallowe'en in a Suburb\", \"The Call of Cthulhu\", \"Azathoth\", \"Polaris\", \"The Outsider\", \"The Colour Out of Space\", \"Where Once Poe Walked\", \"The Statement of Randolph Carter\", \"Through the Gates of the Silver Key with E. Hoffmann Price\", \"The Unnamable\", \"Despair\", \"The Cats of Ulthar\", \"The Mound with Zealia Bishop\", \"Old Bugs\", \"The Ghost Eater with C. M. Eddy\", \"Imprisoned with the Pharaos\", \"The Little Glass Bottle\", \"<!-- -->At the Root  <!--\", \"Halcyon Days\", \"Nathanica\", \"An American to Mother England\", \"The Electric Executioner with Adolphe de Castro\", \"The Cats\", \"The Picture in the House\", \"The Other Gods\", \"Pacifist War Song - 1917\"], \"hoffset\": 0, \"location\": \"mouse\", \"type\": \"tooltip\", \"id\": \"el9647139758665690256\"}], \"data\": {\"data01\": [[-9.36881084088503, -19.69889327376249], [-229.96723806151758, -183.89984024770604], [-26.388198632109507, 1.6633203137938795], [110.18906991068353, 130.3031741112892], [-95.46688233995992, -37.42350647273418], [-111.34342355690158, -119.9215094265241], [119.61108942294393, -74.78453164005845], [-161.36669041570383, 253.566600922103], [64.65710757606031, -84.42642054345772], [60.63628093715232, -69.81805737095571], [-35.89579514231559, 97.6466771589433], [-41.792971813688396, 140.82528098475825], [-9.045430592455329, 105.33861049017212], [-188.96666163041928, -20.047525425412758], [97.17012115074633, 4.681623865488057], [10.135929238636653, 95.2615023363353], [-115.79217695840055, -91.62809736188898], [-56.52712511902241, 88.45972698989613], [-4.772270273397881, -85.69002436337101], [-79.25025585313206, 3.9738767443017933], [-42.4786116600202, -95.39921827839218], [-182.16482923473293, 64.64698258295994], [-39.015316361172715, -1.8583901873245763], [-33.30705887187931, -86.76636754447702], [8.558319516376539, -105.54690045584493], [24.001181603405744, -5.0294348196458705], [111.00493170391898, 224.1550021557224], [67.30329587760977, -190.47715823819965], [-19.094140878463495, 33.79832551177377], [67.73231864321878, -55.70418252327959], [-29.41124729392541, -113.60358302685317], [-203.56938963188503, -217.64663788544595], [121.12960030240512, -66.92536309758782], [-29.04031923923889, 28.84024494416285], [-185.37908962032736, 198.11876027154165], [29.662728014031465, 16.627160835021613], [-56.94665481184483, -14.322275526898348], [-109.85078561363085, -20.38745837010403], [-58.967349896357234, -43.921689508315644], [38.03491670190276, 120.8287893898405], [63.98530523465039, -11.900074242432595], [-91.09182867365537, 17.172703547370126], [162.04492572322056, 21.577080651083918], [3.637035363527307, 50.662703998777005], [88.3135835616031, -40.359345603003575], [-15.30772884520215, -6.386356216591165], [-24.478100736459552, 55.01558490745353], [48.83604717881504, 188.73345747704138], [11.544859208439581, -64.40599631403155], [80.3096872948205, 83.78513350548131], [44.4246847404312, 79.9870526666108], [0.6118106380408199, 12.921280853228224], [-94.57726231949007, 142.90560800152272], [22.146609411287248, 77.07529822356823], [-98.9424602350671, 44.933306453879645], [-43.54862109388953, 53.574675164426345], [13.928642319281938, 34.02132606197131], [-35.54166210950773, -180.751846705102], [129.89639838742988, -660.5433944504757], [-81.61506016788157, 44.29160068666092], [-151.619660265334, -491.5462822211796], [77.20571786768393, 17.930864190694532], [110.04643962532633, 50.32801407105505], [33.923284404993446, 21.815862302025675], [-83.18193529931104, -25.038137805063595], [37.32444467784099, 165.55604679290866], [94.53126135903779, -162.01481773364338], [-10.38196087860178, 57.24845875807879], [-65.51374617512536, -104.67326162786419], [-4.718642462987184, 30.24444019917321], [60.19042199469662, 4.826260470821245], [-233.9417328480447, 94.68621587145479], [63.24304520342392, -26.947767343978366], [-59.60724452754677, 75.88550156459947], [25.143354869570135, 27.584097715340178], [14.885796051669177, 114.3089392455135], [-91.48894203461577, -2.0279073739678934], [122.24632288062324, 89.99767990793622], [71.89155705614428, -44.18393981891563], [7.777172288882955, -55.34048214215902], [125.23809285998483, 19.40305082767028], [52.42565219761789, 28.230895679979824], [187.0766634002242, 308.97931729969355], [-24.449010107213677, 75.37479782039382], [-83.76421070029909, 172.81090812697798], [56.15794464665857, -46.03506684579334], [86.5890396508953, -6.521767964487767], [39.78612417113598, 50.475811525642165], [-41.43735216837967, -50.40346012790285], [-47.120959641955984, -76.66932190661075], [-36.13709248716972, 37.573102920548536], [241.16920902758187, -188.39031654840372], [41.7653252515156, 92.88498968288428], [60.926812346555195, 71.83498149310466], [-62.96067627789295, -87.82834068229624], [-118.92885083804096, -61.234886820239474], [65.52815233747901, -31.361722698564908], [-44.90577911244177, -21.138101306990258], [-63.42815032545174, 22.937323896963427], [330.7337067032568, -115.96622409254098], [57.774109604208924, -113.20737238088252], [62.64624164379747, 20.14161568914212], [69.21866957618104, -98.22560082013528], [-138.1814611632361, 17.414207932070248], [-60.71664989872483, 40.985466698208164], [203.35489968106316, 102.35289442833928], [-26.8849237908695, -41.189121366944015], [-192.18700543995698, 660.2540692362207], [8.341054563402434, -97.84355694173183], [-46.806207376952955, 98.08745962267653], [233.61329072278437, -242.78259445177633], [-0.051368470821175294, 79.31933162471809], [77.14502597153361, 5.020854254139264], [-4.894370734900454, -59.765353534608735], [18.109583771439272, -23.15213708674018], [29.174148900216792, 41.41547899001135], [10.222298846707396, -29.012918510166827], [9.759754009409633, -5.498876914648965], [36.76424554061136, -18.04685039957941], [8.230915684162776, -21.23520764327613], [-124.21415788979239, 127.09168258936621], [91.65822197329055, 27.97689718212098], [92.49582043721037, 60.004949366907695], [12.824306690667424, -39.21685679619615], [-18.193337335471984, -76.44324392809985], [-15.667701876466053, 246.69478870663409], [-28.23764545300163, -65.16928131400282], [-38.850954650954385, -34.30371884356729], [111.87338273786486, 9.1409422385452], [50.212073524078086, -186.33338526425393], [-66.47463472406567, 6.76849217512923], [-14.629610169130757, -36.70460276192169], [-161.99944576726028, -41.043720858741885], [-3.2392040736224668, 0.002588743536470317], [-48.401789727485244, 34.230756936510744], [28.534826092125464, -72.64930049091512], [-61.4440407169137, -65.18867911704228], [-408.4404865027361, 452.69885994219385], [-161.65178136991653, -86.33532250256401], [-33.6107719106535, 170.21765449742617], [-40.63934457532946, 75.77490967467702], [43.710807590506164, -195.73179429440884], [-13.168542149061494, 87.6498146342783], [65.81880919814056, 52.84747253752836], [124.40359851738589, 65.55560860031919], [98.14000459715696, -27.932306139903602], [128.9347830865977, -30.797246754094143], [-101.90698223063079, -12.513684371258382], [77.89197479308827, -15.631721104364663], [62.138607595662855, -209.19217357825215]]}, \"id\": \"el9647139758774566480\"});\n",
        "      });\n",
        "    });\n",
        "}else{\n",
        "    // require.js not available: dynamically load d3 & mpld3\n",
        "    mpld3_load_lib(\"https://mpld3.github.io/js/d3.v3.min.js\", function(){\n",
        "         mpld3_load_lib(\"https://mpld3.github.io/js/mpld3.v0.3git.js\", function(){\n",
        "                 \n",
        "                 mpld3.draw_figure(\"fig_el96471397587745664806727855566\", {\"axes\": [{\"xlim\": [-500.0, 400.0], \"yscale\": \"linear\", \"axesbg\": \"#EEEEEE\", \"texts\": [{\"v_baseline\": \"auto\", \"h_anchor\": \"middle\", \"color\": \"#000000\", \"text\": \"TSNE of Lovecraft TF-IDF Data\", \"coordinates\": \"axes\", \"zorder\": 3, \"alpha\": 1, \"fontsize\": 90.0, \"position\": [0.5, 1.0068927488282327], \"rotation\": -0.0, \"id\": \"el9647139758764754192\"}], \"zoomable\": true, \"images\": [], \"xdomain\": [-500.0, 400.0], \"ylim\": [-800.0, 800.0], \"paths\": [], \"sharey\": [], \"sharex\": [], \"axesbgalpha\": null, \"axes\": [{\"scale\": \"linear\", \"tickformat\": null, \"grid\": {\"color\": \"#FFFFFF\", \"alpha\": 1.0, \"dasharray\": \"none\", \"gridOn\": true}, \"fontsize\": 10.0, \"position\": \"bottom\", \"nticks\": 10, \"tickvalues\": null}, {\"scale\": \"linear\", \"tickformat\": null, \"grid\": {\"color\": \"#FFFFFF\", \"alpha\": 1.0, \"dasharray\": \"none\", \"gridOn\": true}, \"fontsize\": 10.0, \"position\": \"left\", \"nticks\": 9, \"tickvalues\": null}], \"lines\": [], \"markers\": [], \"id\": \"el9647139758771489488\", \"ydomain\": [-800.0, 800.0], \"collections\": [{\"paths\": [[[[0.0, -0.5], [0.13260155, -0.5], [0.25978993539242673, -0.44731684579412084], [0.3535533905932738, -0.3535533905932738], [0.44731684579412084, -0.25978993539242673], [0.5, -0.13260155], [0.5, 0.0], [0.5, 0.13260155], [0.44731684579412084, 0.25978993539242673], [0.3535533905932738, 0.3535533905932738], [0.25978993539242673, 0.44731684579412084], [0.13260155, 0.5], [0.0, 0.5], [-0.13260155, 0.5], [-0.25978993539242673, 0.44731684579412084], [-0.3535533905932738, 0.3535533905932738], [-0.44731684579412084, 0.25978993539242673], [-0.5, 0.13260155], [-0.5, 0.0], [-0.5, -0.13260155], [-0.44731684579412084, -0.25978993539242673], [-0.3535533905932738, -0.3535533905932738], [-0.25978993539242673, -0.44731684579412084], [-0.13260155, -0.5], [0.0, -0.5]], [\"M\", \"C\", \"C\", \"C\", \"C\", \"C\", \"C\", \"C\", \"C\", \"Z\"]]], \"edgecolors\": [\"#000000\"], \"edgewidths\": [1.0], \"offsets\": \"data01\", \"yindex\": 1, \"id\": \"el9647139758665690256\", \"pathtransforms\": [[24.595492912420728, 0.0, 0.0, 24.595492912420728, 0.0, 0.0]], \"pathcoordinates\": \"display\", \"offsetcoordinates\": \"data\", \"zorder\": 1, \"xindex\": 0, \"alphas\": [0.3], \"facecolors\": [\"#6E91FF\", \"#E916FF\", \"#56A9FF\", \"#827DFF\", \"#C936FF\", \"#639CFF\", \"#9E61FF\", \"#DE20FF\", \"#F509FF\", \"#20DEFF\", \"#EF10FF\", \"#7C83FF\", \"#3EC1FF\", \"#738CFF\", \"#FD01FF\", \"#7C83FF\", \"#51AEFF\", \"#A15EFF\", \"#3AC5FF\", \"#0EF1FF\", \"#1CE3FF\", \"#1CE3FF\", \"#22DDFF\", \"#1FE0FF\", \"#A35CFF\", \"#2AD5FF\", \"#55AAFF\", \"#E718FF\", \"#7788FF\", \"#AA55FF\", \"#28D7FF\", \"#2CD2FF\", \"#05FAFF\", \"#27D8FF\", \"#44BBFF\", \"#28D6FF\", \"#12EDFF\", \"#1AE5FF\", \"#748BFF\", \"#30CEFF\", \"#59A5FF\", \"#7F80FF\", \"#B04FFF\", \"#05FAFF\", \"#CD31FF\", \"#A05FFF\", \"#10EFFF\", \"#E11EFF\", \"#ED11FF\", \"#0AF5FF\", \"#43BCFF\", \"#CF30FF\", \"#C03FFF\", \"#2BD3FF\", \"#30CEFF\", \"#5CA3FF\", \"#7985FF\", \"#9D61FF\", \"#5CA3FF\", \"#748BFF\", \"#BF40FF\", \"#04FBFF\", \"#3CC2FF\", \"#B649FF\", \"#E618FF\", \"#817EFF\", \"#8778FF\", \"#16E9FF\", \"#708FFF\", \"#8778FF\", \"#3AC5FF\", \"#41BEFF\", \"#5EA1FF\", \"#00FFFF\", \"#4FB0FF\", \"#32CDFF\", \"#51AEFF\", \"#1AE5FF\", \"#E519FF\", \"#9768FF\", \"#AD51FF\", \"#CB34FF\", \"#7E81FF\", \"#11EEFF\", \"#8877FF\", \"#9569FF\", \"#BF40FF\", \"#6C93FF\", \"#1CE3FF\", \"#45BAFF\", \"#59A5FF\", \"#A559FF\", \"#916EFF\", \"#58A7FF\", \"#FF00FF\", \"#9A65FF\", \"#38C6FF\", \"#15EAFF\", \"#23DCFF\", \"#3BC3FF\", \"#24DAFF\", \"#2BD3FF\", \"#45BAFF\", \"#28D7FF\", \"#E718FF\", \"#0FF0FF\", \"#8579FF\", \"#6798FF\", \"#FD01FF\", \"#18E7FF\", \"#639CFF\", \"#FA05FF\", \"#DF20FF\", \"#D22DFF\", \"#3EC1FF\", \"#27D8FF\", \"#AB54FF\", \"#F00FFF\", \"#8D71FF\", \"#916EFF\", \"#44BBFF\", \"#C539FF\", \"#2CD3FF\", \"#50AFFF\", \"#6995FF\", \"#807FFF\", \"#3AC5FF\", \"#19E6FF\", \"#9B64FF\", \"#46B9FF\", \"#936BFF\", \"#23DCFF\", \"#7986FF\", \"#8778FF\", \"#08F7FF\", \"#53ACFF\", \"#1EE1FF\", \"#0BF4FF\", \"#FF00FF\", \"#4FB0FF\", \"#D02FFF\", \"#3CC2FF\", \"#AE51FF\", \"#C33CFF\", \"#9768FF\", \"#7788FF\", \"#6798FF\", \"#56A9FF\", \"#F00FFF\", \"#D529FF\"]}], \"xscale\": \"linear\", \"bbox\": [0.125, 0.125, 0.77500000000000002, 0.77500000000000002]}], \"height\": 1040.0, \"width\": 1040.0, \"plugins\": [{\"type\": \"reset\"}, {\"enabled\": false, \"button\": true, \"type\": \"zoom\"}, {\"enabled\": false, \"button\": true, \"type\": \"boxzoom\"}, {\"voffset\": 10, \"labels\": [\"The Lurking Fear\", \"The Trap with Henry S. Whitehead\", \"The Music of Erich Zann\", \"Egyptian Christmas\", \"Nemesis\", \"Supernatural Horror in Literature with bibliography\", \"The Festival\", \"On Receiving a Picture of Swans\", \"The Shunned House\", \"Till A' the Seas with R. H. Barlow\", \"Tosh Bosh\", \"St. John\", \"The Disinterment with Duane W. Rimel\", \"The House\", \"Notes On Writing Weird Fiction\", \"The Rose of England\", \"The Case of Charles Dexter Ward\", \"Deaf, Dumb, and Blind with C. M. Eddy\", \"The Silver Key\", \"The Battle that Ended the Century with Robert Barlow\", \"The Night Ocean with R. H. Barlow\", \"The Conscript\", \"Dreams in the Witch-House\", \"The Crawling Chaos with Elizabeth Berkeley\", \"Ashes with C. M. Eddy\", \"The Curse of Yig with Zealia Bishop\", \"Providence\", \"Ode for July Fourth, 1917\", \"The Shadow Over Innsmouth\", \"Sweet Ermengarde by Percy Simple\", \"The Descendant\", \"The Terrible Old Man\", \"The Winged Death with Hazel Heald\", \"Facts Concerning the Late Arthur Jermyn and His Family\", \"Christmastide\", \"The Moon-Bog\", \"Beyond the Wall of Sleep\", \"The Nameless City\", \"The Poe-ets Nightmare\", \"Nyarlathotep\", \"Poetry and the Gods with Anna Helen Crofts\", \"In The Vault\", \"The Loved Dead with C. M. Eddy\", \"The Tree\", \"Cats and Dogs\", \"The Diary of Alonzo Typer with William Lumley\", \"Revelation\", \"The Book\", \"What the Moon Brings\", \"To Edward John Moreton Drax Plunkett, Eighteenth Baron Dunsany\", \"Waste Paper\", \"He\", \"The Very Old Folk\", \"The Challenge from Beyond with C. L. Moore, A. Merritt, Robert E. Howard, and Frank Belknap Long\", \"Herbert West: Reanimator\", \"The Thing on the Doorstep\", \"The Evil Clergyman\", \"The Tree on the Hill with Duane W. Rimel\", \"The Wood\", \"Lines on General Robert E. Lee\", \"From Beyond\", \"Medusa's Coil with Zealia Bishop\", \"Collapsing Cosmoses with Robert Barlow\", \"At the Mountains of Madness\", \"The Transition of Juan Romero\", \"Sunset\", \"The Dream Quest of Unknown Kadath\", \"Good Saint Nick\", \"The Tomb\", \"The Bride of the Sea\", \"Pickman's Model\", \"Cool Air\", \"The Alchemist\", \"Christmas Blessings\", \"Fact and Fancy\", \"The City\", \"Astrophobos\", \"Ibid\", \"On Reading Lord Dunsany's <i>Book of Wonder</i>\", \"The Doom That Came to Sarnath\", \"The Rats in the Walls\", \"Little Tiger\", \"Ex Oblivione\", \"Festival\", \"A Reminiscence Of Dr. Samuel Johnson\", \"The Garden\", \"Christmas Snows\", \"The Peace Advocate\", \"The Strange High House in the Mist\", \"Two Black Bottles with Wilfred Blanch Talman\", \"The Hound\", \"The Street\", \"The Messenger\", \"The Shadow Out of Time\", \"Fungi from Yuggoth\", \"The Mystery of the Grave-Yard\", \"The Mysterious Ship\", \"The Horror in the Burying Ground with Hazel Heald\", \"History of the Necronomicon\", \"Laeta; A Lament\", \"The Haunter Of The Dark\", \"Poemata Minoria, Volume II\", \"The White Ship\", \"The Green Meadow with Winifred V. Jackson\", \"The Dunwich Horror\", \"Dagon\", \"The Man of Stone with Hazel Heald\", \"The Thing in the Moonlight with J. Chapman Miske\", \"Hypnos\", \"The Horror at Red Hook\", \"The Last Test with Adolphe de Castro\", \"Memory\", \"The Allowable Rhyme\", \"The Temple\", \"Celephais\", \"The Despised Pastoral\", \"Metrical Regularity\", \"Out of the Aeons with Hazel Heald\", \"The Whisperer in Darkness\", \"Within The Walls Of Eryx with Kenneth Sterling\", \"The Horror at Martin's Beach with Sonia H. Greene\", \"The Quest of Iranon\", \"The Horror in the Museum with Hazel Heald\", \"The Beast in the Cave\", \"Hallowe'en in a Suburb\", \"The Call of Cthulhu\", \"Azathoth\", \"Polaris\", \"The Outsider\", \"The Colour Out of Space\", \"Where Once Poe Walked\", \"The Statement of Randolph Carter\", \"Through the Gates of the Silver Key with E. Hoffmann Price\", \"The Unnamable\", \"Despair\", \"The Cats of Ulthar\", \"The Mound with Zealia Bishop\", \"Old Bugs\", \"The Ghost Eater with C. M. Eddy\", \"Imprisoned with the Pharaos\", \"The Little Glass Bottle\", \"<!-- -->At the Root  <!--\", \"Halcyon Days\", \"Nathanica\", \"An American to Mother England\", \"The Electric Executioner with Adolphe de Castro\", \"The Cats\", \"The Picture in the House\", \"The Other Gods\", \"Pacifist War Song - 1917\"], \"hoffset\": 0, \"location\": \"mouse\", \"type\": \"tooltip\", \"id\": \"el9647139758665690256\"}], \"data\": {\"data01\": [[-9.36881084088503, -19.69889327376249], [-229.96723806151758, -183.89984024770604], [-26.388198632109507, 1.6633203137938795], [110.18906991068353, 130.3031741112892], [-95.46688233995992, -37.42350647273418], [-111.34342355690158, -119.9215094265241], [119.61108942294393, -74.78453164005845], [-161.36669041570383, 253.566600922103], [64.65710757606031, -84.42642054345772], [60.63628093715232, -69.81805737095571], [-35.89579514231559, 97.6466771589433], [-41.792971813688396, 140.82528098475825], [-9.045430592455329, 105.33861049017212], [-188.96666163041928, -20.047525425412758], [97.17012115074633, 4.681623865488057], [10.135929238636653, 95.2615023363353], [-115.79217695840055, -91.62809736188898], [-56.52712511902241, 88.45972698989613], [-4.772270273397881, -85.69002436337101], [-79.25025585313206, 3.9738767443017933], [-42.4786116600202, -95.39921827839218], [-182.16482923473293, 64.64698258295994], [-39.015316361172715, -1.8583901873245763], [-33.30705887187931, -86.76636754447702], [8.558319516376539, -105.54690045584493], [24.001181603405744, -5.0294348196458705], [111.00493170391898, 224.1550021557224], [67.30329587760977, -190.47715823819965], [-19.094140878463495, 33.79832551177377], [67.73231864321878, -55.70418252327959], [-29.41124729392541, -113.60358302685317], [-203.56938963188503, -217.64663788544595], [121.12960030240512, -66.92536309758782], [-29.04031923923889, 28.84024494416285], [-185.37908962032736, 198.11876027154165], [29.662728014031465, 16.627160835021613], [-56.94665481184483, -14.322275526898348], [-109.85078561363085, -20.38745837010403], [-58.967349896357234, -43.921689508315644], [38.03491670190276, 120.8287893898405], [63.98530523465039, -11.900074242432595], [-91.09182867365537, 17.172703547370126], [162.04492572322056, 21.577080651083918], [3.637035363527307, 50.662703998777005], [88.3135835616031, -40.359345603003575], [-15.30772884520215, -6.386356216591165], [-24.478100736459552, 55.01558490745353], [48.83604717881504, 188.73345747704138], [11.544859208439581, -64.40599631403155], [80.3096872948205, 83.78513350548131], [44.4246847404312, 79.9870526666108], [0.6118106380408199, 12.921280853228224], [-94.57726231949007, 142.90560800152272], [22.146609411287248, 77.07529822356823], [-98.9424602350671, 44.933306453879645], [-43.54862109388953, 53.574675164426345], [13.928642319281938, 34.02132606197131], [-35.54166210950773, -180.751846705102], [129.89639838742988, -660.5433944504757], [-81.61506016788157, 44.29160068666092], [-151.619660265334, -491.5462822211796], [77.20571786768393, 17.930864190694532], [110.04643962532633, 50.32801407105505], [33.923284404993446, 21.815862302025675], [-83.18193529931104, -25.038137805063595], [37.32444467784099, 165.55604679290866], [94.53126135903779, -162.01481773364338], [-10.38196087860178, 57.24845875807879], [-65.51374617512536, -104.67326162786419], [-4.718642462987184, 30.24444019917321], [60.19042199469662, 4.826260470821245], [-233.9417328480447, 94.68621587145479], [63.24304520342392, -26.947767343978366], [-59.60724452754677, 75.88550156459947], [25.143354869570135, 27.584097715340178], [14.885796051669177, 114.3089392455135], [-91.48894203461577, -2.0279073739678934], [122.24632288062324, 89.99767990793622], [71.89155705614428, -44.18393981891563], [7.777172288882955, -55.34048214215902], [125.23809285998483, 19.40305082767028], [52.42565219761789, 28.230895679979824], [187.0766634002242, 308.97931729969355], [-24.449010107213677, 75.37479782039382], [-83.76421070029909, 172.81090812697798], [56.15794464665857, -46.03506684579334], [86.5890396508953, -6.521767964487767], [39.78612417113598, 50.475811525642165], [-41.43735216837967, -50.40346012790285], [-47.120959641955984, -76.66932190661075], [-36.13709248716972, 37.573102920548536], [241.16920902758187, -188.39031654840372], [41.7653252515156, 92.88498968288428], [60.926812346555195, 71.83498149310466], [-62.96067627789295, -87.82834068229624], [-118.92885083804096, -61.234886820239474], [65.52815233747901, -31.361722698564908], [-44.90577911244177, -21.138101306990258], [-63.42815032545174, 22.937323896963427], [330.7337067032568, -115.96622409254098], [57.774109604208924, -113.20737238088252], [62.64624164379747, 20.14161568914212], [69.21866957618104, -98.22560082013528], [-138.1814611632361, 17.414207932070248], [-60.71664989872483, 40.985466698208164], [203.35489968106316, 102.35289442833928], [-26.8849237908695, -41.189121366944015], [-192.18700543995698, 660.2540692362207], [8.341054563402434, -97.84355694173183], [-46.806207376952955, 98.08745962267653], [233.61329072278437, -242.78259445177633], [-0.051368470821175294, 79.31933162471809], [77.14502597153361, 5.020854254139264], [-4.894370734900454, -59.765353534608735], [18.109583771439272, -23.15213708674018], [29.174148900216792, 41.41547899001135], [10.222298846707396, -29.012918510166827], [9.759754009409633, -5.498876914648965], [36.76424554061136, -18.04685039957941], [8.230915684162776, -21.23520764327613], [-124.21415788979239, 127.09168258936621], [91.65822197329055, 27.97689718212098], [92.49582043721037, 60.004949366907695], [12.824306690667424, -39.21685679619615], [-18.193337335471984, -76.44324392809985], [-15.667701876466053, 246.69478870663409], [-28.23764545300163, -65.16928131400282], [-38.850954650954385, -34.30371884356729], [111.87338273786486, 9.1409422385452], [50.212073524078086, -186.33338526425393], [-66.47463472406567, 6.76849217512923], [-14.629610169130757, -36.70460276192169], [-161.99944576726028, -41.043720858741885], [-3.2392040736224668, 0.002588743536470317], [-48.401789727485244, 34.230756936510744], [28.534826092125464, -72.64930049091512], [-61.4440407169137, -65.18867911704228], [-408.4404865027361, 452.69885994219385], [-161.65178136991653, -86.33532250256401], [-33.6107719106535, 170.21765449742617], [-40.63934457532946, 75.77490967467702], [43.710807590506164, -195.73179429440884], [-13.168542149061494, 87.6498146342783], [65.81880919814056, 52.84747253752836], [124.40359851738589, 65.55560860031919], [98.14000459715696, -27.932306139903602], [128.9347830865977, -30.797246754094143], [-101.90698223063079, -12.513684371258382], [77.89197479308827, -15.631721104364663], [62.138607595662855, -209.19217357825215]]}, \"id\": \"el9647139758774566480\"});\n",
        "            })\n",
        "         });\n",
        "}\n",
        "</script>"
       ],
       "metadata": {},
       "output_type": "pyout",
       "prompt_number": 44,
       "text": [
        "<IPython.core.display.HTML at 0x7f1c1f891110>"
       ]
      }
     ],
     "prompt_number": 44
    },
    {
     "cell_type": "markdown",
     "metadata": {},
     "source": [
      "We can now find the highest scored words with TF-IDF"
     ]
    },
    {
     "cell_type": "code",
     "collapsed": false,
     "input": [
      "top_collections = dict() \n",
      "for col in idf_frame.T.columns:\n",
      "    top_5 = idf_frame.T[col].order(ascending=False)[:7]\n",
      "    words = top_5.values\n",
      "    scores = top_5.index\n",
      "    top_collections[col] = [(word,score) for word,score in zip(words,scores)]\n",
      "    "
     ],
     "language": "python",
     "metadata": {},
     "outputs": [],
     "prompt_number": 202
    },
    {
     "cell_type": "markdown",
     "metadata": {},
     "source": [
      "Here is a quick summary -- Geologist William Dyer goes to __Antacrtica__ and  discovers 'horrific ruines and a dangereous secrets beyond a range of mountains higher than the Himalayas'. Professor __Lake__ discoveres an ancient race of lifeforms known as the 'Old __Ones__'. Neat right?"
     ]
    },
    {
     "cell_type": "code",
     "collapsed": false,
     "input": [
      "print 'At the Mountains of Madness'\n",
      "pd.DataFrame(top_collections['At the Mountains of Madness'], columns = ['score','word'])\n"
     ],
     "language": "python",
     "metadata": {},
     "outputs": [
      {
       "output_type": "stream",
       "stream": "stdout",
       "text": [
        "At the Mountains of Madness\n"
       ]
      },
      {
       "html": [
        "<div style=\"max-height:1000px;max-width:1500px;overflow:auto;\">\n",
        "<table border=\"1\" class=\"dataframe\">\n",
        "  <thead>\n",
        "    <tr style=\"text-align: right;\">\n",
        "      <th></th>\n",
        "      <th>score</th>\n",
        "      <th>word</th>\n",
        "    </tr>\n",
        "  </thead>\n",
        "  <tbody>\n",
        "    <tr>\n",
        "      <th>0</th>\n",
        "      <td> 0.273430</td>\n",
        "      <td>       lake</td>\n",
        "    </tr>\n",
        "    <tr>\n",
        "      <th>1</th>\n",
        "      <td> 0.249070</td>\n",
        "      <td>   danforth</td>\n",
        "    </tr>\n",
        "    <tr>\n",
        "      <th>2</th>\n",
        "      <td> 0.164639</td>\n",
        "      <td>       camp</td>\n",
        "    </tr>\n",
        "    <tr>\n",
        "      <th>3</th>\n",
        "      <td> 0.160381</td>\n",
        "      <td>  antarctic</td>\n",
        "    </tr>\n",
        "    <tr>\n",
        "      <th>4</th>\n",
        "      <td> 0.137925</td>\n",
        "      <td>       ones</td>\n",
        "    </tr>\n",
        "    <tr>\n",
        "      <th>5</th>\n",
        "      <td> 0.119138</td>\n",
        "      <td> sculptures</td>\n",
        "    </tr>\n",
        "    <tr>\n",
        "      <th>6</th>\n",
        "      <td> 0.114651</td>\n",
        "      <td>    pabodie</td>\n",
        "    </tr>\n",
        "  </tbody>\n",
        "</table>\n",
        "</div>"
       ],
       "metadata": {},
       "output_type": "pyout",
       "prompt_number": 215,
       "text": [
        "      score        word\n",
        "0  0.273430        lake\n",
        "1  0.249070    danforth\n",
        "2  0.164639        camp\n",
        "3  0.160381   antarctic\n",
        "4  0.137925        ones\n",
        "5  0.119138  sculptures\n",
        "6  0.114651     pabodie"
       ]
      }
     ],
     "prompt_number": 215
    },
    {
     "cell_type": "markdown",
     "metadata": {},
     "source": [
      "Quick summary of Call of Cthulhu -The texts narrator 'recounts his discovery of notes left behind by his __uncle__', and linguistics __professor__. People are dreamin' super scary dreams artists are making super scary art. One artists ,__Wilcox__, creates a horrible bas-relief sculpture \"which the narrator describes: 'My somewhat extravagant imagination yielded simultaneous pictures of an octopus, a dragon, and a human caricature.... A pulpy, tentacled head surmounted a grotesque and scaly body with rudimentary wings'\"We begin to also hear the tale of inspector __Legrasse__ about a  statuette composed of an unidentifiable greenish-black stone, 'captured some months before in the wooded swamps south of New Orleans during a raid on a supposed voodoo [__cult__] meeting'\". The tale crescendos with the account of a derelict ship of which the only survivor is __johansen__.  Johansen and ilk land on ancient city raised from the bottom of the sea, open a  \"monstrously carven portal\",\n",
      "\n",
      "they release __Cthulhu__: \"It lumbered slobberingly into sight and gropingly squeezed Its gelatinous green immensity through the black doorway.... The stars were right again, and what an age-old cult had failed to do by design, a band of innocent sailors had done by accident. After vigintillions of years great Cthulhu was loose again, and ravening for delight\".\n",
      "\n",
      "##\"Ph'nglui Mglw'nafh Cthulhu R'lyeh wgah'nagl fhtagn.\" ##\n",
      "##\"In his house at R'lyeh dead Cthulhu waits dreaming.\"##"
     ]
    },
    {
     "cell_type": "code",
     "collapsed": false,
     "input": [
      "print 'The Call of Cthulu Most important terms'\n",
      "pd.DataFrame(top_collections['The Call of Cthulhu'], columns = ['score','word'])"
     ],
     "language": "python",
     "metadata": {},
     "outputs": [
      {
       "output_type": "stream",
       "stream": "stdout",
       "text": [
        "The Call of Cthulu Most important terms\n"
       ]
      },
      {
       "html": [
        "<div style=\"max-height:1000px;max-width:1500px;overflow:auto;\">\n",
        "<table border=\"1\" class=\"dataframe\">\n",
        "  <thead>\n",
        "    <tr style=\"text-align: right;\">\n",
        "      <th></th>\n",
        "      <th>score</th>\n",
        "      <th>word</th>\n",
        "    </tr>\n",
        "  </thead>\n",
        "  <tbody>\n",
        "    <tr>\n",
        "      <th>0</th>\n",
        "      <td> 0.286603</td>\n",
        "      <td>  johansen</td>\n",
        "    </tr>\n",
        "    <tr>\n",
        "      <th>1</th>\n",
        "      <td> 0.244143</td>\n",
        "      <td>  legrasse</td>\n",
        "    </tr>\n",
        "    <tr>\n",
        "      <th>2</th>\n",
        "      <td> 0.235357</td>\n",
        "      <td>    wilcox</td>\n",
        "    </tr>\n",
        "    <tr>\n",
        "      <th>3</th>\n",
        "      <td> 0.220552</td>\n",
        "      <td>      cult</td>\n",
        "    </tr>\n",
        "    <tr>\n",
        "      <th>4</th>\n",
        "      <td> 0.220257</td>\n",
        "      <td> professor</td>\n",
        "    </tr>\n",
        "    <tr>\n",
        "      <th>5</th>\n",
        "      <td> 0.190151</td>\n",
        "      <td>     uncle</td>\n",
        "    </tr>\n",
        "    <tr>\n",
        "      <th>6</th>\n",
        "      <td> 0.165193</td>\n",
        "      <td>   cthulhu</td>\n",
        "    </tr>\n",
        "  </tbody>\n",
        "</table>\n",
        "</div>"
       ],
       "metadata": {},
       "output_type": "pyout",
       "prompt_number": 214,
       "text": [
        "      score       word\n",
        "0  0.286603   johansen\n",
        "1  0.244143   legrasse\n",
        "2  0.235357     wilcox\n",
        "3  0.220552       cult\n",
        "4  0.220257  professor\n",
        "5  0.190151      uncle\n",
        "6  0.165193    cthulhu"
       ]
      }
     ],
     "prompt_number": 214
    },
    {
     "cell_type": "code",
     "collapsed": false,
     "input": [],
     "language": "python",
     "metadata": {},
     "outputs": []
    }
   ],
   "metadata": {}
  }
 ]
}